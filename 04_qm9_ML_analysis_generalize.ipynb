{
 "cells": [
  {
   "cell_type": "code",
   "execution_count": null,
   "id": "c7c0172d-ad8e-42f8-b796-b4ec7833e33e",
   "metadata": {},
   "outputs": [],
   "source": [
    "%load_ext autoreload\n",
    "%autoreload 2\n",
    "%config Completer.use_jedi = False"
   ]
  },
  {
   "cell_type": "code",
   "execution_count": null,
   "id": "f387788b-c16a-45d2-8e70-e309ca3b944d",
   "metadata": {},
   "outputs": [],
   "source": [
    "from datetime import datetime\n",
    "from pathlib import Path\n",
    "import pickle\n",
    "import sys\n",
    "import numpy as np\n",
    "from tqdm import tqdm\n",
    "from scipy.stats import sem\n",
    "from matplotlib.colors import Normalize \n",
    "from scipy.interpolate import interpn\n",
    "from IPython.display import clear_output\n",
    "\n",
    "import matplotlib.pyplot as plt\n",
    "from pymatgen.core.structure import Molecule"
   ]
  },
  {
   "cell_type": "code",
   "execution_count": null,
   "id": "ab130d4f-c85e-4657-8b5f-5495d56be4d9",
   "metadata": {},
   "outputs": [],
   "source": [
    "# https://gist.github.com/x94carbone/f5201b1c44963ff9453b9cc1d5f768ac\n",
    "sys.path.append(str(Path.home() / Path(\"local\")))\n",
    "from mpl_utils import MPLAdjutant\n",
    "adj = MPLAdjutant()\n",
    "adj.set_defaults()"
   ]
  },
  {
   "cell_type": "code",
   "execution_count": null,
   "id": "945382f5-6da2-4393-b5e7-2d4dc9a22245",
   "metadata": {},
   "outputs": [],
   "source": [
    "import json\n",
    "\n",
    "def save_json(d, path):\n",
    "    with open(path, 'w') as outfile:\n",
    "        json.dump(d, outfile, indent=4, sort_keys=True)\n",
    "\n",
    "def read_json(path):\n",
    "    with open(path, 'r') as infile:\n",
    "        dat = json.load(infile)\n",
    "    return dat"
   ]
  },
  {
   "cell_type": "markdown",
   "id": "1ecad749-6306-40bf-bb70-d9e5f7378648",
   "metadata": {},
   "source": [
    "Append the `home` path of this project."
   ]
  },
  {
   "cell_type": "code",
   "execution_count": null,
   "id": "ec7316d8-4839-49ba-9dfd-7afe6963313b",
   "metadata": {},
   "outputs": [],
   "source": [
    "# https://stackoverflow.com/questions/20105364/how-can-i-make-a-scatter-plot-colored-by-density-in-matplotlib\n",
    "def density_scatter(x, y, ax, sort=True, bins=20, **kwargs):\n",
    "    \"\"\"\n",
    "    Scatter plot colored by 2d histogram\n",
    "    \"\"\"\n",
    "\n",
    "    data , x_e, y_e = np.histogram2d( x, y, bins = bins, density = True )\n",
    "    z = interpn( ( 0.5*(x_e[1:] + x_e[:-1]) , 0.5*(y_e[1:]+y_e[:-1]) ) , data , np.vstack([x,y]).T , method = \"splinef2d\", bounds_error = False)\n",
    "\n",
    "    #To be sure to plot all data\n",
    "    z[np.where(np.isnan(z))] = 0.0\n",
    "\n",
    "    # Sort the points by density, so that the densest points are plotted last\n",
    "    if sort :\n",
    "        idx = z.argsort()\n",
    "        x, y, z = x[idx], y[idx], z[idx]\n",
    "\n",
    "    ax.scatter(x, y, c=z, **kwargs)\n",
    "\n",
    "    # norm = Normalize(vmin = np.min(z), vmax = np.max(z))\n",
    "    # cbar = fig.colorbar(cm.ScalarMappable(norm = norm), ax=ax)\n",
    "    # cbar.ax.set_ylabel('Density')\n",
    "\n",
    "    return ax\n",
    "\n",
    "\n",
    "def get_molecular_spectra(pred, gt, origin_smiles):\n",
    "    # pred, gt = load_data(atom_type)\n",
    "    # origin_smiles = data[atom_type][\"test\"][\"origin_smiles\"]\n",
    "    \n",
    "    index_dict = dict()\n",
    "    for ii, smile in enumerate(origin_smiles):\n",
    "        try:\n",
    "            index_dict[smile].append(ii)\n",
    "        except KeyError:\n",
    "            index_dict[smile] = [ii]\n",
    "    \n",
    "    # Molecular spectrum ground truth\n",
    "    molecular_smiles = []\n",
    "    molecular_gt = []\n",
    "    molecular_preds = []\n",
    "    molecular_spreads = []\n",
    "    for smile, list_of_idx in tqdm(index_dict.items()):\n",
    "        list_of_idx = np.array(list_of_idx)\n",
    "        molecular_smiles.append(smile)\n",
    "        molecular_gt.append(gt[list_of_idx, :].mean(axis=0))\n",
    "        \n",
    "        # This is a [E x N_atoms_in_molecule x M] array\n",
    "        ensemble_predictions = pred[:, list_of_idx, :]\n",
    "        mu = ensemble_predictions.mean(axis=0)\n",
    "        sd = ensemble_predictions.std(axis=0)  # [N_atoms... x M]\n",
    "        N_atoms = sd.shape[0]\n",
    "        \n",
    "        # Average is just the average\n",
    "        molecular_preds.append(mu.mean(axis=0))\n",
    "        \n",
    "        # Std requires propagation of error\n",
    "        # sigma_f = sqrt(sigma_1^2 + sigma_2^2 + ...) / N\n",
    "        molecular_spreads.append(np.sqrt((sd**2).sum(axis=0)) / N_atoms)\n",
    "    \n",
    "    return molecular_smiles, np.array(molecular_gt), np.array(molecular_preds), np.array(molecular_spreads)"
   ]
  },
  {
   "cell_type": "markdown",
   "id": "962c0676-04b5-4ce6-a2e3-9e565a5cdb99",
   "metadata": {},
   "source": [
    "# Load the data and trained ensembles"
   ]
  },
  {
   "cell_type": "code",
   "execution_count": null,
   "id": "fa7ab921-c3e2-4591-b712-8fb3e659ab67",
   "metadata": {},
   "outputs": [],
   "source": [
    "def load_trained_ensembles(ensemble_root_path=\"Ensembles\", atom_types=[\"C\", \"N\", \"O\"], n_atoms=[5, 6, 7, 8]):\n",
    "    ensembles = dict()\n",
    "    for atom_type in atom_types:\n",
    "        ensembles[atom_type] = dict()\n",
    "        for n_atom in n_atoms:\n",
    "            ensemble_path = f\"{ensemble_root_path}/XANES-220711-ACSF-{atom_type}-TRAIN-ATMOST-{n_atom}-TOTAL-ATOMS/0.9/ensemble.json\"\n",
    "            ensembles[atom_type][n_atom] = Ensemble.from_dict(read_json(ensemble_path))\n",
    "    return ensembles\n",
    "\n",
    "def load_data():\n",
    "    \n",
    "    # Just used for testing!\n",
    "    return {\n",
    "        \"C\": pickle.load(open(\"data/qm9/ml_ready/by_total_atoms/XANES-220711-ACSF-C-TRAIN-ATMOST-5-TOTAL-ATOMS.pkl\", \"rb\")),\n",
    "        \"N\": pickle.load(open(\"data/qm9/ml_ready/by_total_atoms/XANES-220711-ACSF-N-TRAIN-ATMOST-5-TOTAL-ATOMS.pkl\", \"rb\")),\n",
    "        \"O\": pickle.load(open(\"data/qm9/ml_ready/by_total_atoms/XANES-220711-ACSF-O-TRAIN-ATMOST-5-TOTAL-ATOMS.pkl\", \"rb\"))\n",
    "    }"
   ]
  },
  {
   "cell_type": "code",
   "execution_count": null,
   "id": "af002061-1be5-4bdb-bdbc-d81b28aa640c",
   "metadata": {},
   "outputs": [],
   "source": [
    "data = load_data()"
   ]
  },
  {
   "cell_type": "code",
   "execution_count": null,
   "id": "359ada67-ef9c-41dc-8075-6ef694014e68",
   "metadata": {},
   "outputs": [],
   "source": [
    "from xas_nne.ml import Ensemble"
   ]
  },
  {
   "cell_type": "code",
   "execution_count": null,
   "id": "ac99f198-f58d-4036-9a55-0b89f4150bfe",
   "metadata": {},
   "outputs": [],
   "source": [
    "ensembles = load_trained_ensembles()"
   ]
  },
  {
   "cell_type": "markdown",
   "id": "727f07db-ea31-459a-b4f1-3fb63e248e73",
   "metadata": {
    "tags": []
   },
   "source": [
    "# Evaluate the ensemble effectiveness on the generalization test data"
   ]
  },
  {
   "cell_type": "markdown",
   "id": "850d3f72-542f-423a-93a2-9212c186068b",
   "metadata": {},
   "source": [
    "## Get the results compiled"
   ]
  },
  {
   "cell_type": "code",
   "execution_count": null,
   "id": "309a855e-4cfc-489a-bc3e-564e89604bd7",
   "metadata": {},
   "outputs": [],
   "source": [
    "n_training_atoms = [5, 6, 7, 8]"
   ]
  },
  {
   "cell_type": "code",
   "execution_count": null,
   "id": "a5be37ec-83da-4e41-90ac-911a1a8ed144",
   "metadata": {},
   "outputs": [],
   "source": [
    "ATOMS = [\"C\", \"N\", \"O\"]"
   ]
  },
  {
   "cell_type": "markdown",
   "id": "bc0220e4-a41d-4a20-baf6-1d218c45c19f",
   "metadata": {},
   "source": [
    "Each `preds[atom_type][downsample]` is of the shape `(N_ensemble, N_examples, M)`. These predictions are masked `numpy` arrays, where the mask values correspond to outlier predictions (relative to other estimators), or totally unphysical ones."
   ]
  },
  {
   "cell_type": "code",
   "execution_count": null,
   "id": "3d1952a7-6aa0-4b80-b265-455dcd5ab112",
   "metadata": {
    "tags": []
   },
   "outputs": [],
   "source": [
    "# path = Path(\"Ensembles/preds-gen-downsample-5.pkl\")\n",
    "# if path.exists():\n",
    "#     print(f\"loading from path {path}\")\n",
    "#     preds = pickle.load(open(path, \"rb\"))\n",
    "# else:\n",
    "#     preds = {\n",
    "#         atom_type: {\n",
    "#             n_atoms: ensembles[atom_type][n_atoms].predict_filter_outliers(\n",
    "#                 data[atom_type][\"test\"][\"x\"][::5, :],\n",
    "#                 sd_mult=2.0,\n",
    "#                 threshold=0.7,\n",
    "#                 max_spectra_value=20.0\n",
    "#             )\n",
    "#             for n_atoms in n_training_atoms\n",
    "#         } for atom_type in ATOMS\n",
    "#     }\n",
    "#     clear_output()\n",
    "#     pickle.dump(preds, open(path, \"wb\"), protocol=pickle.HIGHEST_PROTOCOL)"
   ]
  },
  {
   "cell_type": "code",
   "execution_count": null,
   "id": "a1b0111c-812d-4238-8980-51db94898283",
   "metadata": {},
   "outputs": [],
   "source": [
    "ground_truths = {\n",
    "    atom_type: data[atom_type][\"test\"][\"y\"] for atom_type in ATOMS\n",
    "}"
   ]
  },
  {
   "cell_type": "code",
   "execution_count": null,
   "id": "f0418570-14b2-4d0b-8fcf-18bd6571ef41",
   "metadata": {},
   "outputs": [],
   "source": [
    "# path = Path(\"Ensembles/gt-gen-downsample-5.pkl\")\n",
    "# if path.exists():\n",
    "#     print(f\"loading from path {path}\")\n",
    "#     ground_truths = pickle.load(open(path, \"rb\"))\n",
    "# else:\n",
    "#     ground_truths = {\n",
    "#         atom_type: data[atom_type][\"test\"][\"y\"][::5, :] for atom_type in ATOMS\n",
    "#     }\n",
    "#     pickle.dump(ground_truths, open(path, \"wb\"), protocol=pickle.HIGHEST_PROTOCOL)"
   ]
  },
  {
   "cell_type": "code",
   "execution_count": null,
   "id": "e054e1c5-23c9-4ac8-95ac-1107ea1cc809",
   "metadata": {},
   "outputs": [],
   "source": [
    "grids = {atom_type: data[atom_type][\"train\"][\"grid\"] for atom_type in ATOMS}"
   ]
  },
  {
   "cell_type": "code",
   "execution_count": null,
   "id": "bf1ab222-d1a7-461e-9fe2-5184951a9d93",
   "metadata": {
    "tags": []
   },
   "outputs": [],
   "source": [
    "fname = Path(\"molecule_results.pkl\")\n",
    "if fname.exists():\n",
    "    print(f\"{fname} exists\")\n",
    "    results = pickle.load(open(fname, \"rb\"))\n",
    "else:\n",
    "    results = dict()\n",
    "    for atom_type in ATOMS:\n",
    "        results[atom_type] = dict()\n",
    "        for n_atoms in n_training_atoms:\n",
    "            pred = ensembles[atom_type][n_atoms].predict_filter_outliers(\n",
    "                data[atom_type][\"test\"][\"x\"],\n",
    "                sd_mult=2.0,\n",
    "                threshold_sd=0.7,\n",
    "                max_spectra_value=20.0,\n",
    "                threshold_zero=0.5,\n",
    "                min_spectra_value=0.05,\n",
    "            )\n",
    "            molecular_smiles, molecular_gt, molecular_preds, molecular_spreads = get_molecular_spectra(\n",
    "                pred, ground_truths[atom_type], data[atom_type][\"test\"][\"origin_smiles\"]\n",
    "            )\n",
    "            results[atom_type][n_atoms] = dict()\n",
    "            results[atom_type][n_atoms][\"molecular_smiles\"] = molecular_smiles\n",
    "            results[atom_type][n_atoms][\"molecular_gt\"] = molecular_gt\n",
    "            results[atom_type][n_atoms][\"molecular_preds\"] = molecular_preds\n",
    "            results[atom_type][n_atoms][\"molecular_spreads\"] = molecular_spreads\n",
    "\n",
    "    pickle.dump(results, open(fname, \"wb\"), protocol=pickle.HIGHEST_PROTOCOL)\n",
    "    pass"
   ]
  },
  {
   "cell_type": "code",
   "execution_count": null,
   "id": "9092cd03-40d4-4e36-b253-bd246d94cf3a",
   "metadata": {},
   "outputs": [],
   "source": [
    "errors = {\n",
    "    atom_type: {\n",
    "        n_atoms: np.abs(results[atom_type][n_atoms][\"molecular_gt\"] - results[atom_type][n_atoms][\"molecular_preds\"])\n",
    "        for n_atoms in n_training_atoms\n",
    "    }\n",
    "    for atom_type in ATOMS\n",
    "}"
   ]
  },
  {
   "cell_type": "code",
   "execution_count": null,
   "id": "0b183c6b-f652-4ea5-bb8e-b00f13b5a01e",
   "metadata": {},
   "outputs": [],
   "source": [
    "errors[\"C\"][5].shape"
   ]
  },
  {
   "cell_type": "code",
   "execution_count": null,
   "id": "9686f382-c98b-4e62-a35f-08bf494ed5ec",
   "metadata": {},
   "outputs": [],
   "source": [
    "C_x = [437, 2503, 15424, 102253]\n",
    "C_errors = [errors[\"C\"][n].mean() for n in n_training_atoms]\n",
    "\n",
    "N_x = [88, 521, 2938, 18039]\n",
    "N_errors = [errors[\"N\"][n].mean() for n in n_training_atoms]\n",
    "\n",
    "O_x = [113, 626, 3682, 23305]\n",
    "O_errors = [errors[\"O\"][n].mean() for n in n_training_atoms]"
   ]
  },
  {
   "cell_type": "code",
   "execution_count": null,
   "id": "b21ff343-f0b1-4387-acbb-e572d1d65845",
   "metadata": {},
   "outputs": [],
   "source": [
    "fig, ax = plt.subplots(1, 1, figsize=(3, 2))\n",
    "\n",
    "ax.plot(np.log10(C_x), np.array(C_errors) * 100.0, \"ko-\", label=r\"$\\mathrm{C}$\")\n",
    "ax.plot(np.log10(N_x), np.array(N_errors) * 100.0, \"bo-\", label=r\"$\\mathrm{N}$\")\n",
    "ax.plot(np.log10(O_x), np.array(O_errors) * 100.0, \"ro-\", label=r\"$\\mathrm{O}$\")\n",
    "\n",
    "\n",
    "ax.set_xlabel(r\"$\\log_{10} N_\\mathrm{train}$\")\n",
    "ax.set_ylabel(r\"$100\\varepsilon(N_\\mathrm{train})$\")\n",
    "\n",
    "ax.set_yticks([2, 8, 14])\n",
    "\n",
    "adj.set_xlim(ax, 2, 5, threshold=0.05)\n",
    "adj.set_ylim(ax, 2, 14, threshold=0.05)\n",
    "\n",
    "adj.set_grids(ax, grid=False)\n",
    "\n",
    "ax.legend(frameon=False)\n",
    "\n",
    "# plt.show()\n",
    "plt.savefig(\"Figures/qm9_scaling_M.svg\", bbox_inches=\"tight\", dpi=300)"
   ]
  },
  {
   "cell_type": "markdown",
   "id": "d8131beb-ad3a-46d0-974a-453664d78ff4",
   "metadata": {
    "jp-MarkdownHeadingCollapsed": true,
    "tags": []
   },
   "source": [
    "## Plot the average errors $\\varepsilon$ for each atom type"
   ]
  },
  {
   "cell_type": "code",
   "execution_count": null,
   "id": "bd5da9cc-8d46-4bff-874e-c830eb5057a5",
   "metadata": {},
   "outputs": [],
   "source": [
    "fig, ax = plt.subplots(1, 1, figsize=(3, 1.5))\n",
    "\n",
    "colors = {\"C\": \"black\", \"N\": \"blue\", \"O\": \"red\"}\n",
    "\n",
    "for atom_type in ATOMS:\n",
    "    e = []\n",
    "    for n_atom in n_training_atoms:\n",
    "        e.append(errors[atom_type][n_atom].mean())\n",
    "    e = np.array(e) * 100\n",
    "    ax.plot([5, 6, 7, 8], e, marker=\"o\", color=colors[atom_type], label=atom_type)\n",
    "    \n",
    "adj.set_grids(ax, grid=False)\n",
    "ax.legend(frameon=False)\n",
    "# ax.set_xticks([0.1, 0.5, 0.9])\n",
    "ax.set_ylim(2, 16)\n",
    "adj.set_ylim(ax, 2, 16)\n",
    "ax.tick_params(axis=\"x\", which=\"minor\", top=False, bottom=False)\n",
    "ax.set_xlabel(\"$|\\mathcal{M}|$\")\n",
    "ax.set_ylabel(r\"$100\\varepsilon(|\\mathcal{M}|)$\")\n",
    "ax.set_yticks([2, 9, 16])\n",
    "\n",
    "# plt.show()\n",
    "plt.savefig(\"Figures/qm9_generalized_epsilon.svg\", bbox_inches=\"tight\", dpi=300)"
   ]
  },
  {
   "cell_type": "markdown",
   "id": "4981df19-55a5-4f1d-968b-e52150bbf888",
   "metadata": {
    "jp-MarkdownHeadingCollapsed": true,
    "tags": []
   },
   "source": [
    "## Plot some examples"
   ]
  },
  {
   "cell_type": "markdown",
   "id": "cf826f90-eede-4fd2-94af-9876a290d07b",
   "metadata": {},
   "source": [
    "Sort by the errors."
   ]
  },
  {
   "cell_type": "code",
   "execution_count": null,
   "id": "081eebfa-13dc-40c7-9454-4dbe40276a17",
   "metadata": {},
   "outputs": [],
   "source": [
    "atom_type = \"C\"\n",
    "n_atoms = 8"
   ]
  },
  {
   "cell_type": "code",
   "execution_count": null,
   "id": "f96e7a11-26fd-45ef-889c-dd377bf128ee",
   "metadata": {},
   "outputs": [],
   "source": [
    "argsorted = np.argsort( errors[atom_type][n_atoms].mean(axis=-1) )"
   ]
  },
  {
   "cell_type": "markdown",
   "id": "627e1577-561a-4508-aaba-2f3540cdb950",
   "metadata": {},
   "source": [
    "Decide on an example and plot it."
   ]
  },
  {
   "cell_type": "code",
   "execution_count": null,
   "id": "f0525100-99a9-41ce-b754-e8a8b85fdc44",
   "metadata": {},
   "outputs": [],
   "source": [
    "predicted_spectra = preds[atom_type][n_atoms].copy()\n",
    "ground_truth_spectra = ground_truths[atom_type].copy()"
   ]
  },
  {
   "cell_type": "code",
   "execution_count": null,
   "id": "fb66f1a2-1fca-4ec6-971c-5cd0b8316480",
   "metadata": {},
   "outputs": [],
   "source": [
    "ii = 1002\n",
    "ii = argsorted[ii]\n",
    "\n",
    "predicted_spectra = preds[atom_type][n_atoms][:, ii, :]\n",
    "ground_truth_spectra = ground_truths[atom_type][ii, :]\n",
    "\n",
    "mu = predicted_spectra.mean(axis=0)\n",
    "sd = predicted_spectra.std(axis=0)\n",
    "# cond = (predicted_spectra > mu + 3 * sd) | (predicted_spectra < mu - 3 * sd)\n",
    "# where_keep = np.where(cond.sum(axis=1) < 150)[0]\n",
    "# predicted_spectra = predicted_spectra[where_keep, :]\n",
    "# mu = predicted_spectra.mean(axis=0)\n",
    "# sd = predicted_spectra.std(axis=0)\n",
    "\n",
    "fig, ax = plt.subplots(1, 1, figsize=(3, 2))\n",
    "\n",
    "print(data[atom_type][\"test\"][\"origin_smiles\"][ii])\n",
    "\n",
    "ax.plot(grids[atom_type], ground_truth_spectra, \"k-\")\n",
    "\n",
    "for prediction in predicted_spectra:\n",
    "    ax.plot(grids[atom_type], prediction, 'r-', linewidth=0.5, alpha=0.5)\n",
    "\n",
    "ax.plot(grids[atom_type], mu, \"r-\")\n",
    "ax.fill_between(grids[atom_type], mu - sd * 3, mu + sd * 3, alpha=0.4, color=\"red\", linewidth=0)\n",
    "\n",
    "err = np.mean(np.abs(ground_truth_spectra - mu))\n",
    "print(f\"{np.log10(err):.02f}\")\n",
    "\n",
    "plt.show()\n"
   ]
  },
  {
   "cell_type": "markdown",
   "id": "0d72cd44-f1db-47c3-8495-ed5a321806b3",
   "metadata": {
    "jp-MarkdownHeadingCollapsed": true,
    "tags": []
   },
   "source": [
    "## Error histograms"
   ]
  },
  {
   "cell_type": "code",
   "execution_count": null,
   "id": "0bbd158f-9450-4028-8697-5beb2501cee2",
   "metadata": {},
   "outputs": [],
   "source": [
    "from matplotlib import cm"
   ]
  },
  {
   "cell_type": "code",
   "execution_count": null,
   "id": "4b6d04c6-ef6c-4c99-929c-9ed2f25c99dd",
   "metadata": {},
   "outputs": [],
   "source": [
    "cmap = cm.get_cmap(\"viridis\", 4)"
   ]
  },
  {
   "cell_type": "code",
   "execution_count": null,
   "id": "f163b4f4-f43a-4a5a-af84-4094d082a21b",
   "metadata": {},
   "outputs": [],
   "source": [
    "fig, axs = plt.subplots(1, 3, figsize=(6, 6/3/1.6))\n",
    "\n",
    "for ii, (ax, atom_type) in enumerate(zip(axs, [\"C\", \"N\", \"O\"])):\n",
    "    \n",
    "    ax.set_title(atom_type)\n",
    "\n",
    "    for jj, (n_atom, alpha) in enumerate(zip([5, 6, 7, 8], [1.0, 0.9, 0.8, 0.7])):\n",
    "        \n",
    "        color = cmap(jj)\n",
    "        \n",
    "        # Get the data\n",
    "        pred = results[atom_type][n_atom][\"molecular_preds\"].copy()\n",
    "        gt = results[atom_type][n_atom][\"molecular_gt\"].copy()\n",
    "        gt[gt < 0.0] = 0.0\n",
    "\n",
    "        # Ensemble error itself\n",
    "        ensemble_err = np.mean(np.abs(pred - gt), axis=1)\n",
    "        log_ensemble_err = np.log10(ensemble_err)\n",
    "\n",
    "        # Average testing set error as a baseline\n",
    "        average_spectrum_in_testing_set = np.mean(gt, axis=0)\n",
    "        dummy_testing_set_error = np.log10(np.mean(np.abs(average_spectrum_in_testing_set - gt)))\n",
    "        ax.axvline(dummy_testing_set_error, color=\"blue\", linestyle=\"--\", linewidth=0.5, zorder=0)\n",
    "\n",
    "        # Plot\n",
    "        bins = [0.2 - ii * 0.05 for ii in range(50)][::-1]\n",
    "        ax.hist(log_ensemble_err, bins=bins, color=color, alpha=alpha, label=n_atom if ii == 1 else None)\n",
    "        t = ax.text(0.9, 0.4, r\"$%.02f$\" % dummy_testing_set_error, color=\"blue\", ha=\"right\", va=\"center\", transform=ax.transAxes, fontsize=8)\n",
    "        t.set_bbox(dict(facecolor='white', alpha=1, edgecolor='white'))\n",
    "    \n",
    "    # Fine tuning\n",
    "    adj.set_grids(ax, grid=False)\n",
    "    ax.set_yticklabels([])\n",
    "    ax.set_xticks([-3, -2, -1, 0])\n",
    "    adj.set_xlim(ax, -3, 0)\n",
    "    \n",
    "    if ii == 0:  # Carbon\n",
    "        val = 10000\n",
    "        ax.text(0.1, 0.8, val, ha=\"left\", va=\"center\", transform=ax.transAxes, color=\"gray\") \n",
    "    elif ii == 1:  # Nitrogen\n",
    "        val = 5000\n",
    "        ax.text(0.1, 0.8, val, ha=\"left\", va=\"center\", transform=ax.transAxes, color=\"gray\") \n",
    "    else:  # Oxygen\n",
    "        val = 6000\n",
    "        ax.text(0.1, 0.8, val, ha=\"left\", va=\"center\", transform=ax.transAxes, color=\"gray\") \n",
    "\n",
    "    ax.axhline(val, color=\"gray\", linestyle=\"--\", linewidth=0.5, zorder=0)\n",
    "        \n",
    "axs[1].set_xlabel(r\"$\\log_{10} \\varepsilon^{(\\mathcal{M})}$\")\n",
    "axs[0].set_ylabel(\"Counts\")\n",
    "axs[1].legend(frameon=False, loc=\"center left\", fontsize=10)\n",
    "\n",
    "plt.subplots_adjust(wspace=0.1)\n",
    "\n",
    "# plt.savefig(\"Figures/qm9_generalize_hists.svg\", bbox_inches=\"tight\", dpi=300)\n",
    "# needs post-processing on InkScape\n",
    "# clear_output()\n",
    "plt.show()"
   ]
  },
  {
   "cell_type": "markdown",
   "id": "c40a85fd-b095-4292-afaa-5e29d4b728f2",
   "metadata": {
    "jp-MarkdownHeadingCollapsed": true,
    "tags": []
   },
   "source": [
    "## Plot the correlation between error and std"
   ]
  },
  {
   "cell_type": "code",
   "execution_count": null,
   "id": "3f6bb699-0e67-4cd5-b43a-a3ac603bbb98",
   "metadata": {
    "tags": []
   },
   "outputs": [],
   "source": [
    "# fig, axs = plt.subplots(len(downsample_values), len(ATOMS), figsize=(6, 2), sharex=True, sharey=True)\n",
    "fig, axs = plt.subplots(1, len(ATOMS), figsize=(6, 2), sharex=True, sharey=True)\n",
    "\n",
    "bins_map = {\"C\": 70, \"N\": 30, \"O\": 50}\n",
    "\n",
    "n_atom = 7\n",
    "\n",
    "debug = None\n",
    "    \n",
    "for ii, atom_type in enumerate(ATOMS):\n",
    "    \n",
    "    # Get the predictions\n",
    "    pred = results[atom_type][n_atom][\"molecular_preds\"].copy()\n",
    "    gt = results[atom_type][n_atom][\"molecular_gt\"].copy()\n",
    "    gt[gt < 0] = 0.0\n",
    "    \n",
    "    # Pointwise\n",
    "    ensemble_pointwise_err = np.abs(gt - pred).flatten()\n",
    "    ensemble_pointwise_std = results[atom_type][n_atom][\"molecular_spreads\"].copy().flatten()\n",
    "\n",
    "    ax = axs[ii]\n",
    "    ax.set_title(atom_type)\n",
    "\n",
    "    y = np.log10(ensemble_pointwise_err[::debug])\n",
    "    x = np.log10(ensemble_pointwise_std[::debug])\n",
    "    ax = density_scatter(x, y, ax=ax, sort=True, bins=bins_map[atom_type], s=0.4, alpha=1, rasterized=True)\n",
    "    if atom_type == \"C\":\n",
    "        p = np.polyfit(x[::10], y[::10], deg=1)\n",
    "        r2 = np.corrcoef(x[::10], y[::10])[0, 1]**2\n",
    "    else:\n",
    "        p = np.polyfit(x, y, deg=1)\n",
    "        r2 = np.corrcoef(x, y)[0, 1]**2\n",
    "    poly = np.poly1d(p)\n",
    "    ax.axline((-3, poly(-3)), (-2, poly(-2)), color=\"black\", linestyle=\"-\", linewidth=0.5, alpha=0.9)\n",
    "    ax.axline((-3, poly(-3) + 0.5), (-2, poly(-2) + 0.5), color=\"black\", linestyle=\"--\", linewidth=0.5, alpha=0.8)\n",
    "    ax.axline((-3, poly(-3) + 1.0), (-2, poly(-2) + 1.0), color=\"black\", linestyle=\"--\", linewidth=0.5, alpha=0.7)\n",
    "    ax.axline((-3, poly(-3) + 1.5), (-2, poly(-2) + 1.5), color=\"black\", linestyle=\"--\", linewidth=0.5, alpha=0.6)\n",
    "    ax.axline((-3, poly(-3) + 2.0), (-2, poly(-2) + 2.0), color=\"black\", linestyle=\"--\", linewidth=0.5, alpha=0.5)\n",
    "    ax.text(0.1, 0.9, r\"$r^2 = %.02f$\" % r2, ha=\"left\", va=\"top\", transform=ax.transAxes)\n",
    "\n",
    "ax_min = -6\n",
    "ax_max = 2\n",
    "for ax in axs.flatten():\n",
    "    ax.set_xlim(ax_min, ax_max)\n",
    "    ax.set_ylim(ax_min, ax_max)\n",
    "    ax.set_xticks([-6, -2, 2])\n",
    "    ax.set_yticks([-6, -2, 2])\n",
    "    adj.set_grids(ax, grid=False)\n",
    "    adj.set_xlim(ax, ax_min, ax_max)\n",
    "    adj.set_ylim(ax, ax_min, ax_max)\n",
    "\n",
    "axs[0].set_ylabel(r\"$\\log_{10} \\varepsilon^{(\\mathcal{M})}_j$\")\n",
    "axs[1].set_xlabel(r\"$\\log_{10} \\hat{\\sigma}^{(\\mathcal{M})}_j$\")\n",
    "\n",
    "plt.subplots_adjust(wspace=0.1)\n",
    "\n",
    "# clear_output()\n",
    "\n",
    "plt.savefig(\"Figures/qm9_generalized_sigma_parity.svg\", bbox_inches=\"tight\", dpi=300)\n",
    "# plt.show()"
   ]
  },
  {
   "cell_type": "markdown",
   "id": "a1852ca6-1705-4885-957f-e5d83397eec9",
   "metadata": {
    "jp-MarkdownHeadingCollapsed": true,
    "tags": []
   },
   "source": [
    "## Plot some examples"
   ]
  },
  {
   "cell_type": "code",
   "execution_count": null,
   "id": "c32ad452-1363-40fd-972f-dfbb5ec38a32",
   "metadata": {},
   "outputs": [],
   "source": [
    "atom_type = \"C\"\n",
    "grid = data[atom_type][\"train\"][\"grid\"]\n",
    "pred = ensembles[atom_type].predict(data[atom_type][\"test\"][\"x\"])\n",
    "gt = data[atom_type][\"test\"][\"y\"]"
   ]
  },
  {
   "cell_type": "code",
   "execution_count": null,
   "id": "82da743f-3585-454b-b80f-4c48e137a52b",
   "metadata": {},
   "outputs": [],
   "source": [
    "err = np.mean(np.abs(gt - pred.mean(axis=0)), axis=1)\n",
    "sorted_idx = np.argsort(err)[::-1]"
   ]
  },
  {
   "cell_type": "code",
   "execution_count": null,
   "id": "3782869d-462b-4b26-9add-f07902fc75af",
   "metadata": {},
   "outputs": [],
   "source": [
    "len(sorted_idx)"
   ]
  },
  {
   "cell_type": "code",
   "execution_count": null,
   "id": "5d1704ab-0cf8-464a-8c47-b24454ee5aa6",
   "metadata": {},
   "outputs": [],
   "source": [
    "err[sorted_idx][:10]"
   ]
  },
  {
   "cell_type": "code",
   "execution_count": null,
   "id": "980fd4d8-601c-46a8-a000-f56e57774f2f",
   "metadata": {},
   "outputs": [],
   "source": [
    "(pred[:, sorted_idx, :].std(axis=0) * 3)[:10].mean(axis=1)"
   ]
  },
  {
   "cell_type": "code",
   "execution_count": null,
   "id": "66f3d518-ebc1-4cdb-b3f9-5a2f55c6bf6c",
   "metadata": {},
   "outputs": [],
   "source": [
    "names = [data[atom_type][\"test\"][\"names\"][ii] for ii in sorted_idx[:10]]\n",
    "names"
   ]
  },
  {
   "cell_type": "code",
   "execution_count": null,
   "id": "def544e8-1757-4f90-acaf-2a6fd3e54d30",
   "metadata": {},
   "outputs": [],
   "source": [
    "names = [data[atom_type][\"test\"][\"origin_smiles\"][ii] for ii in sorted_idx[:10]]\n",
    "names"
   ]
  },
  {
   "cell_type": "code",
   "execution_count": null,
   "id": "773623cb-5e51-44ee-80e0-0ac8e5bee693",
   "metadata": {},
   "outputs": [],
   "source": [
    "from rdkit import Chem"
   ]
  },
  {
   "cell_type": "code",
   "execution_count": null,
   "id": "4e0ef63f-823c-4094-a201-9d0ce83e786b",
   "metadata": {},
   "outputs": [],
   "source": [
    "grid = Chem.Draw.MolsToGridImage([Chem.MolFromSmiles(smile) for smile in names[:3]], useSVG=True)"
   ]
  },
  {
   "cell_type": "code",
   "execution_count": null,
   "id": "12896035-e924-4b30-9fc8-2c002ae07120",
   "metadata": {},
   "outputs": [],
   "source": [
    "with open(\"qm9_C_fail.svg\", \"w\") as f:\n",
    "    f.write(grid.data)"
   ]
  },
  {
   "cell_type": "code",
   "execution_count": null,
   "id": "e217a362-2223-4399-a65a-d3b61a20d514",
   "metadata": {},
   "outputs": [],
   "source": [
    "fig, ax = plt.subplots(1, 1, figsize=(3, 5))\n",
    "\n",
    "n = 10\n",
    "for ii in range(n):\n",
    "    \n",
    "    offset = ii * 6\n",
    "    idx = sorted_idx[int(ii / n * len(sorted_idx)) + 11]\n",
    "    \n",
    "    ground_truth_spectra = gt[idx, :]\n",
    "    predicted_spectra = pred[:, idx, :]\n",
    "\n",
    "    mu = predicted_spectra.mean(axis=0) + offset\n",
    "    \n",
    "    sd = predicted_spectra.std(axis=0) * 3\n",
    "    \n",
    "    label = r\"$\\mu^{(i)}$\" if ii == 0 else None\n",
    "    ax.plot(grid, ground_truth_spectra + offset, \"k-\", label=label)\n",
    "\n",
    "    # label = r\"$\\hat{\\mu}^{(i)}$\" if ii == 0 else None\n",
    "    # ax.plot(grid, mu, color=\"purple\", linewidth=1, label=label)\n",
    "    \n",
    "    for jj, prediction in enumerate(predicted_spectra):\n",
    "        label = r\"$\\hat{\\mu}^{(i, k)}$\" if jj == 0 and ii == 0 else None \n",
    "        ax.plot(grid, prediction + offset, 'r-', linewidth=0.5, alpha=0.5, label=label)\n",
    "    \n",
    "    label = r\"$3\\sigma$\" if ii == 0 else None\n",
    "    ax.fill_between(grid, mu - sd, mu + sd, color=\"red\", alpha=0.5, linewidth=0, label=label)\n",
    "    \n",
    "    err = np.log10(np.mean(np.abs(ground_truth_spectra - predicted_spectra))).item()\n",
    "    ax.text(0.9, 0.09 + ii / 10.5, r\"$%.02f$\" % err, ha=\"right\", va=\"center\", transform=ax.transAxes)\n",
    "    \n",
    "ax.spines[\"right\"].set_visible(False)\n",
    "ax.spines[\"top\"].set_visible(False)\n",
    "ax.spines[\"left\"].set_linewidth(0.5)\n",
    "ax.spines[\"bottom\"].set_linewidth(0.5)\n",
    "adj.set_grids(ax, grid=False, top=False)\n",
    "ax.set_yticklabels([])\n",
    "ax.set_yticks([])\n",
    "ax.set_xlabel(r\"$E$~(e.V.)\")\n",
    "ax.set_ylabel(r\"$\\mu(E)$~(a.u.)\")\n",
    "ax.legend(frameon=False, ncol=3, loc=\"upper center\", bbox_to_anchor=(0.5, 1.1))\n",
    "\n",
    "# err = np.log10(np.mean(np.abs(gt[ii] - pred[ii])))\n",
    "# print(f\"{err:.02f}\")\n",
    "\n",
    "\n",
    "plt.show()\n",
    "# plt.savefig(\"qm9_C_random_preds.svg\", bbox_inches=\"tight\", dpi=300)"
   ]
  },
  {
   "cell_type": "markdown",
   "id": "5f4534ff-008c-4b9b-abd2-432d9a2152b0",
   "metadata": {},
   "source": [
    "## Final waterfall plots"
   ]
  },
  {
   "cell_type": "code",
   "execution_count": null,
   "id": "822b019e-41a0-4487-b93d-d9f90bdf809f",
   "metadata": {},
   "outputs": [],
   "source": [
    "fig, axs = plt.subplots(1, 3, figsize=(3*2.5, 4), sharey=True)\n",
    "smiles_list = []\n",
    "\n",
    "n = 5\n",
    "\n",
    "n_atom = 6\n",
    "\n",
    "for ii, atom_type in enumerate(ATOMS):\n",
    "    \n",
    "    grid = data[atom_type][\"train\"][\"grid\"]\n",
    "\n",
    "    ax = axs[ii]\n",
    "    \n",
    "    pred = results[atom_type][n_atom][\"molecular_preds\"].copy()\n",
    "    gt = results[atom_type][n_atom][\"molecular_gt\"].copy()\n",
    "    spreads = results[atom_type][n_atom][\"molecular_spreads\"].copy()\n",
    "    gt[gt < 0] = 0.0\n",
    "    errors = np.abs(gt - pred).mean(axis=1)\n",
    "    sorted_idx = np.argsort(errors)[::-1]\n",
    "    molecular_smiles = results[atom_type][n_atom][\"molecular_smiles\"].copy()\n",
    "    L = len(sorted_idx)\n",
    "    \n",
    "    for ii in range(n): \n",
    "\n",
    "        offset = ii * 6\n",
    "        idx = sorted_idx[int(ii / n * len(sorted_idx)) + L // (2*n)]\n",
    "\n",
    "        ground_truth_spectra = gt[idx, :].copy() + offset\n",
    "        predicted_spectra = pred[idx, :].copy() + offset\n",
    "        predicted_spread = spreads[idx, :].copy()\n",
    "        smiles = molecular_smiles[idx]\n",
    "\n",
    "        label = r\"{\\boldmath$\\mu$}$^{(\\mathcal{M})}$\" if ii == 0 and atom_type == \"N\" else None\n",
    "        ax.plot(grid, ground_truth_spectra, \"k-\", label=label)\n",
    "\n",
    "        label = r\"{\\boldmath$\\hat{\\mu}$}$^{(\\mathcal{M})}$\" if ii == 1 and atom_type == \"N\" else None\n",
    "        ax.plot(grid, predicted_spectra, color=\"red\", linewidth=1, label=label, zorder=4)\n",
    "        \n",
    "        label = r\"$3${\\boldmath$\\hat{\\sigma}$}$^{(\\mathcal{M})}$\" if ii == 1 and atom_type == \"N\" else None\n",
    "        ax.fill_between(grid, predicted_spectra - predicted_spread * 3, predicted_spectra + predicted_spread * 3, color=\"red\", alpha=0.5, linewidth=0, label=label, zorder=3)\n",
    "\n",
    "        \n",
    "        # if ii != 0:\n",
    "        #     label = r\"$3\\sigma$\" if ii == 1 and atom_type == \"N\" else None\n",
    "        #     ax.fill_between(grid, predicted_spectra - predicted_spread * 3, predicted_spectra + predicted_spread * 3, color=\"red\", alpha=0.5, linewidth=0, label=label)\n",
    "        # else:\n",
    "        #     label = r\"$\\sigma$\" if ii == 0 and atom_type == \"N\" else None\n",
    "        #     ax.fill_between(grid, predicted_spectra - predicted_spread, predicted_spectra + predicted_spread, color=\"magenta\", alpha=0.5, linewidth=0, label=label)\n",
    "\n",
    "        err = np.log10(np.mean(np.abs(ground_truth_spectra - predicted_spectra))).item()\n",
    "        ax.text(0.9, 0.2 + ii / 10.7 * 2, r\"$%.02f$\" % err, ha=\"right\", va=\"center\", transform=ax.transAxes)\n",
    "        \n",
    "        if ii == 1:\n",
    "            ax.legend(frameon=False, ncol=1, loc=\"upper center\", bbox_to_anchor=(1.0, 1.1))\n",
    "        ax.set_title(atom_type)\n",
    "\n",
    "        print(f\"{err:.02f} : {smiles}\")\n",
    "        smiles_list.append(smiles)\n",
    "\n",
    "    ax.spines[\"right\"].set_visible(False)\n",
    "    ax.spines[\"top\"].set_visible(False)\n",
    "    ax.spines[\"left\"].set_linewidth(0.5)\n",
    "    ax.spines[\"bottom\"].set_linewidth(0.5)\n",
    "    adj.set_grids(ax, grid=False, top=False)\n",
    "    ax.set_yticklabels([])\n",
    "    ax.set_yticks([])\n",
    "\n",
    "axs[1].set_xlabel(r\"$E$~(e.V.)\")\n",
    "axs[0].set_ylabel(r\"$\\mu(E)$~(a.u.)\")\n",
    "\n",
    "\n",
    "# plt.show()\n",
    "plt.savefig(\"Figures/qm9_CNO_examples.svg\", bbox_inches=\"tight\", dpi=300)\n",
    "\n",
    "\n"
   ]
  },
  {
   "cell_type": "code",
   "execution_count": null,
   "id": "a792b68f-1f4e-43f5-9672-e2d9c1789e10",
   "metadata": {},
   "outputs": [],
   "source": [
    "from rdkit import Chem\n",
    "svgs = Chem.Draw.MolsToGridImage([Chem.MolFromSmiles(smile) for smile in smiles_list], useSVG=True)\n",
    "with open(\"Figures/qm9_CNO_molecules.svg\", \"w\") as f:\n",
    "    f.write(svgs.data)"
   ]
  }
 ],
 "metadata": {
  "kernelspec": {
   "display_name": "Python 3 (ipykernel)",
   "language": "python",
   "name": "python3"
  },
  "language_info": {
   "codemirror_mode": {
    "name": "ipython",
    "version": 3
   },
   "file_extension": ".py",
   "mimetype": "text/x-python",
   "name": "python",
   "nbconvert_exporter": "python",
   "pygments_lexer": "ipython3",
   "version": "3.9.12"
  },
  "toc-autonumbering": true,
  "toc-showmarkdowntxt": false
 },
 "nbformat": 4,
 "nbformat_minor": 5
}
