{
 "cells": [
  {
   "cell_type": "code",
   "execution_count": null,
   "id": "c7c0172d-ad8e-42f8-b796-b4ec7833e33e",
   "metadata": {},
   "outputs": [],
   "source": [
    "%load_ext autoreload\n",
    "%autoreload 2\n",
    "%config Completer.use_jedi = False"
   ]
  },
  {
   "cell_type": "code",
   "execution_count": null,
   "id": "f387788b-c16a-45d2-8e70-e309ca3b944d",
   "metadata": {},
   "outputs": [],
   "source": [
    "from datetime import datetime\n",
    "from collections import Counter\n",
    "from copy import deepcopy\n",
    "import matplotlib.pyplot as plt\n",
    "import numpy as np\n",
    "from scipy.stats import spearmanr\n",
    "from pathlib import Path\n",
    "import pickle\n",
    "import sys\n",
    "\n",
    "import numpy as np\n",
    "from monty.json import MSONable\n",
    "from pymatgen.core.structure import Molecule"
   ]
  },
  {
   "cell_type": "code",
   "execution_count": null,
   "id": "ab130d4f-c85e-4657-8b5f-5495d56be4d9",
   "metadata": {},
   "outputs": [],
   "source": [
    "# https://gist.github.com/x94carbone/f5201b1c44963ff9453b9cc1d5f768ac\n",
    "sys.path.append(str(Path.home() / Path(\"local\")))\n",
    "from mpl_utils import MPLAdjutant\n",
    "adj = MPLAdjutant()\n",
    "adj.set_defaults()"
   ]
  },
  {
   "cell_type": "code",
   "execution_count": null,
   "id": "e919c247-657a-4d05-8f0f-56ecd45b1e3d",
   "metadata": {},
   "outputs": [],
   "source": [
    "import json\n",
    "\n",
    "def save_json(d, path):\n",
    "    with open(path, 'w') as outfile:\n",
    "        json.dump(d, outfile, indent=4, sort_keys=True)\n",
    "\n",
    "def read_json(path):\n",
    "    with open(path, 'r') as infile:\n",
    "        dat = json.load(infile)\n",
    "    return dat"
   ]
  },
  {
   "cell_type": "markdown",
   "id": "1ecad749-6306-40bf-bb70-d9e5f7378648",
   "metadata": {},
   "source": [
    "Append the `home` path of this project."
   ]
  },
  {
   "cell_type": "code",
   "execution_count": null,
   "id": "77708ce8-462d-4d5a-9f97-6ae089a9a852",
   "metadata": {},
   "outputs": [],
   "source": [
    "sys.path.append(str(Path.cwd().parent))"
   ]
  },
  {
   "cell_type": "markdown",
   "id": "4a8d5d44-b24b-45c3-b82e-a6542ee345f4",
   "metadata": {},
   "source": [
    "# PCA"
   ]
  },
  {
   "cell_type": "markdown",
   "id": "9634bebc-8513-47eb-b231-c1d27a8f685d",
   "metadata": {},
   "source": [
    "Load in the previously processed `pickle` data. These contain the features (ACSF) and targets (spectra) on a common grid for each of the three absorbing atom types of interest: C, N and O."
   ]
  },
  {
   "cell_type": "code",
   "execution_count": null,
   "id": "94bcf6d6-f9b5-4f78-af8f-8f85b21ac80e",
   "metadata": {},
   "outputs": [],
   "source": [
    "O_data = pickle.load(open(\"data/qm9/XANES-220622-ACSF-O.pkl\", \"rb\"))\n",
    "N_data = pickle.load(open(\"data/qm9/XANES-220622-ACSF-N.pkl\", \"rb\"))\n",
    "C_data = pickle.load(open(\"data/qm9/XANES-220622-ACSF-C.pkl\", \"rb\"))"
   ]
  },
  {
   "cell_type": "markdown",
   "id": "820d2e6b-4513-4bbf-a70e-3a4234797d84",
   "metadata": {},
   "source": [
    "Print some diagonstics..."
   ]
  },
  {
   "cell_type": "code",
   "execution_count": null,
   "id": "5d57ef9b-85a7-41a2-9d69-d6bd77eaa22d",
   "metadata": {},
   "outputs": [],
   "source": [
    "print(f\"O database ACSF & spectrum shapes: {O_data['x'].shape} & {O_data['y'].shape}\")\n",
    "print(f\"N database ACSF & spectrum shapes: {N_data['x'].shape} & {N_data['y'].shape}\")\n",
    "print(f\"C database ACSF & spectrum shapes: {C_data['x'].shape} & {C_data['y'].shape}\")"
   ]
  },
  {
   "cell_type": "markdown",
   "id": "6e37598f-b54d-47ba-8091-5c88895aa3a5",
   "metadata": {},
   "source": [
    "Put everything in a dictionary for simplicity."
   ]
  },
  {
   "cell_type": "code",
   "execution_count": null,
   "id": "3ac006f3-374d-4ace-9a6f-a1dda5da0bbe",
   "metadata": {},
   "outputs": [],
   "source": [
    "data = {\"O\": O_data, \"N\": N_data, \"C\": C_data}"
   ]
  },
  {
   "cell_type": "markdown",
   "id": "1fbc6c31-f03b-4e3c-960b-1495ee04747f",
   "metadata": {},
   "source": [
    "Load in the FEFF failure example."
   ]
  },
  {
   "cell_type": "markdown",
   "id": "51acfac9-8cdd-46ab-b918-69bc747258bf",
   "metadata": {},
   "source": [
    "## Execute and plot"
   ]
  },
  {
   "cell_type": "markdown",
   "id": "ad45c503-d1c9-474d-a43c-346fec3c3653",
   "metadata": {},
   "source": [
    "We perform basic analysis and Principal Component Analysis to validate that our dataset look sensible."
   ]
  },
  {
   "cell_type": "code",
   "execution_count": null,
   "id": "5aceb424-eb8b-4a82-a5e7-2848079c81c1",
   "metadata": {},
   "outputs": [],
   "source": [
    "from sklearn.decomposition import PCA"
   ]
  },
  {
   "cell_type": "code",
   "execution_count": null,
   "id": "9c59c143-e615-4f82-bd05-aa345b1d5660",
   "metadata": {},
   "outputs": [],
   "source": [
    "pca_results = dict()\n",
    "for key, dat in data.items():\n",
    "    pca_acsf = PCA(2)\n",
    "    w_acsf = pca_acsf.fit_transform(dat[\"x\"])\n",
    "    pca_spectra = PCA(2)\n",
    "    w_spectra = pca_spectra.fit_transform(dat[\"y\"])\n",
    "    pca_results[key] = {\n",
    "        \"pca_ACSF\": pca_acsf,\n",
    "        \"pca_spectra\": pca_spectra,\n",
    "        \"w_ACSF\": w_acsf,\n",
    "        \"w_spectra\": w_spectra\n",
    "    }"
   ]
  },
  {
   "cell_type": "markdown",
   "id": "1b9221bf-e60d-415a-816a-9bccfd54100b",
   "metadata": {},
   "source": [
    "We make a production-quality plot of the data here:"
   ]
  },
  {
   "cell_type": "code",
   "execution_count": null,
   "id": "004805be-8f07-4aea-ae44-015fbb52e971",
   "metadata": {},
   "outputs": [],
   "source": [
    "fig, axs = plt.subplots(1, 3, figsize=(6, 2))\n",
    "\n",
    "N = None\n",
    "key_ordering = [\"C\", \"N\", \"O\"]\n",
    "\n",
    "for key, ax in zip(key_ordering, axs):\n",
    "    w_acsf = pca_results[key][\"w_ACSF\"]\n",
    "    w_spectra = pca_results[key][\"w_spectra\"]\n",
    "    ax.scatter(w_acsf[:N, 0], w_acsf[:N, 1], alpha=0.02, c=w_spectra[:N, 0], s=1, cmap=\"rainbow\", rasterized=True)\n",
    "    ax.spines[\"right\"].set_visible(False)\n",
    "    ax.spines[\"top\"].set_visible(False)\n",
    "    ax.spines[\"left\"].set_linewidth(0.5)\n",
    "    ax.spines[\"bottom\"].set_linewidth(0.5)\n",
    "    ax.tick_params(left=False, bottom=False)\n",
    "    ax.set_yticklabels([])\n",
    "    ax.set_xticklabels([])\n",
    "    ax.set_title(key)\n",
    "\n",
    "axs[0].set_ylabel(r\"ACSF $z_2$\")\n",
    "axs[1].set_xlabel(r\"ACSF $z_1$\")\n",
    "    \n",
    "# plt.savefig(\"Figures/qm9_pca.svg\", bbox_inches=\"tight\", dpi=300)\n",
    "plt.show()"
   ]
  },
  {
   "cell_type": "markdown",
   "id": "05898365-055c-4638-8aae-4dc850c43e2f",
   "metadata": {},
   "source": [
    "# Train/validation-test split"
   ]
  },
  {
   "cell_type": "code",
   "execution_count": null,
   "id": "7b048bcb-953a-44d1-9081-d7c728cb9e39",
   "metadata": {},
   "outputs": [],
   "source": [
    "from xas_nne.qm9 import remove_zwitter_ions_, random_split, split_qm9_data_by_number_of_total_atoms, split_qm9_data_by_number_of_absorbers, atom_count"
   ]
  },
  {
   "cell_type": "code",
   "execution_count": null,
   "id": "4f387ab2-824e-4234-be49-100d6ce2195e",
   "metadata": {},
   "outputs": [],
   "source": [
    "def pca_decomposition_inputs(data, max_pca=50, capture_variance=0.999):\n",
    "    data = deepcopy(data)\n",
    "    pca = PCA(max_pca)\n",
    "    pca.fit(data[\"train\"][\"x\"])\n",
    "    max_column = np.where(np.cumsum(pca.explained_variance_ratio_) > capture_variance)[0][0]\n",
    "    print(f\"maxcol={max_column}\")\n",
    "    for key in [\"train\", \"val\", \"test\"]:\n",
    "        data[key][\"x\"] = pca.transform(data[key][\"x\"])[:, :max_column+1]\n",
    "    data[\"pca\"] = pca\n",
    "    return data, max_column"
   ]
  },
  {
   "cell_type": "markdown",
   "id": "93a986f6-3812-4c14-a33c-bf79d633bd14",
   "metadata": {},
   "source": [
    "## Remove Zwitter ions"
   ]
  },
  {
   "cell_type": "code",
   "execution_count": null,
   "id": "c37d795a-cfef-4220-85bb-7b004ca00946",
   "metadata": {},
   "outputs": [],
   "source": [
    "for CENTRAL_ATOM in [\"C\", \"N\", \"O\"]:\n",
    "    print(f\"{CENTRAL_ATOM} original length {len(data[CENTRAL_ATOM]['x'])}\")\n",
    "    remove_zwitter_ions_(data[CENTRAL_ATOM])"
   ]
  },
  {
   "cell_type": "markdown",
   "id": "f5d23cb0-a9f0-4961-b19a-180d9fc123ad",
   "metadata": {},
   "source": [
    "## Random split"
   ]
  },
  {
   "cell_type": "code",
   "execution_count": null,
   "id": "b0989a85-45c1-47f2-b27b-598be13067fd",
   "metadata": {
    "tags": []
   },
   "outputs": [],
   "source": [
    "for CENTRAL_ATOM in [\"C\", \"N\", \"O\"]:\n",
    "    prop = 0.1 if CENTRAL_ATOM != \"C\" else 0.05\n",
    "    parsed_data = random_split(data[CENTRAL_ATOM], prop_test=prop, prop_val=prop)\n",
    "    now = datetime.now().strftime(\"%y%m%d\")\n",
    "    fname = f\"data/qm9/ml_ready/random_splits/XANES-{now}-ACSF-{CENTRAL_ATOM}-RANDOM-SPLITS.pkl\"\n",
    "    pickle.dump(parsed_data, open(fname, \"wb\"), protocol=pickle.HIGHEST_PROTOCOL)\n",
    "    \n",
    "    parsed_data, max_column = pca_decomposition_inputs(parsed_data)\n",
    "    fname = f\"data/qm9/ml_ready/random_splits/XANES-{now}-ACSF-{CENTRAL_ATOM}-RANDOM-SPLITS-PCA-decomp-maxcol-{max_column}.pkl\"\n",
    "    pickle.dump(parsed_data, open(fname, \"wb\"), protocol=pickle.HIGHEST_PROTOCOL)"
   ]
  },
  {
   "cell_type": "markdown",
   "id": "dd022511-e165-4354-9c73-fe540332205e",
   "metadata": {},
   "source": [
    "Reload and retest. Ensure there are no zwitterions..."
   ]
  },
  {
   "cell_type": "code",
   "execution_count": null,
   "id": "4e81ea9f-aa0f-43b3-8ce2-4c0261ad1116",
   "metadata": {},
   "outputs": [],
   "source": [
    "for file in Path(\"data/qm9/ml_ready/random_splits/\").iterdir():\n",
    "    loaded = pickle.load(open(file, \"rb\"))\n",
    "    for split in [\"test\", \"train\", \"val\"]:\n",
    "        assert np.sum([\"+\" in smi for smi in loaded[split][\"origin_smiles\"]]) == 0\n",
    "        assert np.sum([\"-\" in smi for smi in loaded[split][\"origin_smiles\"]]) == 0"
   ]
  },
  {
   "cell_type": "markdown",
   "id": "3d88b23c-b90d-4b61-ac9b-bddbd870ffff",
   "metadata": {},
   "source": [
    "## Train on molecules with at most `N` atoms"
   ]
  },
  {
   "cell_type": "markdown",
   "id": "cf783b12-6536-455b-b7ea-02294ecc4b24",
   "metadata": {},
   "source": [
    "Get a production-quality plot for demonstrating how the database scales with atom number/molecule."
   ]
  },
  {
   "cell_type": "code",
   "execution_count": null,
   "id": "bc457737-ffb0-424d-97b7-a0f18dbf94ae",
   "metadata": {},
   "outputs": [],
   "source": [
    "atom_counts_sorted = dict()\n",
    "\n",
    "int_grid = np.arange(1, 10)\n",
    "\n",
    "ATOM = \"C\"\n",
    "tmp_data = data[ATOM]\n",
    "atom_counts = list(map(atom_count, tmp_data[\"origin_smiles\"]))\n",
    "atom_counts = np.array([sum(xx.values()) for xx in atom_counts])\n",
    "atom_counts_counter = Counter(atom_counts)\n",
    "atom_counts_sorted[\"C\"] = [atom_counts_counter[ii] for ii in int_grid]\n",
    "\n",
    "ATOM = \"N\"\n",
    "tmp_data = data[ATOM]\n",
    "atom_counts = list(map(atom_count, tmp_data[\"origin_smiles\"]))\n",
    "atom_counts = np.array([sum(xx.values()) for xx in atom_counts])\n",
    "atom_counts_counter = Counter(atom_counts)\n",
    "atom_counts_sorted[\"N\"] = [atom_counts_counter[ii] for ii in int_grid]\n",
    "\n",
    "ATOM = \"O\"\n",
    "tmp_data = data[ATOM]\n",
    "atom_counts = list(map(atom_count, tmp_data[\"origin_smiles\"]))\n",
    "atom_counts = np.array([sum(xx.values()) for xx in atom_counts])\n",
    "atom_counts_counter = Counter(atom_counts)\n",
    "atom_counts_sorted[\"O\"] = [atom_counts_counter[ii] for ii in int_grid]"
   ]
  },
  {
   "cell_type": "code",
   "execution_count": null,
   "id": "4ce98910-d68c-4a0e-8978-b5c2190face3",
   "metadata": {},
   "outputs": [],
   "source": [
    "atom_counts_sorted[\"O\"]"
   ]
  },
  {
   "cell_type": "code",
   "execution_count": null,
   "id": "250beda0-83ef-458d-b360-343787d383c6",
   "metadata": {},
   "outputs": [],
   "source": [
    "# Create a well-balanced testing set\n",
    "fig, ax = plt.subplots(1, 1, figsize=(3, 1.5))\n",
    "\n",
    "\n",
    "ax.plot(int_grid, np.log10(atom_counts_sorted[\"C\"]), 'ko-', label=r\"$\\mathcal{D}_\\mathrm{C}$\")\n",
    "ax.plot(int_grid, np.log10(atom_counts_sorted[\"N\"]), 'bo-', label=r\"$\\mathcal{D}_\\mathrm{N}$\")\n",
    "ax.plot(int_grid, np.log10(atom_counts_sorted[\"O\"]), 'ro-', label=r\"$\\mathcal{D}_\\mathrm{O}$\")\n",
    "\n",
    "\n",
    "adj.set_grids(ax, grid=False)\n",
    "ax.set_xticks(int_grid)\n",
    "ax.tick_params(axis=\"x\", which=\"minor\", bottom=False, top=False)\n",
    "ax.tick_params(axis=\"y\", which=\"minor\", left=True, right=True)\n",
    "\n",
    "ax.set_ylabel(r\"$\\log_{10} N_\\mathcal{M}$\")\n",
    "ax.set_xlabel(r\"$|\\mathcal{M}|$\")\n",
    "\n",
    "ax.legend(frameon=False)\n",
    "\n",
    "ax.set_yticks([0, 3, 6])\n",
    "\n",
    "adj.set_ylim(ax, 0, 6)\n",
    "\n",
    "\n",
    "plt.savefig(\"Figures/qm9_N.svg\", bbox_inches=\"tight\", dpi=300)\n",
    "# plt.show()"
   ]
  },
  {
   "cell_type": "code",
   "execution_count": null,
   "id": "dd8c2431-7670-4e61-9c44-5668d21a3bde",
   "metadata": {
    "tags": []
   },
   "outputs": [],
   "source": [
    "for max_training_atoms_per_molecule in range(5, 9):\n",
    "    for CENTRAL_ATOM in [\"C\", \"N\", \"O\"]:\n",
    "        print(CENTRAL_ATOM)\n",
    "        parsed_data = split_qm9_data_by_number_of_total_atoms(\n",
    "            data[CENTRAL_ATOM],\n",
    "            max_training_atoms_per_molecule=max_training_atoms_per_molecule,\n",
    "            test_atoms_per_molecule=9,\n",
    "            prop_val=0.1,\n",
    "            seed=123\n",
    "        )\n",
    "        now = datetime.now().strftime(\"%y%m%d\")\n",
    "        fname = f\"data/qm9/ml_ready/XANES-{now}-ACSF-{CENTRAL_ATOM}-TRAIN-ATMOST-{max_training_atoms_per_molecule}-TOTAL-ATOMS.pkl\"\n",
    "        print(fname)\n",
    "        pickle.dump(parsed_data, open(fname, \"wb\"), protocol=pickle.HIGHEST_PROTOCOL)\n",
    "\n",
    "        parsed_data, max_column = pca_decomposition_inputs(parsed_data)\n",
    "        fname = f\"data/qm9/ml_ready/XANES-{now}-ACSF-{CENTRAL_ATOM}-TRAIN-ATMOST-{max_training_atoms_per_molecule}-TOTAL-ATOMS-PCA-decomp-maxcol-{max_column}.pkl\"\n",
    "        print(fname)\n",
    "        pickle.dump(parsed_data, open(fname, \"wb\"), protocol=pickle.HIGHEST_PROTOCOL)"
   ]
  },
  {
   "cell_type": "markdown",
   "id": "a60d9c1a-9d5b-4b66-9a9d-e1b043043bbf",
   "metadata": {},
   "source": [
    "Reload and retest. Ensure there are no zwitterions..."
   ]
  },
  {
   "cell_type": "code",
   "execution_count": null,
   "id": "4d746e1c-e117-4989-b6fe-6ae7a3f7d420",
   "metadata": {},
   "outputs": [],
   "source": [
    "for file in Path(\"data/qm9/ml_ready/by_total_atoms/\").iterdir():\n",
    "    loaded = pickle.load(open(file, \"rb\"))\n",
    "    for split in [\"test\", \"train\", \"val\"]:\n",
    "        assert np.sum([\"+\" in smi for smi in loaded[split][\"origin_smiles\"]]) == 0\n",
    "        assert np.sum([\"-\" in smi for smi in loaded[split][\"origin_smiles\"]]) == 0"
   ]
  }
 ],
 "metadata": {
  "kernelspec": {
   "display_name": "Python 3 (ipykernel)",
   "language": "python",
   "name": "python3"
  },
  "language_info": {
   "codemirror_mode": {
    "name": "ipython",
    "version": 3
   },
   "file_extension": ".py",
   "mimetype": "text/x-python",
   "name": "python",
   "nbconvert_exporter": "python",
   "pygments_lexer": "ipython3",
   "version": "3.9.12"
  },
  "toc-autonumbering": true,
  "toc-showmarkdowntxt": false
 },
 "nbformat": 4,
 "nbformat_minor": 5
}
