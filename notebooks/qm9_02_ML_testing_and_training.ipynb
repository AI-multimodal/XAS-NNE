{
 "cells": [
  {
   "cell_type": "code",
   "execution_count": null,
   "id": "c7c0172d-ad8e-42f8-b796-b4ec7833e33e",
   "metadata": {},
   "outputs": [],
   "source": [
    "%load_ext autoreload\n",
    "%autoreload 2\n",
    "%config Completer.use_jedi = False"
   ]
  },
  {
   "cell_type": "code",
   "execution_count": null,
   "id": "f387788b-c16a-45d2-8e70-e309ca3b944d",
   "metadata": {},
   "outputs": [],
   "source": [
    "from datetime import datetime\n",
    "from pathlib import Path\n",
    "import pickle\n",
    "import sys\n",
    "import numpy as np\n",
    "\n",
    "import matplotlib.pyplot as plt\n",
    "from pymatgen.core.structure import Molecule"
   ]
  },
  {
   "cell_type": "markdown",
   "id": "813f87de-7ae4-4746-9f2b-8256abe18fb7",
   "metadata": {},
   "source": [
    "Custom plotting code... ignore this if you don't know what it is, it should gracefully do nothing if you don't have the `MPLAdjutant` class. "
   ]
  },
  {
   "cell_type": "code",
   "execution_count": null,
   "id": "ab130d4f-c85e-4657-8b5f-5495d56be4d9",
   "metadata": {},
   "outputs": [],
   "source": [
    "sys.path.append(str(Path.home() / Path(\"local\")))\n",
    "class NullClass:\n",
    "    def do_nothing(*args, **kwargs):\n",
    "        pass\n",
    "    def add_colorbar(self, im, **kwargs):\n",
    "        return plt.colorbar(im)\n",
    "    def __getattr__(self, _):\n",
    "        return self.do_nothing\n",
    "try:\n",
    "    from mpl_utils import MPLAdjutant\n",
    "    adj = MPLAdjutant()\n",
    "    adj.set_defaults()\n",
    "except ImportError:\n",
    "    adj = NullClass()"
   ]
  },
  {
   "cell_type": "code",
   "execution_count": null,
   "id": "945382f5-6da2-4393-b5e7-2d4dc9a22245",
   "metadata": {},
   "outputs": [],
   "source": [
    "import json\n",
    "\n",
    "def save_json(d, path):\n",
    "    with open(path, 'w') as outfile:\n",
    "        json.dump(d, outfile, indent=4, sort_keys=True)\n",
    "\n",
    "def read_json(path):\n",
    "    with open(path, 'r') as infile:\n",
    "        dat = json.load(infile)\n",
    "    return dat"
   ]
  },
  {
   "cell_type": "markdown",
   "id": "1ecad749-6306-40bf-bb70-d9e5f7378648",
   "metadata": {},
   "source": [
    "Append the `home` path of this project."
   ]
  },
  {
   "cell_type": "code",
   "execution_count": null,
   "id": "77708ce8-462d-4d5a-9f97-6ae089a9a852",
   "metadata": {},
   "outputs": [],
   "source": [
    "sys.path.append(str(Path.cwd().parent))"
   ]
  },
  {
   "cell_type": "markdown",
   "id": "962c0676-04b5-4ce6-a2e3-9e565a5cdb99",
   "metadata": {},
   "source": [
    "# Load the data"
   ]
  },
  {
   "cell_type": "code",
   "execution_count": null,
   "id": "116684a4-3d64-424e-8dd1-a16ce6252db1",
   "metadata": {},
   "outputs": [],
   "source": [
    "ATOM_TYPE = \"O\"\n",
    "MAX_ABS = \"3\""
   ]
  },
  {
   "cell_type": "code",
   "execution_count": null,
   "id": "921330cf-1f21-4084-9679-4cd38e46f4af",
   "metadata": {},
   "outputs": [],
   "source": [
    "# Standard random split\n",
    "if MAX_ABS is None:\n",
    "    data = pickle.load(open(f\"../data/qm9/ml_ready/XANES-220626-ACSF-{ATOM_TYPE}-RANDOM-SPLITS.pkl\", \"rb\"))\n",
    "else:\n",
    "    print(\"Loading abs data\")\n",
    "    data = pickle.load(open(f\"../data/qm9/ml_ready/XANES-220629-ACSF-{ATOM_TYPE}-MAX_TRAINING_ABSORBERS-{MAX_ABS}.pkl\", \"rb\"))"
   ]
  },
  {
   "cell_type": "markdown",
   "id": "727f07db-ea31-459a-b4f1-3fb63e248e73",
   "metadata": {
    "tags": []
   },
   "source": [
    "# Create the ML database"
   ]
  },
  {
   "cell_type": "markdown",
   "id": "b2b0487d-df2f-49c6-835f-c7312671e594",
   "metadata": {
    "tags": []
   },
   "source": [
    "Construct a ML `Data` object. To do so we get a random validation split, then instantiate the `Data` object."
   ]
  },
  {
   "cell_type": "code",
   "execution_count": null,
   "id": "7d73f6e3-eea4-4dab-b022-dcaf8bf1d157",
   "metadata": {},
   "outputs": [],
   "source": [
    "import torch"
   ]
  },
  {
   "cell_type": "code",
   "execution_count": null,
   "id": "a15f87a7-7298-4e0c-8fc1-21f15d9706ff",
   "metadata": {},
   "outputs": [],
   "source": [
    "from xas_nne.ml import Ensemble"
   ]
  },
  {
   "cell_type": "code",
   "execution_count": null,
   "id": "b82ca8f2-7e7c-4031-a606-e05ad440777c",
   "metadata": {
    "tags": []
   },
   "outputs": [],
   "source": [
    "now = datetime.now().strftime(\"%y%m%d\")\n",
    "\n",
    "from_random_architecture_kwargs={\n",
    "    \"min_layers\": 4,\n",
    "    \"max_layers\": 7,\n",
    "    \"min_neurons_per_layer\": 160,\n",
    "    \"max_neurons_per_layer\": 300,\n",
    "    \"dropout\": 0.0,\n",
    "    \"batch_norm\": True,\n",
    "    \"activation\": \"leaky_relu\",\n",
    "    \"last_activation\": \"softplus\",\n",
    "    \"criterion\": \"mae\",\n",
    "    \"last_batch_norm\": False,\n",
    "}\n",
    "\n",
    "if MAX_ABS is not None:\n",
    "    print(\"Root set abs data\")\n",
    "    root = f\"Ensembles/{now}-{ATOM_TYPE}-MAX_TRAINING_ABSORBERS-{MAX_ABS}\"\n",
    "else:\n",
    "    root = f\"Ensembles/{now}-{ATOM_TYPE}\"\n",
    "\n",
    "ensemble = Ensemble.from_random_architectures(\n",
    "    root=root,\n",
    "    n_estimators=15,\n",
    "    seed=125,\n",
    "    from_random_architecture_kwargs=from_random_architecture_kwargs,\n",
    ")"
   ]
  },
  {
   "cell_type": "code",
   "execution_count": null,
   "id": "9911ca88-9551-4dfc-b8fd-4de1370834d4",
   "metadata": {
    "tags": []
   },
   "outputs": [],
   "source": [
    "ensemble.train_ensemble_parallel(\n",
    "    training_data=data[\"train\"],\n",
    "    ensemble_index=0,\n",
    "    epochs=1000,\n",
    "    n_jobs=3\n",
    ")"
   ]
  },
  {
   "cell_type": "code",
   "execution_count": null,
   "id": "62f4afd5-433c-42e8-b351-4aa9236d66e6",
   "metadata": {},
   "outputs": [],
   "source": [
    "d = ensemble.as_dict()\n",
    "path = Path(ensemble._root) / Path(\"Ensemble.json\")\n",
    "save_json(d, path)"
   ]
  },
  {
   "cell_type": "code",
   "execution_count": null,
   "id": "1294d2a6-0177-4799-b482-0b95c967f05a",
   "metadata": {},
   "outputs": [],
   "source": [
    "gt = data[\"test\"][\"y\"]"
   ]
  },
  {
   "cell_type": "code",
   "execution_count": null,
   "id": "023f4d36-0639-4d3e-9f5b-8472abf0f980",
   "metadata": {},
   "outputs": [],
   "source": [
    "pred = ensemble.predict(data[\"test\"][\"x\"])"
   ]
  },
  {
   "cell_type": "markdown",
   "id": "a1852ca6-1705-4885-957f-e5d83397eec9",
   "metadata": {},
   "source": [
    "## Plot some examples"
   ]
  },
  {
   "cell_type": "code",
   "execution_count": null,
   "id": "c32ad452-1363-40fd-972f-dfbb5ec38a32",
   "metadata": {},
   "outputs": [],
   "source": [
    "grid = data[\"train\"][\"grid\"]"
   ]
  },
  {
   "cell_type": "code",
   "execution_count": null,
   "id": "aec7a270-047c-4773-9045-a9a877be5b9e",
   "metadata": {},
   "outputs": [],
   "source": [
    "ii = -9\n",
    "predicted_spectra = pred[:, ii, :]\n",
    "ground_truth_spectra = gt[ii, :]"
   ]
  },
  {
   "cell_type": "code",
   "execution_count": null,
   "id": "e217a362-2223-4399-a65a-d3b61a20d514",
   "metadata": {},
   "outputs": [],
   "source": [
    "fig, ax = plt.subplots(1, 1, figsize=(3, 2))\n",
    "\n",
    "print(data[\"test\"][\"origin_smiles\"][ii])\n",
    "\n",
    "ax.plot(grid, ground_truth_spectra, \"k-\")\n",
    "\n",
    "for prediction in predicted_spectra:\n",
    "    ax.plot(grid, prediction, 'r-', linewidth=0.5, alpha=0.5)\n",
    "\n",
    "# err = np.log10(np.mean(np.abs(gt[ii] - pred[ii])))\n",
    "# print(f\"{err:.02f}\")\n",
    "\n",
    "plt.show()\n"
   ]
  },
  {
   "cell_type": "code",
   "execution_count": null,
   "id": "b958e84b-0a79-4f83-8f90-be8dd3afefef",
   "metadata": {},
   "outputs": [],
   "source": []
  },
  {
   "cell_type": "code",
   "execution_count": null,
   "id": "b741f130-b508-4c94-85eb-b4087d6d9689",
   "metadata": {},
   "outputs": [],
   "source": []
  }
 ],
 "metadata": {
  "kernelspec": {
   "display_name": "Python 3 (ipykernel)",
   "language": "python",
   "name": "python3"
  },
  "language_info": {
   "codemirror_mode": {
    "name": "ipython",
    "version": 3
   },
   "file_extension": ".py",
   "mimetype": "text/x-python",
   "name": "python",
   "nbconvert_exporter": "python",
   "pygments_lexer": "ipython3",
   "version": "3.9.12"
  },
  "toc-autonumbering": true,
  "toc-showmarkdowntxt": false
 },
 "nbformat": 4,
 "nbformat_minor": 5
}
