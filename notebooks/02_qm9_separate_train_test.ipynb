{
 "cells": [
  {
   "cell_type": "code",
   "execution_count": 1,
   "id": "c7c0172d-ad8e-42f8-b796-b4ec7833e33e",
   "metadata": {},
   "outputs": [],
   "source": [
    "%load_ext autoreload\n",
    "%autoreload 2\n",
    "%config Completer.use_jedi = False"
   ]
  },
  {
   "cell_type": "code",
   "execution_count": 29,
   "id": "f387788b-c16a-45d2-8e70-e309ca3b944d",
   "metadata": {},
   "outputs": [],
   "source": [
    "from collections import Counter\n",
    "from datetime import datetime\n",
    "from pathlib import Path\n",
    "import pickle\n",
    "import sys\n",
    "from tqdm import tqdm\n",
    "\n",
    "from rdkit import Chem\n",
    "\n",
    "import matplotlib.pyplot as plt\n",
    "from pymatgen.core.structure import Molecule"
   ]
  },
  {
   "cell_type": "markdown",
   "id": "813f87de-7ae4-4746-9f2b-8256abe18fb7",
   "metadata": {},
   "source": [
    "Custom plotting code... ignore this if you don't know what it is, it should gracefully do nothing if you don't have the `MPLAdjutant` class. "
   ]
  },
  {
   "cell_type": "code",
   "execution_count": 3,
   "id": "ab130d4f-c85e-4657-8b5f-5495d56be4d9",
   "metadata": {},
   "outputs": [],
   "source": [
    "sys.path.append(str(Path.home() / Path(\"local\")))\n",
    "class NullClass:\n",
    "    def do_nothing(*args, **kwargs):\n",
    "        pass\n",
    "    def add_colorbar(self, im, **kwargs):\n",
    "        return plt.colorbar(im)\n",
    "    def __getattr__(self, _):\n",
    "        return self.do_nothing\n",
    "try:\n",
    "    from mpl_utils import MPLAdjutant\n",
    "    adj = MPLAdjutant()\n",
    "    adj.set_defaults()\n",
    "except ImportError:\n",
    "    adj = NullClass()"
   ]
  },
  {
   "cell_type": "markdown",
   "id": "1ecad749-6306-40bf-bb70-d9e5f7378648",
   "metadata": {},
   "source": [
    "Append the `home` path of this project."
   ]
  },
  {
   "cell_type": "code",
   "execution_count": 4,
   "id": "77708ce8-462d-4d5a-9f97-6ae089a9a852",
   "metadata": {},
   "outputs": [],
   "source": [
    "sys.path.append(str(Path.cwd().parent))"
   ]
  },
  {
   "cell_type": "markdown",
   "id": "4a8d5d44-b24b-45c3-b82e-a6542ee345f4",
   "metadata": {},
   "source": [
    "# Load the pickled data"
   ]
  },
  {
   "cell_type": "markdown",
   "id": "9634bebc-8513-47eb-b231-c1d27a8f685d",
   "metadata": {},
   "source": [
    "Load in the previously processed `pickle` data. These contain the features (ACSF) and targets (spectra) on a common grid for each of the three absorbing atom types of interest: C, N and O."
   ]
  },
  {
   "cell_type": "code",
   "execution_count": 5,
   "id": "94bcf6d6-f9b5-4f78-af8f-8f85b21ac80e",
   "metadata": {},
   "outputs": [],
   "source": [
    "O_data = pickle.load(open(\"../data/qm9/XANES-220622-ACSF-O.pkl\", \"rb\"))\n",
    "N_data = pickle.load(open(\"../data/qm9/XANES-220622-ACSF-N.pkl\", \"rb\"))\n",
    "C_data = pickle.load(open(\"../data/qm9/XANES-220622-ACSF-C.pkl\", \"rb\"))"
   ]
  },
  {
   "cell_type": "markdown",
   "id": "820d2e6b-4513-4bbf-a70e-3a4234797d84",
   "metadata": {},
   "source": [
    "Print some diagonstics..."
   ]
  },
  {
   "cell_type": "code",
   "execution_count": 6,
   "id": "5d57ef9b-85a7-41a2-9d69-d6bd77eaa22d",
   "metadata": {},
   "outputs": [
    {
     "name": "stdout",
     "output_type": "stream",
     "text": [
      "O database ACSF & spectrum shapes: (186813, 155) & (186813, 200)\n",
      "N database ACSF & spectrum shapes: (139058, 155) & (139058, 200)\n",
      "C database ACSF & spectrum shapes: (841912, 155) & (841912, 200)\n"
     ]
    }
   ],
   "source": [
    "print(f\"O database ACSF & spectrum shapes: {O_data['x'].shape} & {O_data['y'].shape}\")\n",
    "print(f\"N database ACSF & spectrum shapes: {N_data['x'].shape} & {N_data['y'].shape}\")\n",
    "print(f\"C database ACSF & spectrum shapes: {C_data['x'].shape} & {C_data['y'].shape}\")"
   ]
  },
  {
   "cell_type": "markdown",
   "id": "6e37598f-b54d-47ba-8091-5c88895aa3a5",
   "metadata": {},
   "source": [
    "Put everything in a dictionary for simplicity."
   ]
  },
  {
   "cell_type": "code",
   "execution_count": 7,
   "id": "3ac006f3-374d-4ace-9a6f-a1dda5da0bbe",
   "metadata": {},
   "outputs": [],
   "source": [
    "data = {\"O\": O_data, \"N\": N_data, \"C\": C_data}"
   ]
  },
  {
   "cell_type": "markdown",
   "id": "98c9dc89-6561-4318-8a8b-20637a337a63",
   "metadata": {},
   "source": [
    "# Start parsing"
   ]
  },
  {
   "cell_type": "markdown",
   "id": "9574fcac-f393-4499-96e0-628c8611bad6",
   "metadata": {},
   "source": [
    "## Option 1: train on molecules with at most two absorbers"
   ]
  },
  {
   "cell_type": "code",
   "execution_count": 62,
   "id": "9b5a9510-54cf-4bbe-970b-496c26d749e4",
   "metadata": {},
   "outputs": [],
   "source": [
    "from xas_nne.qm9 import split_qm9_data_by_number_of_absorbers"
   ]
  },
  {
   "cell_type": "code",
   "execution_count": 63,
   "id": "b03613f4-c4b3-48aa-a65b-77f78abfd1c8",
   "metadata": {},
   "outputs": [
    {
     "name": "stdout",
     "output_type": "stream",
     "text": [
      "Parsing the qm9 data by number of absorbers=N\n",
      "Training data will have <=2 absorbers\n",
      "Test data will get the rest\n",
      "Keeping zwitterions: False\n",
      "Computing smiles_to_n_absorbers_map\n"
     ]
    },
    {
     "name": "stderr",
     "output_type": "stream",
     "text": [
      "100%|███████████████████████████████████| 82559/82559 [00:56<00:00, 1449.01it/s]\n"
     ]
    }
   ],
   "source": [
    "parsed_data = split_qm9_data_by_number_of_absorbers(data[\"N\"], absorber=\"N\")"
   ]
  },
  {
   "cell_type": "code",
   "execution_count": null,
   "id": "181df74d-38bb-42ee-ac8d-9e42d6bbd5b8",
   "metadata": {},
   "outputs": [],
   "source": []
  }
 ],
 "metadata": {
  "kernelspec": {
   "display_name": "Python 3 (ipykernel)",
   "language": "python",
   "name": "python3"
  },
  "language_info": {
   "codemirror_mode": {
    "name": "ipython",
    "version": 3
   },
   "file_extension": ".py",
   "mimetype": "text/x-python",
   "name": "python",
   "nbconvert_exporter": "python",
   "pygments_lexer": "ipython3",
   "version": "3.9.10"
  },
  "toc-autonumbering": true,
  "toc-showmarkdowntxt": false
 },
 "nbformat": 4,
 "nbformat_minor": 5
}
