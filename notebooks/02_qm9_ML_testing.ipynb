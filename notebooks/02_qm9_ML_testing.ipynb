{
 "cells": [
  {
   "cell_type": "code",
   "execution_count": 1,
   "id": "c7c0172d-ad8e-42f8-b796-b4ec7833e33e",
   "metadata": {},
   "outputs": [],
   "source": [
    "%load_ext autoreload\n",
    "%autoreload 2\n",
    "%config Completer.use_jedi = False"
   ]
  },
  {
   "cell_type": "code",
   "execution_count": 2,
   "id": "f387788b-c16a-45d2-8e70-e309ca3b944d",
   "metadata": {},
   "outputs": [],
   "source": [
    "from datetime import datetime\n",
    "from pathlib import Path\n",
    "import pickle\n",
    "import sys\n",
    "\n",
    "import matplotlib.pyplot as plt\n",
    "from pymatgen.core.structure import Molecule"
   ]
  },
  {
   "cell_type": "markdown",
   "id": "813f87de-7ae4-4746-9f2b-8256abe18fb7",
   "metadata": {},
   "source": [
    "Custom plotting code... ignore this if you don't know what it is, it should gracefully do nothing if you don't have the `MPLAdjutant` class. "
   ]
  },
  {
   "cell_type": "code",
   "execution_count": 3,
   "id": "ab130d4f-c85e-4657-8b5f-5495d56be4d9",
   "metadata": {},
   "outputs": [],
   "source": [
    "sys.path.append(str(Path.home() / Path(\"local\")))\n",
    "class NullClass:\n",
    "    def do_nothing(*args, **kwargs):\n",
    "        pass\n",
    "    def add_colorbar(self, im, **kwargs):\n",
    "        return plt.colorbar(im)\n",
    "    def __getattr__(self, _):\n",
    "        return self.do_nothing\n",
    "try:\n",
    "    from mpl_utils import MPLAdjutant\n",
    "    adj = MPLAdjutant()\n",
    "    adj.set_defaults()\n",
    "except ImportError:\n",
    "    adj = NullClass()"
   ]
  },
  {
   "cell_type": "markdown",
   "id": "1ecad749-6306-40bf-bb70-d9e5f7378648",
   "metadata": {},
   "source": [
    "Append the `home` path of this project."
   ]
  },
  {
   "cell_type": "code",
   "execution_count": 4,
   "id": "77708ce8-462d-4d5a-9f97-6ae089a9a852",
   "metadata": {},
   "outputs": [],
   "source": [
    "sys.path.append(str(Path.cwd().parent))"
   ]
  },
  {
   "cell_type": "markdown",
   "id": "962c0676-04b5-4ce6-a2e3-9e565a5cdb99",
   "metadata": {},
   "source": [
    "# Load the data"
   ]
  },
  {
   "cell_type": "markdown",
   "id": "7a148a21-e58e-4c54-8f12-06b2a4ddd411",
   "metadata": {},
   "source": [
    "Let's just focus on the N database for now."
   ]
  },
  {
   "cell_type": "code",
   "execution_count": 5,
   "id": "921330cf-1f21-4084-9679-4cd38e46f4af",
   "metadata": {},
   "outputs": [],
   "source": [
    "data = pickle.load(open(\"../data/qm9/ml_ready/XANES-220625-ACSF-N-MAX_TRAINING_ABSORBERS-2.pkl\", \"rb\"))"
   ]
  },
  {
   "cell_type": "markdown",
   "id": "727f07db-ea31-459a-b4f1-3fb63e248e73",
   "metadata": {},
   "source": [
    "# Create the ML database"
   ]
  },
  {
   "cell_type": "markdown",
   "id": "b2b0487d-df2f-49c6-835f-c7312671e594",
   "metadata": {},
   "source": [
    "Construct a ML `Data` object. To do so we get a random validation split, then instantiate the `Data` object."
   ]
  },
  {
   "cell_type": "code",
   "execution_count": 6,
   "id": "7d73f6e3-eea4-4dab-b022-dcaf8bf1d157",
   "metadata": {},
   "outputs": [
    {
     "name": "stderr",
     "output_type": "stream",
     "text": [
      "/home/mcarbone/miniconda3/envs/py3.9/lib/python3.9/site-packages/tqdm/auto.py:22: TqdmWarning: IProgress not found. Please update jupyter and ipywidgets. See https://ipywidgets.readthedocs.io/en/stable/user_install.html\n",
      "  from .autonotebook import tqdm as notebook_tqdm\n"
     ]
    }
   ],
   "source": [
    "import torch\n",
    "from torch.utils.data import random_split"
   ]
  },
  {
   "cell_type": "code",
   "execution_count": 7,
   "id": "a15f87a7-7298-4e0c-8fc1-21f15d9706ff",
   "metadata": {},
   "outputs": [],
   "source": [
    "from xas_nne.ml import Ensemble"
   ]
  },
  {
   "cell_type": "code",
   "execution_count": 24,
   "id": "b82ca8f2-7e7c-4031-a606-e05ad440777c",
   "metadata": {},
   "outputs": [
    {
     "name": "stderr",
     "output_type": "stream",
     "text": [
      "Global seed set to 123\n"
     ]
    },
    {
     "name": "stdout",
     "output_type": "stream",
     "text": [
      "Renamed existing root Estimators/test to Estimators/test-220626-112553\n"
     ]
    }
   ],
   "source": [
    "ensemble = Ensemble.from_random_architectures(root=\"Estimators/test\", n_estimators=10, seed=123)"
   ]
  },
  {
   "cell_type": "code",
   "execution_count": 25,
   "id": "9911ca88-9551-4dfc-b8fd-4de1370834d4",
   "metadata": {},
   "outputs": [
    {
     "name": "stderr",
     "output_type": "stream",
     "text": [
      "Auto select gpus: [0]\n",
      "GPU available: True, used: True\n",
      "TPU available: False, using: 0 TPU cores\n",
      "IPU available: False, using: 0 IPUs\n",
      "HPU available: False, using: 0 HPUs\n",
      "LOCAL_RANK: 0 - CUDA_VISIBLE_DEVICES: [0]\n",
      "\n",
      "  | Name      | Type                     | Params\n",
      "-------------------------------------------------------\n",
      "0 | _model    | FeedForwardNeuralNetwork | 292 K \n",
      "1 | criterion | L1Loss                   | 0     \n",
      "-------------------------------------------------------\n",
      "292 K     Trainable params\n",
      "0         Non-trainable params\n",
      "292 K     Total params\n",
      "1.172     Total estimated model params size (MB)\n"
     ]
    },
    {
     "name": "stdout",
     "output_type": "stream",
     "text": [
      "Training estimator 0\n",
      "Initializing from random architecture: [155, 241, 223, 228, 228, 223, 200]\n",
      "Initialized model from random architecture using arguments {'min_layers': 4, 'max_layers': 8, 'min_neurons_per_layer': 160, 'max_neurons_per_layer': 300, 'dropout': 0.0, 'batch_norm': True, 'activation': 'leaky_relu', 'last_activation': 'relu', 'criterion': 'mae', 'last_batch_norm': False}\n",
      "Root set to Estimators/test/000000/000000\n",
      "Setting optimizer family: {'lr': 0.01, 'patience': 10, 'min_lr': 1e-07, 'factor': 0.95, 'monitor': 'val_loss'}\n",
      "Setting trainer with cuda=True\n",
      "Epoch 00020\n",
      "\tlr: 1.000e-02\n",
      "\tcv loss 8.836e-02\n",
      "\ttr loss 8.700e-02 | 0.01 m\n",
      "Epoch 00040\n",
      "\tlr: 1.000e-02\n",
      "\tcv loss 7.332e-02\n",
      "\ttr loss 6.992e-02 | 0.01 m\n",
      "Epoch 00060\n",
      "\tlr: 1.000e-02\n",
      "\tcv loss 6.895e-02\n",
      "\ttr loss 6.246e-02 | 0.01 m\n",
      "Epoch 00080\n",
      "\tlr: 9.500e-03\n",
      "\tcv loss 6.854e-02\n",
      "\ttr loss 6.509e-02 | 0.01 m\n",
      "Epoch 00100\n",
      "\tlr: 9.025e-03\n",
      "\tcv loss 6.523e-02\n",
      "\ttr loss 6.048e-02 | 0.01 m\n"
     ]
    }
   ],
   "source": [
    "ensemble.train(\n",
    "    training_data=data[\"train\"],\n",
    "    ensemble_index=0,\n",
    "    estimator_index=0,\n",
    "    epochs=100,\n",
    ")"
   ]
  },
  {
   "cell_type": "code",
   "execution_count": 26,
   "id": "6c15ac7c-4c25-4bcd-a7e1-3cf2171bbc2f",
   "metadata": {},
   "outputs": [],
   "source": [
    "est = ensemble._estimators[0]"
   ]
  },
  {
   "cell_type": "code",
   "execution_count": 27,
   "id": "39692867-f8b0-4495-aa3f-174d24c4e512",
   "metadata": {},
   "outputs": [],
   "source": [
    "gt = data[\"test\"][\"y\"]"
   ]
  },
  {
   "cell_type": "code",
   "execution_count": 28,
   "id": "023f4d36-0639-4d3e-9f5b-8472abf0f980",
   "metadata": {},
   "outputs": [],
   "source": [
    "pred = est.predict(data[\"test\"][\"x\"])"
   ]
  },
  {
   "cell_type": "code",
   "execution_count": 78,
   "id": "b71c5b1a-667b-4a67-864d-c70d26fd44b6",
   "metadata": {},
   "outputs": [
    {
     "data": {
      "text/plain": [
       "[<matplotlib.lines.Line2D at 0x7f21683a53a0>]"
      ]
     },
     "execution_count": 78,
     "metadata": {},
     "output_type": "execute_result"
    },
    {
     "data": {
      "image/png": "[encoded data removed]",
      "text/plain": [
       "<Figure size 216x144 with 1 Axes>"
      ]
     },
     "metadata": {
      "needs_background": "light"
     },
     "output_type": "display_data"
    }
   ],
   "source": [
    "fig, ax = plt.subplots(1, 1, figsize=(3, 2))\n",
    "\n",
    "ii = -18\n",
    "ax.plot(data[\"train\"][\"grid\"], gt[ii], 'k-')\n",
    "ax.plot(data[\"train\"][\"grid\"], pred[ii], 'r--')"
   ]
  },
  {
   "cell_type": "code",
   "execution_count": 81,
   "id": "214937f0-d16a-41f3-8a65-f89d908c05bd",
   "metadata": {},
   "outputs": [
    {
     "data": {
      "text/plain": [
       "LightningMultiLayerPerceptron(\n",
       "  (_model): FeedForwardNeuralNetwork(\n",
       "    (_layers): Sequential(\n",
       "      (0): FeedforwardLayer(\n",
       "        (_layers): Sequential(\n",
       "          (0): Linear(in_features=155, out_features=241, bias=True)\n",
       "          (1): LeakyReLU(negative_slope=0.01)\n",
       "          (2): BatchNorm1d(241, eps=1e-05, momentum=0.1, affine=True, track_running_stats=True)\n",
       "        )\n",
       "      )\n",
       "      (1): FeedforwardLayer(\n",
       "        (_layers): Sequential(\n",
       "          (0): Linear(in_features=241, out_features=223, bias=True)\n",
       "          (1): LeakyReLU(negative_slope=0.01)\n",
       "          (2): BatchNorm1d(223, eps=1e-05, momentum=0.1, affine=True, track_running_stats=True)\n",
       "        )\n",
       "      )\n",
       "      (2): FeedforwardLayer(\n",
       "        (_layers): Sequential(\n",
       "          (0): Linear(in_features=223, out_features=228, bias=True)\n",
       "          (1): LeakyReLU(negative_slope=0.01)\n",
       "          (2): BatchNorm1d(228, eps=1e-05, momentum=0.1, affine=True, track_running_stats=True)\n",
       "        )\n",
       "      )\n",
       "      (3): FeedforwardLayer(\n",
       "        (_layers): Sequential(\n",
       "          (0): Linear(in_features=228, out_features=228, bias=True)\n",
       "          (1): LeakyReLU(negative_slope=0.01)\n",
       "          (2): BatchNorm1d(228, eps=1e-05, momentum=0.1, affine=True, track_running_stats=True)\n",
       "        )\n",
       "      )\n",
       "      (4): FeedforwardLayer(\n",
       "        (_layers): Sequential(\n",
       "          (0): Linear(in_features=228, out_features=223, bias=True)\n",
       "          (1): LeakyReLU(negative_slope=0.01)\n",
       "          (2): BatchNorm1d(223, eps=1e-05, momentum=0.1, affine=True, track_running_stats=True)\n",
       "        )\n",
       "      )\n",
       "      (5): FeedforwardLayer(\n",
       "        (_layers): Sequential(\n",
       "          (0): Linear(in_features=223, out_features=200, bias=True)\n",
       "          (1): ReLU()\n",
       "        )\n",
       "      )\n",
       "    )\n",
       "  )\n",
       "  (criterion): L1Loss()\n",
       ")"
      ]
     },
     "execution_count": 81,
     "metadata": {},
     "output_type": "execute_result"
    }
   ],
   "source": [
    "est.best_model"
   ]
  },
  {
   "cell_type": "code",
   "execution_count": null,
   "id": "b958e84b-0a79-4f83-8f90-be8dd3afefef",
   "metadata": {},
   "outputs": [],
   "source": []
  }
 ],
 "metadata": {
  "kernelspec": {
   "display_name": "Python 3 (ipykernel)",
   "language": "python",
   "name": "python3"
  },
  "language_info": {
   "codemirror_mode": {
    "name": "ipython",
    "version": 3
   },
   "file_extension": ".py",
   "mimetype": "text/x-python",
   "name": "python",
   "nbconvert_exporter": "python",
   "pygments_lexer": "ipython3",
   "version": "3.9.12"
  },
  "toc-autonumbering": true,
  "toc-showmarkdowntxt": false
 },
 "nbformat": 4,
 "nbformat_minor": 5
}
