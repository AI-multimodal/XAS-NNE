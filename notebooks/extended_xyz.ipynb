{
 "cells": [
  {
   "cell_type": "code",
   "execution_count": 1,
   "id": "c7c0172d-ad8e-42f8-b796-b4ec7833e33e",
   "metadata": {},
   "outputs": [],
   "source": [
    "%load_ext autoreload\n",
    "%autoreload 2\n",
    "%config Completer.use_jedi = False"
   ]
  },
  {
   "cell_type": "code",
   "execution_count": 67,
   "id": "f387788b-c16a-45d2-8e70-e309ca3b944d",
   "metadata": {},
   "outputs": [],
   "source": [
    "from datetime import datetime\n",
    "from pathlib import Path\n",
    "import sys\n",
    "from tqdm import tqdm\n",
    "\n",
    "import matplotlib.pyplot as plt\n",
    "from pymatgen.core.structure import Molecule"
   ]
  },
  {
   "cell_type": "markdown",
   "id": "813f87de-7ae4-4746-9f2b-8256abe18fb7",
   "metadata": {},
   "source": [
    "Custom plotting code... ignore this if you don't know what it is, it should gracefully do nothing if you don't have the `MPLAdjutant` class. "
   ]
  },
  {
   "cell_type": "code",
   "execution_count": 3,
   "id": "ab130d4f-c85e-4657-8b5f-5495d56be4d9",
   "metadata": {},
   "outputs": [],
   "source": [
    "sys.path.append(str(Path.home() / Path(\"local\")))\n",
    "class NullClass:\n",
    "    def do_nothing(*args, **kwargs):\n",
    "        pass\n",
    "    def add_colorbar(self, im, **kwargs):\n",
    "        return plt.colorbar(im)\n",
    "    def __getattr__(self, _):\n",
    "        return self.do_nothing\n",
    "try:\n",
    "    from mpl_utils import MPLAdjutant\n",
    "    adj = MPLAdjutant()\n",
    "    adj.set_defaults()\n",
    "except ImportError:\n",
    "    adj = NullClass()"
   ]
  },
  {
   "cell_type": "markdown",
   "id": "1ecad749-6306-40bf-bb70-d9e5f7378648",
   "metadata": {},
   "source": [
    "Append the `home` path of this project."
   ]
  },
  {
   "cell_type": "code",
   "execution_count": 4,
   "id": "77708ce8-462d-4d5a-9f97-6ae089a9a852",
   "metadata": {},
   "outputs": [],
   "source": [
    "sys.path.append(str(Path.cwd().parent))"
   ]
  },
  {
   "cell_type": "markdown",
   "id": "610ec4e1-4201-4236-acbd-d37380be0ff7",
   "metadata": {},
   "source": [
    "# Introduction"
   ]
  },
  {
   "cell_type": "markdown",
   "id": "da4f157b-be84-401e-85c3-d8153c003b9f",
   "metadata": {},
   "source": [
    "This notebook contains all of the processing scripts necessary for constructing FEFF input files, parsing the results, creating the ACSF feature inputs, etc. for the small molecule MD databases."
   ]
  },
  {
   "cell_type": "markdown",
   "id": "8ecc2c41-7016-4fc0-bc5c-10c2ff66cd34",
   "metadata": {},
   "source": [
    "## Process the extended xyz files to memory"
   ]
  },
  {
   "cell_type": "code",
   "execution_count": 49,
   "id": "259c59cc-5536-4205-bb0a-b521a37f3e08",
   "metadata": {},
   "outputs": [],
   "source": [
    "from xas_nne.xyz import process_extended_xyz_file_to_array\n",
    "from xas_nne.feff import FeffWriter, load_completed_FEFF_results  # noqa"
   ]
  },
  {
   "cell_type": "code",
   "execution_count": 59,
   "id": "42889c61-48fd-49fd-83a9-75068dfbd2b7",
   "metadata": {},
   "outputs": [],
   "source": [
    "extended_xyz_path = \"../data/molecule_md/Chmiela2017/benzene_old_dft.xyz\""
   ]
  },
  {
   "cell_type": "code",
   "execution_count": 60,
   "id": "fc56472b-08ef-4f56-9ddd-7314df21881d",
   "metadata": {},
   "outputs": [
    {
     "name": "stdout",
     "output_type": "stream",
     "text": [
      "Read 8791762 lines from ../data/molecule_md/Chmiela2017/benzene_old_dft.xyz, each block has 12 atoms\n",
      "Got 627983 snapshots\n"
     ]
    }
   ],
   "source": [
    "res = process_extended_xyz_file_to_array(extended_xyz_path)"
   ]
  },
  {
   "cell_type": "markdown",
   "id": "6b303763-8588-4dc8-92f5-bcf3bc919586",
   "metadata": {},
   "source": [
    "## Write the FEFF input files for each absorbing site"
   ]
  },
  {
   "cell_type": "code",
   "execution_count": 61,
   "id": "9297e075-e34e-4403-a782-00dddb7c693d",
   "metadata": {},
   "outputs": [],
   "source": [
    "from pymatgen.core.sites import Site\n",
    "from pymatgen.core.structure import Molecule"
   ]
  },
  {
   "cell_type": "code",
   "execution_count": 64,
   "id": "18367905-d242-4e7c-8838-290a531ffe40",
   "metadata": {},
   "outputs": [],
   "source": [
    "XANES = True  # EXAFS if False, XANES if True\n",
    "ABSORBERS = [\"C\", \"N\", \"O\"]"
   ]
  },
  {
   "cell_type": "code",
   "execution_count": 69,
   "id": "55667b14-b520-4a83-b54b-ce6c3cb0014d",
   "metadata": {
    "collapsed": true,
    "jupyter": {
     "outputs_hidden": true
    },
    "tags": []
   },
   "outputs": [
    {
     "name": "stderr",
     "output_type": "stream",
     "text": [
      "  0%|▏                                   | 3132/627983 [00:06<21:46, 478.42it/s]\n"
     ]
    },
    {
     "ename": "KeyboardInterrupt",
     "evalue": "",
     "output_type": "error",
     "traceback": [
      "\u001b[0;31m---------------------------------------------------------------------------\u001b[0m",
      "\u001b[0;31mKeyboardInterrupt\u001b[0m                         Traceback (most recent call last)",
      "\u001b[0;32m/var/folders/f8/_cfts49s73g_fp5xx2c9hgbr0000gn/T/ipykernel_52636/2106949059.py\u001b[0m in \u001b[0;36m<module>\u001b[0;34m\u001b[0m\n\u001b[1;32m      6\u001b[0m     \u001b[0;32mfor\u001b[0m \u001b[0mabsorber\u001b[0m \u001b[0;32min\u001b[0m \u001b[0mcurrent_absorbers\u001b[0m\u001b[0;34m:\u001b[0m\u001b[0;34m\u001b[0m\u001b[0;34m\u001b[0m\u001b[0m\n\u001b[1;32m      7\u001b[0m         \u001b[0mdname\u001b[0m \u001b[0;34m=\u001b[0m \u001b[0mPath\u001b[0m\u001b[0;34m(\u001b[0m\u001b[0;34mf\"{absorber}-{SPECTRUM_TYPE}\"\u001b[0m\u001b[0;34m)\u001b[0m \u001b[0;34m/\u001b[0m \u001b[0mPath\u001b[0m\u001b[0;34m(\u001b[0m\u001b[0;34mf\"{ii:08}\"\u001b[0m\u001b[0;34m)\u001b[0m\u001b[0;34m\u001b[0m\u001b[0;34m\u001b[0m\u001b[0m\n\u001b[0;32m----> 8\u001b[0;31m         \u001b[0mf\u001b[0m\u001b[0;34m.\u001b[0m\u001b[0mwrite_feff_inputs\u001b[0m\u001b[0;34m(\u001b[0m\u001b[0mstr\u001b[0m\u001b[0;34m(\u001b[0m\u001b[0mdname\u001b[0m\u001b[0;34m)\u001b[0m\u001b[0;34m,\u001b[0m \u001b[0mabsorber\u001b[0m\u001b[0;34m=\u001b[0m\u001b[0mabsorber\u001b[0m\u001b[0;34m)\u001b[0m\u001b[0;34m\u001b[0m\u001b[0;34m\u001b[0m\u001b[0m\n\u001b[0m",
      "\u001b[0;32m~/Github/XAS-NNE/xas_nne/feff.py\u001b[0m in \u001b[0;36mwrite_feff_inputs\u001b[0;34m(self, target_directory, absorber)\u001b[0m\n\u001b[1;32m    256\u001b[0m             )\n\u001b[1;32m    257\u001b[0m             \u001b[0msite_target_directory\u001b[0m\u001b[0;34m.\u001b[0m\u001b[0mmkdir\u001b[0m\u001b[0;34m(\u001b[0m\u001b[0mexist_ok\u001b[0m\u001b[0;34m=\u001b[0m\u001b[0;32mTrue\u001b[0m\u001b[0;34m,\u001b[0m \u001b[0mparents\u001b[0m\u001b[0;34m=\u001b[0m\u001b[0;32mTrue\u001b[0m\u001b[0;34m)\u001b[0m\u001b[0;34m\u001b[0m\u001b[0;34m\u001b[0m\u001b[0m\n\u001b[0;32m--> 258\u001b[0;31m             \u001b[0mpath\u001b[0m \u001b[0;34m=\u001b[0m \u001b[0msite_target_directory\u001b[0m \u001b[0;34m/\u001b[0m \u001b[0mPath\u001b[0m\u001b[0;34m(\u001b[0m\u001b[0;34m\"feff.inp\"\u001b[0m\u001b[0;34m)\u001b[0m\u001b[0;34m\u001b[0m\u001b[0;34m\u001b[0m\u001b[0m\n\u001b[0m\u001b[1;32m    259\u001b[0m \u001b[0;34m\u001b[0m\u001b[0m\n\u001b[1;32m    260\u001b[0m             \u001b[0;32mwith\u001b[0m \u001b[0mopen\u001b[0m\u001b[0;34m(\u001b[0m\u001b[0mpath\u001b[0m\u001b[0;34m,\u001b[0m \u001b[0;34m\"w\"\u001b[0m\u001b[0;34m)\u001b[0m \u001b[0;32mas\u001b[0m \u001b[0mf\u001b[0m\u001b[0;34m:\u001b[0m\u001b[0;34m\u001b[0m\u001b[0;34m\u001b[0m\u001b[0m\n",
      "\u001b[0;32m~/miniforge3/envs/py3.9/lib/python3.9/pathlib.py\u001b[0m in \u001b[0;36m__new__\u001b[0;34m(cls, *args, **kwargs)\u001b[0m\n\u001b[1;32m   1080\u001b[0m         \u001b[0;32mif\u001b[0m \u001b[0mcls\u001b[0m \u001b[0;32mis\u001b[0m \u001b[0mPath\u001b[0m\u001b[0;34m:\u001b[0m\u001b[0;34m\u001b[0m\u001b[0;34m\u001b[0m\u001b[0m\n\u001b[1;32m   1081\u001b[0m             \u001b[0mcls\u001b[0m \u001b[0;34m=\u001b[0m \u001b[0mWindowsPath\u001b[0m \u001b[0;32mif\u001b[0m \u001b[0mos\u001b[0m\u001b[0;34m.\u001b[0m\u001b[0mname\u001b[0m \u001b[0;34m==\u001b[0m \u001b[0;34m'nt'\u001b[0m \u001b[0;32melse\u001b[0m \u001b[0mPosixPath\u001b[0m\u001b[0;34m\u001b[0m\u001b[0;34m\u001b[0m\u001b[0m\n\u001b[0;32m-> 1082\u001b[0;31m         \u001b[0mself\u001b[0m \u001b[0;34m=\u001b[0m \u001b[0mcls\u001b[0m\u001b[0;34m.\u001b[0m\u001b[0m_from_parts\u001b[0m\u001b[0;34m(\u001b[0m\u001b[0margs\u001b[0m\u001b[0;34m,\u001b[0m \u001b[0minit\u001b[0m\u001b[0;34m=\u001b[0m\u001b[0;32mFalse\u001b[0m\u001b[0;34m)\u001b[0m\u001b[0;34m\u001b[0m\u001b[0;34m\u001b[0m\u001b[0m\n\u001b[0m\u001b[1;32m   1083\u001b[0m         \u001b[0;32mif\u001b[0m \u001b[0;32mnot\u001b[0m \u001b[0mself\u001b[0m\u001b[0;34m.\u001b[0m\u001b[0m_flavour\u001b[0m\u001b[0;34m.\u001b[0m\u001b[0mis_supported\u001b[0m\u001b[0;34m:\u001b[0m\u001b[0;34m\u001b[0m\u001b[0;34m\u001b[0m\u001b[0m\n\u001b[1;32m   1084\u001b[0m             raise NotImplementedError(\"cannot instantiate %r on your system\"\n",
      "\u001b[0;32m~/miniforge3/envs/py3.9/lib/python3.9/pathlib.py\u001b[0m in \u001b[0;36m_from_parts\u001b[0;34m(cls, args, init)\u001b[0m\n\u001b[1;32m    705\u001b[0m         \u001b[0;31m# right flavour.\u001b[0m\u001b[0;34m\u001b[0m\u001b[0;34m\u001b[0m\u001b[0m\n\u001b[1;32m    706\u001b[0m         \u001b[0mself\u001b[0m \u001b[0;34m=\u001b[0m \u001b[0mobject\u001b[0m\u001b[0;34m.\u001b[0m\u001b[0m__new__\u001b[0m\u001b[0;34m(\u001b[0m\u001b[0mcls\u001b[0m\u001b[0;34m)\u001b[0m\u001b[0;34m\u001b[0m\u001b[0;34m\u001b[0m\u001b[0m\n\u001b[0;32m--> 707\u001b[0;31m         \u001b[0mdrv\u001b[0m\u001b[0;34m,\u001b[0m \u001b[0mroot\u001b[0m\u001b[0;34m,\u001b[0m \u001b[0mparts\u001b[0m \u001b[0;34m=\u001b[0m \u001b[0mself\u001b[0m\u001b[0;34m.\u001b[0m\u001b[0m_parse_args\u001b[0m\u001b[0;34m(\u001b[0m\u001b[0margs\u001b[0m\u001b[0;34m)\u001b[0m\u001b[0;34m\u001b[0m\u001b[0;34m\u001b[0m\u001b[0m\n\u001b[0m\u001b[1;32m    708\u001b[0m         \u001b[0mself\u001b[0m\u001b[0;34m.\u001b[0m\u001b[0m_drv\u001b[0m \u001b[0;34m=\u001b[0m \u001b[0mdrv\u001b[0m\u001b[0;34m\u001b[0m\u001b[0;34m\u001b[0m\u001b[0m\n\u001b[1;32m    709\u001b[0m         \u001b[0mself\u001b[0m\u001b[0;34m.\u001b[0m\u001b[0m_root\u001b[0m \u001b[0;34m=\u001b[0m \u001b[0mroot\u001b[0m\u001b[0;34m\u001b[0m\u001b[0;34m\u001b[0m\u001b[0m\n",
      "\u001b[0;32m~/miniforge3/envs/py3.9/lib/python3.9/pathlib.py\u001b[0m in \u001b[0;36m_parse_args\u001b[0;34m(cls, args)\u001b[0m\n\u001b[1;32m    698\u001b[0m                         \u001b[0;34m\"object returning str, not %r\"\u001b[0m\u001b[0;34m\u001b[0m\u001b[0;34m\u001b[0m\u001b[0m\n\u001b[1;32m    699\u001b[0m                         % type(a))\n\u001b[0;32m--> 700\u001b[0;31m         \u001b[0;32mreturn\u001b[0m \u001b[0mcls\u001b[0m\u001b[0;34m.\u001b[0m\u001b[0m_flavour\u001b[0m\u001b[0;34m.\u001b[0m\u001b[0mparse_parts\u001b[0m\u001b[0;34m(\u001b[0m\u001b[0mparts\u001b[0m\u001b[0;34m)\u001b[0m\u001b[0;34m\u001b[0m\u001b[0;34m\u001b[0m\u001b[0m\n\u001b[0m\u001b[1;32m    701\u001b[0m \u001b[0;34m\u001b[0m\u001b[0m\n\u001b[1;32m    702\u001b[0m     \u001b[0;34m@\u001b[0m\u001b[0mclassmethod\u001b[0m\u001b[0;34m\u001b[0m\u001b[0;34m\u001b[0m\u001b[0m\n",
      "\u001b[0;32m~/miniforge3/envs/py3.9/lib/python3.9/pathlib.py\u001b[0m in \u001b[0;36mparse_parts\u001b[0;34m(self, parts)\u001b[0m\n\u001b[1;32m     64\u001b[0m     \u001b[0;32mdef\u001b[0m \u001b[0mparse_parts\u001b[0m\u001b[0;34m(\u001b[0m\u001b[0mself\u001b[0m\u001b[0;34m,\u001b[0m \u001b[0mparts\u001b[0m\u001b[0;34m)\u001b[0m\u001b[0;34m:\u001b[0m\u001b[0;34m\u001b[0m\u001b[0;34m\u001b[0m\u001b[0m\n\u001b[1;32m     65\u001b[0m         \u001b[0mparsed\u001b[0m \u001b[0;34m=\u001b[0m \u001b[0;34m[\u001b[0m\u001b[0;34m]\u001b[0m\u001b[0;34m\u001b[0m\u001b[0;34m\u001b[0m\u001b[0m\n\u001b[0;32m---> 66\u001b[0;31m         \u001b[0msep\u001b[0m \u001b[0;34m=\u001b[0m \u001b[0mself\u001b[0m\u001b[0;34m.\u001b[0m\u001b[0msep\u001b[0m\u001b[0;34m\u001b[0m\u001b[0;34m\u001b[0m\u001b[0m\n\u001b[0m\u001b[1;32m     67\u001b[0m         \u001b[0maltsep\u001b[0m \u001b[0;34m=\u001b[0m \u001b[0mself\u001b[0m\u001b[0;34m.\u001b[0m\u001b[0maltsep\u001b[0m\u001b[0;34m\u001b[0m\u001b[0;34m\u001b[0m\u001b[0m\n\u001b[1;32m     68\u001b[0m         \u001b[0mdrv\u001b[0m \u001b[0;34m=\u001b[0m \u001b[0mroot\u001b[0m \u001b[0;34m=\u001b[0m \u001b[0;34m''\u001b[0m\u001b[0;34m\u001b[0m\u001b[0;34m\u001b[0m\u001b[0m\n",
      "\u001b[0;31mKeyboardInterrupt\u001b[0m: "
     ]
    }
   ],
   "source": [
    "current_absorbers = [aa for aa in ABSORBERS if aa in res[\"elements\"]]\n",
    "\n",
    "for ii, snapshot in enumerate(tqdm(res[\"coordinates\"])):\n",
    "    molecule = Molecule.from_sites([Site(species, coords) for species, coords in zip(res[\"elements\"], snapshot)])\n",
    "    f = FeffWriter(molecule, xanes=XANES, name=f\"{ii:08}\")\n",
    "    for absorber in current_absorbers:\n",
    "        dname = Path(f\"{absorber}-{SPECTRUM_TYPE}\") / Path(f\"{ii:08}\")\n",
    "        f.write_feff_inputs(str(dname), absorber=absorber)"
   ]
  },
  {
   "cell_type": "markdown",
   "id": "550dca49-8e9a-438f-8b73-642b093d88b2",
   "metadata": {},
   "source": [
    "## Load the FEFF results"
   ]
  },
  {
   "cell_type": "markdown",
   "id": "6eef482b-01a9-45e2-8072-cc7056748c24",
   "metadata": {},
   "source": [
    "In this step, we also compile everything in one spot and `pickle` it so that reloading from disk is fast."
   ]
  },
  {
   "cell_type": "code",
   "execution_count": null,
   "id": "34ef0fea-77b3-4183-af62-f87101013928",
   "metadata": {},
   "outputs": [],
   "source": []
  },
  {
   "cell_type": "code",
   "execution_count": null,
   "id": "38695220-b5d3-4242-8553-3feb7b1bbe0b",
   "metadata": {},
   "outputs": [],
   "source": []
  },
  {
   "cell_type": "code",
   "execution_count": null,
   "id": "e1221769-a229-45c8-8613-797173437715",
   "metadata": {},
   "outputs": [],
   "source": []
  },
  {
   "cell_type": "code",
   "execution_count": null,
   "id": "7dfc1457-c53b-4c8a-a159-0f50f2199212",
   "metadata": {},
   "outputs": [],
   "source": []
  },
  {
   "cell_type": "markdown",
   "id": "946441e3-11c6-4b93-8add-73a8faea523f",
   "metadata": {
    "tags": []
   },
   "source": [
    "# Construct the ACSF feature vectors"
   ]
  },
  {
   "cell_type": "markdown",
   "id": "9ada6597-bb90-4960-89d7-e40cac6cd590",
   "metadata": {},
   "source": [
    "We use the Atom-centered Symmetry Functions (ACSF) feature vectors as inputs for the ML models. See [here](https://singroup.github.io/dscribe/latest/tutorials/descriptors/acsf.html) for the `Dscribe` library implementation docs. This is the original paper:\n",
    "\n",
    "> Jörg Behler. Atom-centered symmetry functions for constructing high-dimensional neural network potentials. J. Chem. Phys., 134(7):074106, 2011.\n",
    "\n",
    "We use roughly the same parameters as in the original ænet paper:\n",
    "\n",
    "> ..."
   ]
  },
  {
   "cell_type": "code",
   "execution_count": null,
   "id": "d8d2400d-d088-4052-b833-5817642918a5",
   "metadata": {},
   "outputs": [],
   "source": [
    "from dscribe.descriptors import ACSF"
   ]
  },
  {
   "cell_type": "markdown",
   "id": "a965bb42-f8a4-4db7-ac53-e2c127104522",
   "metadata": {},
   "source": [
    "Read in the results from the outputs of the previous scripts. This is a relatively large `pickle` file (~20 GB) so proceed with caution."
   ]
  },
  {
   "cell_type": "code",
   "execution_count": null,
   "id": "214b42de-70af-49a2-b8fa-070975298ac6",
   "metadata": {},
   "outputs": [],
   "source": [
    "path = Path(\"../data/qm9/XANES-220622-C-N-O.pkl\")\n",
    "print(path.exists())\n",
    "data = pickle.load(open(path, \"rb\"))"
   ]
  },
  {
   "cell_type": "markdown",
   "id": "39ce699a-a499-45a1-b522-9fdecbcea1ce",
   "metadata": {},
   "source": [
    "Setup some common grids for interpolating all of the spectra onto."
   ]
  },
  {
   "cell_type": "code",
   "execution_count": null,
   "id": "5c8e846d-4024-46ce-ae6c-470c77f0dc03",
   "metadata": {},
   "outputs": [],
   "source": [
    "N = 200\n",
    "grids = {\n",
    "    \"O\": np.linspace(528, 582, N),\n",
    "    \"N\": np.linspace(395, 449, N),\n",
    "    \"C\": np.linspace(275, 329, N)\n",
    "}"
   ]
  },
  {
   "cell_type": "markdown",
   "id": "d962698d-48ab-4d34-b72f-93486fed9a3a",
   "metadata": {},
   "source": [
    "## Construct for each absorbing atom type"
   ]
  },
  {
   "cell_type": "code",
   "execution_count": null,
   "id": "6992b89a-ff32-4c58-bb75-3d61e0806d7e",
   "metadata": {},
   "outputs": [],
   "source": [
    "CENTRAL_ATOM = \"C\"   # C, N or O"
   ]
  },
  {
   "cell_type": "code",
   "execution_count": null,
   "id": "85d080d7-92b2-4335-806d-2acf51ce1357",
   "metadata": {},
   "outputs": [],
   "source": [
    "species = [\"H\", \"C\", \"O\", \"N\", \"F\"]\n",
    "rcut = 6.0\n",
    "g2_params = [[1.0, 0], [0.1, 0], [0.01, 0]]\n",
    "g4_params=[\n",
    "    [0.001, 1.0, -1.0],\n",
    "    [0.001, 2.0, -1.0],\n",
    "    [0.001, 4.0, -1.0],\n",
    "    [0.01, 1.0, -1.0],\n",
    "    [0.01, 2.0, -1.0],\n",
    "    [0.01, 4.0, -1.0],\n",
    "    [0.1, 1.0, -1.0],\n",
    "    [0.1, 2.0, -1.0],\n",
    "    [0.1, 3.0, -1.0]\n",
    "]\n",
    "grid = grids[CENTRAL_ATOM]\n",
    "acsf = ACSF(\n",
    "    species=species,\n",
    "    rcut=rcut,\n",
    "    g2_params=g2_params,\n",
    "    g4_params=g4_params\n",
    ")"
   ]
  },
  {
   "cell_type": "markdown",
   "id": "b6ec2721-ef31-42aa-8beb-67c7876e4681",
   "metadata": {},
   "source": [
    "Generate the ACSF vectors."
   ]
  },
  {
   "cell_type": "code",
   "execution_count": null,
   "id": "0ea4ffa3-ac56-4bdd-8128-f191707aab86",
   "metadata": {},
   "outputs": [],
   "source": [
    "origin_smiles = []\n",
    "molecule_site_pairs = []\n",
    "acsf_array = []\n",
    "spectra = []\n",
    "\n",
    "# cc = 0\n",
    "for qm9id, datum in tqdm(data.items()):\n",
    "    molecule = Molecule.from_dict(datum[\"molecule\"])\n",
    "    atoms = []\n",
    "    central_atom_indexes = []\n",
    "    for ii, site in enumerate(molecule):\n",
    "        atom = Atom(site.specie.symbol, site.coords)\n",
    "        atoms.append(atom)\n",
    "        if site.specie.symbol == CENTRAL_ATOM:\n",
    "            central_atom_indexes.append(ii)\n",
    "    atoms = Atoms(atoms)\n",
    "    \n",
    "    if len(central_atom_indexes) == 0:\n",
    "        continue\n",
    "\n",
    "    tmp_acsf = acsf.create(atoms, positions=central_atom_indexes)\n",
    "    \n",
    "    for idx, ii in enumerate(central_atom_indexes):\n",
    "        key = f\"{ii}_{CENTRAL_ATOM}\"\n",
    "        s = np.array(datum[\"xanes\"][key][\"spectrum\"])\n",
    "\n",
    "        try:\n",
    "            spline = InterpolatedUnivariateSpline(s[:, 0], s[:, 3])\n",
    "        except IndexError:\n",
    "            continue\n",
    "            \n",
    "        res = spline(grid)\n",
    "        \n",
    "        # Oxygen and Carbon screening condition for unphysical/outlier results\n",
    "        if CENTRAL_ATOM == \"O\":\n",
    "            if np.any(res[:10] > 5.0):\n",
    "                continue\n",
    "        elif CENTRAL_ATOM == \"C\":\n",
    "            if np.any(res[:35] > 10.0):\n",
    "                continue\n",
    "        \n",
    "        origin_smiles.append(datum[\"smiles\"])\n",
    "        spectra.append(res)\n",
    "        acsf_array.append(tmp_acsf[idx])\n",
    "        molecule_site_pairs.append(f\"{qm9id}_{ii}\")\n",
    "    \n",
    "#     cc += 1\n",
    "    \n",
    "#     if cc > 20:\n",
    "#         break\n",
    "\n",
    "acsf_array = np.array(acsf_array)\n",
    "spectra = np.array(spectra)"
   ]
  },
  {
   "cell_type": "markdown",
   "id": "112b3253-35a6-4e82-9d48-8bf8d482c712",
   "metadata": {},
   "source": [
    "## PCA for debugging"
   ]
  },
  {
   "cell_type": "code",
   "execution_count": null,
   "id": "218f841f-660d-43aa-bb98-bc22c5ca76d6",
   "metadata": {},
   "outputs": [],
   "source": [
    "from sklearn.decomposition import PCA\n",
    "from sklearn.cluster import KMeans\n",
    "from sklearn.preprocessing import StandardScaler"
   ]
  },
  {
   "cell_type": "code",
   "execution_count": null,
   "id": "8319b167-490c-4715-8a72-0002e12fcc1c",
   "metadata": {},
   "outputs": [],
   "source": [
    "pca_acsf = PCA(2)\n",
    "w_acsf = pca_acsf.fit_transform(acsf_array)"
   ]
  },
  {
   "cell_type": "code",
   "execution_count": null,
   "id": "4374807e-6e7d-4ebb-b9d7-a148bdf658db",
   "metadata": {},
   "outputs": [],
   "source": [
    "pca_spectra = PCA(2)\n",
    "w_spectra = pca_spectra.fit_transform(spectra)"
   ]
  },
  {
   "cell_type": "code",
   "execution_count": null,
   "id": "836f2e3c-fe6d-4447-b5d2-4c1bb7d4e099",
   "metadata": {},
   "outputs": [],
   "source": [
    "fig, ax = plt.subplots(1, 1, figsize=(3, 3))\n",
    "\n",
    "ax.scatter(w_acsf[:, 0], w_acsf[:, 1], alpha=0.02, c=w_spectra[:, 0], s=1, cmap=\"rainbow\")\n",
    "\n",
    "plt.show()"
   ]
  },
  {
   "cell_type": "code",
   "execution_count": null,
   "id": "e83e7a59-4d11-4ce2-8e83-b08261942b29",
   "metadata": {},
   "outputs": [],
   "source": [
    "fig, ax = plt.subplots(1, 1, figsize=(3, 2))\n",
    "\n",
    "N = 100\n",
    "M = 100\n",
    "\n",
    "dig = np.digitize(w_acsf[::N, 0], bins=np.linspace(w_acsf[::N, 0].min(), w_acsf[::N, 0].max(), M))\n",
    "cmap = cm.get_cmap(\"rainbow\", M)\n",
    "\n",
    "for ii, (spectrum, col, key) in enumerate(zip(spectra[::N], w_spectra[::N, 0], molecule_site_pairs[::N])):\n",
    "    ax.plot(grid, spectrum, color=cmap(dig[ii]), alpha=0.1)\n",
    "\n",
    "plt.show()"
   ]
  },
  {
   "cell_type": "markdown",
   "id": "fded89fa-e0db-4f6e-a68a-302fd68ca39c",
   "metadata": {},
   "source": [
    "After confirming everything looks good, we save to disk."
   ]
  },
  {
   "cell_type": "code",
   "execution_count": null,
   "id": "41edd69d-bc8e-4843-8d2b-e5584fcd2253",
   "metadata": {},
   "outputs": [],
   "source": [
    "now = datetime.now().strftime(\"%y%m%d\")\n",
    "fname = f\"../data/qm9/XANES-{now}-ACSF-{CENTRAL_ATOM}.pkl\"\n",
    "print(fname)"
   ]
  },
  {
   "cell_type": "markdown",
   "id": "2166fdd7-8b79-415c-9d69-5955678e0883",
   "metadata": {},
   "source": [
    "We take the convention that `\"x\"` is the input and `\"y\"` is the output. These are the only two required keys for the ML pipeline. The rest is considered metadata."
   ]
  },
  {
   "cell_type": "code",
   "execution_count": null,
   "id": "bab3da61-f077-4a3a-83d9-311b55b52fa7",
   "metadata": {},
   "outputs": [],
   "source": [
    "pickle.dump(\n",
    "    {\"grid\": grid, \"y\": spectra, \"x\": acsf_array, \"names\": molecule_site_pairs, \"origin_smiles\": origin_smiles},\n",
    "    open(fname, \"wb\"),\n",
    "    protocol=pickle.HIGHEST_PROTOCOL\n",
    ")"
   ]
  }
 ],
 "metadata": {
  "kernelspec": {
   "display_name": "Python 3 (ipykernel)",
   "language": "python",
   "name": "python3"
  },
  "language_info": {
   "codemirror_mode": {
    "name": "ipython",
    "version": 3
   },
   "file_extension": ".py",
   "mimetype": "text/x-python",
   "name": "python",
   "nbconvert_exporter": "python",
   "pygments_lexer": "ipython3",
   "version": "3.9.10"
  },
  "toc-autonumbering": true,
  "toc-showmarkdowntxt": false
 },
 "nbformat": 4,
 "nbformat_minor": 5
}
