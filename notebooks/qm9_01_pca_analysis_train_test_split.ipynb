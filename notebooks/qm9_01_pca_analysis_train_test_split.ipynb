{
 "cells": [
  {
   "cell_type": "code",
   "execution_count": 1,
   "id": "c7c0172d-ad8e-42f8-b796-b4ec7833e33e",
   "metadata": {},
   "outputs": [],
   "source": [
    "%load_ext autoreload\n",
    "%autoreload 2\n",
    "%config Completer.use_jedi = False"
   ]
  },
  {
   "cell_type": "code",
   "execution_count": 2,
   "id": "f387788b-c16a-45d2-8e70-e309ca3b944d",
   "metadata": {},
   "outputs": [],
   "source": [
    "from datetime import datetime\n",
    "from pathlib import Path\n",
    "import pickle\n",
    "import sys\n",
    "\n",
    "import matplotlib.pyplot as plt\n",
    "from pymatgen.core.structure import Molecule"
   ]
  },
  {
   "cell_type": "markdown",
   "id": "813f87de-7ae4-4746-9f2b-8256abe18fb7",
   "metadata": {},
   "source": [
    "Custom plotting code... ignore this if you don't know what it is, it should gracefully do nothing if you don't have the `MPLAdjutant` class. "
   ]
  },
  {
   "cell_type": "code",
   "execution_count": 14,
   "id": "ab130d4f-c85e-4657-8b5f-5495d56be4d9",
   "metadata": {},
   "outputs": [],
   "source": [
    "sys.path.append(str(Path.home() / Path(\"local\")))\n",
    "class NullClass:\n",
    "    def do_nothing(*args, **kwargs):\n",
    "        pass\n",
    "    def add_colorbar(self, im, **kwargs):\n",
    "        return plt.colorbar(im)\n",
    "    def __getattr__(self, _):\n",
    "        return self.do_nothing\n",
    "try:\n",
    "    from mpl_utils import MPLAdjutant\n",
    "    adj = MPLAdjutant()\n",
    "    adj.set_defaults()\n",
    "except ImportError:\n",
    "    adj = NullClass()"
   ]
  },
  {
   "cell_type": "markdown",
   "id": "1ecad749-6306-40bf-bb70-d9e5f7378648",
   "metadata": {},
   "source": [
    "Append the `home` path of this project."
   ]
  },
  {
   "cell_type": "code",
   "execution_count": 4,
   "id": "77708ce8-462d-4d5a-9f97-6ae089a9a852",
   "metadata": {},
   "outputs": [],
   "source": [
    "sys.path.append(str(Path.cwd().parent))"
   ]
  },
  {
   "cell_type": "markdown",
   "id": "4a8d5d44-b24b-45c3-b82e-a6542ee345f4",
   "metadata": {},
   "source": [
    "# Principal component analysis: verifying the data"
   ]
  },
  {
   "cell_type": "markdown",
   "id": "571da3ab-8146-44d6-b8cd-f63aa063848a",
   "metadata": {},
   "source": [
    "In this notebook, we perform basic analysis and Principal Component Analysis to validate that our dataset look sensible."
   ]
  },
  {
   "cell_type": "code",
   "execution_count": 5,
   "id": "6c6521e2-8f22-48cb-9c14-c7b2a9ec7253",
   "metadata": {},
   "outputs": [],
   "source": [
    "from sklearn.decomposition import PCA"
   ]
  },
  {
   "cell_type": "markdown",
   "id": "9634bebc-8513-47eb-b231-c1d27a8f685d",
   "metadata": {},
   "source": [
    "Load in the previously processed `pickle` data. These contain the features (ACSF) and targets (spectra) on a common grid for each of the three absorbing atom types of interest: C, N and O."
   ]
  },
  {
   "cell_type": "code",
   "execution_count": 6,
   "id": "94bcf6d6-f9b5-4f78-af8f-8f85b21ac80e",
   "metadata": {},
   "outputs": [],
   "source": [
    "O_data = pickle.load(open(\"../data/qm9/XANES-220622-ACSF-O.pkl\", \"rb\"))\n",
    "N_data = pickle.load(open(\"../data/qm9/XANES-220622-ACSF-N.pkl\", \"rb\"))\n",
    "C_data = pickle.load(open(\"../data/qm9/XANES-220622-ACSF-C.pkl\", \"rb\"))"
   ]
  },
  {
   "cell_type": "markdown",
   "id": "820d2e6b-4513-4bbf-a70e-3a4234797d84",
   "metadata": {},
   "source": [
    "Print some diagonstics..."
   ]
  },
  {
   "cell_type": "code",
   "execution_count": 7,
   "id": "5d57ef9b-85a7-41a2-9d69-d6bd77eaa22d",
   "metadata": {},
   "outputs": [
    {
     "name": "stdout",
     "output_type": "stream",
     "text": [
      "O database ACSF & spectrum shapes: (186813, 155) & (186813, 200)\n",
      "N database ACSF & spectrum shapes: (139058, 155) & (139058, 200)\n",
      "C database ACSF & spectrum shapes: (841912, 155) & (841912, 200)\n"
     ]
    }
   ],
   "source": [
    "print(f\"O database ACSF & spectrum shapes: {O_data['x'].shape} & {O_data['y'].shape}\")\n",
    "print(f\"N database ACSF & spectrum shapes: {N_data['x'].shape} & {N_data['y'].shape}\")\n",
    "print(f\"C database ACSF & spectrum shapes: {C_data['x'].shape} & {C_data['y'].shape}\")"
   ]
  },
  {
   "cell_type": "markdown",
   "id": "6e37598f-b54d-47ba-8091-5c88895aa3a5",
   "metadata": {},
   "source": [
    "Put everything in a dictionary for simplicity."
   ]
  },
  {
   "cell_type": "code",
   "execution_count": 8,
   "id": "3ac006f3-374d-4ace-9a6f-a1dda5da0bbe",
   "metadata": {},
   "outputs": [],
   "source": [
    "data = {\"O\": O_data, \"N\": N_data, \"C\": C_data}"
   ]
  },
  {
   "cell_type": "markdown",
   "id": "51acfac9-8cdd-46ab-b918-69bc747258bf",
   "metadata": {},
   "source": [
    "## Execute and plot"
   ]
  },
  {
   "cell_type": "code",
   "execution_count": 9,
   "id": "9c59c143-e615-4f82-bd05-aa345b1d5660",
   "metadata": {},
   "outputs": [],
   "source": [
    "pca_results = dict()\n",
    "for key, dat in data.items():\n",
    "    pca_acsf = PCA(2)\n",
    "    w_acsf = pca_acsf.fit_transform(dat[\"x\"])\n",
    "    pca_spectra = PCA(2)\n",
    "    w_spectra = pca_spectra.fit_transform(dat[\"y\"])\n",
    "    pca_results[key] = {\n",
    "        \"pca_ACSF\": pca_acsf,\n",
    "        \"pca_spectra\": pca_spectra,\n",
    "        \"w_ACSF\": w_acsf,\n",
    "        \"w_spectra\": w_spectra\n",
    "    }"
   ]
  },
  {
   "cell_type": "code",
   "execution_count": 10,
   "id": "56e4e9e4-c284-456c-9944-f1073defa4c6",
   "metadata": {},
   "outputs": [
    {
     "data": {
      "text/plain": [
       "dict_keys(['O', 'N', 'C'])"
      ]
     },
     "execution_count": 10,
     "metadata": {},
     "output_type": "execute_result"
    }
   ],
   "source": [
    "pca_results.keys()"
   ]
  },
  {
   "cell_type": "code",
   "execution_count": 11,
   "id": "da022e51-b637-44b0-98a7-85ab068bc84b",
   "metadata": {},
   "outputs": [
    {
     "name": "stdout",
     "output_type": "stream",
     "text": [
      "Key=O, ACSF var ratios=[0.77001979 0.10912827], spectra var ratios=[0.60050381 0.21521107]\n",
      "Key=N, ACSF var ratios=[0.74167122 0.08957421], spectra var ratios=[0.41484584 0.25633509]\n",
      "Key=C, ACSF var ratios=[0.61404781 0.1561685 ], spectra var ratios=[0.34132816 0.28826326]\n"
     ]
    }
   ],
   "source": [
    "for key, dat in pca_results.items():\n",
    "    pca_ACSF = dat[\"pca_ACSF\"]\n",
    "    pca_spectra = dat[\"pca_spectra\"]\n",
    "    print(f\"Key={key}, ACSF var ratios={pca_ACSF.explained_variance_ratio_}, spectra var ratios={pca_spectra.explained_variance_ratio_}\")"
   ]
  },
  {
   "cell_type": "markdown",
   "id": "1b9221bf-e60d-415a-816a-9bccfd54100b",
   "metadata": {},
   "source": [
    "We make a production-quality plot of the data here:"
   ]
  },
  {
   "cell_type": "code",
   "execution_count": 12,
   "id": "004805be-8f07-4aea-ae44-015fbb52e971",
   "metadata": {},
   "outputs": [
    {
     "data": {
      "image/png": "[encoded data removed]",
      "text/plain": [
       "<Figure size 432x144 with 3 Axes>"
      ]
     },
     "metadata": {
      "needs_background": "light"
     },
     "output_type": "display_data"
    }
   ],
   "source": [
    "fig, axs = plt.subplots(1, 3, figsize=(6, 2))\n",
    "\n",
    "N = None\n",
    "key_ordering = [\"C\", \"N\", \"O\"]\n",
    "\n",
    "for key, ax in zip(key_ordering, axs):\n",
    "    w_acsf = pca_results[key][\"w_ACSF\"]\n",
    "    w_spectra = pca_results[key][\"w_spectra\"]\n",
    "    ax.scatter(w_acsf[:N, 0], w_acsf[:N, 1], alpha=0.02, c=w_spectra[:N, 0], s=1, cmap=\"rainbow\", rasterized=True)\n",
    "    ax.spines[\"right\"].set_visible(False)\n",
    "    ax.spines[\"top\"].set_visible(False)\n",
    "    ax.spines[\"left\"].set_linewidth(0.5)\n",
    "    ax.spines[\"bottom\"].set_linewidth(0.5)\n",
    "    ax.tick_params(left=False, bottom=False)\n",
    "    ax.set_yticklabels([])\n",
    "    ax.set_xticklabels([])\n",
    "    ax.set_title(key)\n",
    "\n",
    "axs[0].set_ylabel(r\"ACSF $z_2$\")\n",
    "axs[1].set_xlabel(r\"ACSF $z_1$\")\n",
    "    \n",
    "plt.savefig(\"qm9_pca.svg\", bbox_inches=\"tight\", dpi=300)"
   ]
  },
  {
   "cell_type": "markdown",
   "id": "05898365-055c-4638-8aae-4dc850c43e2f",
   "metadata": {},
   "source": [
    "# Train/validation-test split"
   ]
  },
  {
   "cell_type": "code",
   "execution_count": 15,
   "id": "7b048bcb-953a-44d1-9081-d7c728cb9e39",
   "metadata": {},
   "outputs": [],
   "source": [
    "from xas_nne.qm9 import random_split, split_qm9_data_by_number_of_absorbers"
   ]
  },
  {
   "cell_type": "markdown",
   "id": "f5d23cb0-a9f0-4961-b19a-180d9fc123ad",
   "metadata": {},
   "source": [
    "## Random split"
   ]
  },
  {
   "cell_type": "code",
   "execution_count": 55,
   "id": "b0989a85-45c1-47f2-b27b-598be13067fd",
   "metadata": {
    "tags": []
   },
   "outputs": [
    {
     "name": "stdout",
     "output_type": "stream",
     "text": [
      "Original data has 841912 data points\n",
      "[     0      1      2 ... 841909 841910 841911]\n",
      "Down-sampled to 833467 data after removing zwitter ions\n",
      "Done with 750121 train and 83346 test\n",
      "../data/qm9/ml_ready/XANES-220626-ACSF-C-RANDOM-SPLITS.pkl\n",
      "Original data has 139058 data points\n",
      "[     0      1      2 ... 139055 139056 139057]\n",
      "Down-sampled to 135860 data after removing zwitter ions\n",
      "Done with 122274 train and 13586 test\n",
      "../data/qm9/ml_ready/XANES-220626-ACSF-N-RANDOM-SPLITS.pkl\n",
      "Original data has 183497 data points\n",
      "[     0      1      2 ... 183494 183495 183496]\n",
      "Down-sampled to 183497 data after removing zwitter ions\n",
      "Done with 165148 train and 18349 test\n",
      "../data/qm9/ml_ready/XANES-220626-ACSF-O-RANDOM-SPLITS.pkl\n"
     ]
    }
   ],
   "source": [
    "for CENTRAL_ATOM in [\"C\", \"N\", \"O\"]:\n",
    "    parsed_data = random_split(data[CENTRAL_ATOM])\n",
    "    now = datetime.now().strftime(\"%y%m%d\")\n",
    "    fname = f\"../data/qm9/ml_ready/XANES-{now}-ACSF-{CENTRAL_ATOM}-RANDOM-SPLITS.pkl\"\n",
    "    print(fname)\n",
    "    pickle.dump(parsed_data, open(fname, \"wb\"), protocol=pickle.HIGHEST_PROTOCOL)"
   ]
  },
  {
   "cell_type": "markdown",
   "id": "501bc234-48c3-4c8c-9064-c6b3e6fa2883",
   "metadata": {},
   "source": [
    "## Train on molecules with at most `N` absorbers"
   ]
  },
  {
   "cell_type": "code",
   "execution_count": 17,
   "id": "8b103015-4f77-4b57-8ec9-fafee63812dd",
   "metadata": {},
   "outputs": [
    {
     "name": "stdout",
     "output_type": "stream",
     "text": [
      "Parsing the qm9 data by number of absorbers=C\n",
      "Training data will have <=7 absorbers\n",
      "Test data will get the rest\n",
      "Keeping zwitterions: False\n",
      "Computing smiles_to_n_absorbers_map\n"
     ]
    },
    {
     "name": "stderr",
     "output_type": "stream",
     "text": [
      "100%|███████████████████████████████████████████████████████| 133867/133867 [00:02<00:00, 63568.70it/s]\n"
     ]
    },
    {
     "name": "stdout",
     "output_type": "stream",
     "text": [
      "Done with 654084 train and 179383 test\n",
      "../data/qm9/ml_ready/XANES-220629-ACSF-C-MAX_TRAINING_ABSORBERS-7.pkl\n",
      "Parsing the qm9 data by number of absorbers=N\n",
      "Training data will have <=4 absorbers\n",
      "Test data will get the rest\n",
      "Keeping zwitterions: False\n",
      "Computing smiles_to_n_absorbers_map\n"
     ]
    },
    {
     "name": "stderr",
     "output_type": "stream",
     "text": [
      "100%|█████████████████████████████████████████████████████████| 82559/82559 [00:01<00:00, 63875.98it/s]\n"
     ]
    },
    {
     "name": "stdout",
     "output_type": "stream",
     "text": [
      "Done with 130807 train and 5053 test\n",
      "../data/qm9/ml_ready/XANES-220629-ACSF-N-MAX_TRAINING_ABSORBERS-4.pkl\n",
      "Parsing the qm9 data by number of absorbers=O\n",
      "Training data will have <=3 absorbers\n",
      "Test data will get the rest\n",
      "Keeping zwitterions: False\n",
      "Computing smiles_to_n_absorbers_map\n"
     ]
    },
    {
     "name": "stderr",
     "output_type": "stream",
     "text": [
      "100%|███████████████████████████████████████████████████████| 113430/113430 [00:01<00:00, 63703.98it/s]\n"
     ]
    },
    {
     "name": "stdout",
     "output_type": "stream",
     "text": [
      "Done with 179100 train and 4397 test\n",
      "../data/qm9/ml_ready/XANES-220629-ACSF-O-MAX_TRAINING_ABSORBERS-3.pkl\n"
     ]
    }
   ],
   "source": [
    "for CENTRAL_ATOM, max_training_absorbers in zip([\"C\", \"N\", \"O\"], [7, 4, 3]):\n",
    "    parsed_data = split_qm9_data_by_number_of_absorbers(data[CENTRAL_ATOM], absorber=CENTRAL_ATOM, max_training_absorbers=max_training_absorbers)\n",
    "    parsed_data[\"metadata\"] = {\"max_training_absorbers\": max_training_absorbers}\n",
    "    now = datetime.now().strftime(\"%y%m%d\")\n",
    "    fname = f\"../data/qm9/ml_ready/XANES-{now}-ACSF-{CENTRAL_ATOM}-MAX_TRAINING_ABSORBERS-{max_training_absorbers}.pkl\"\n",
    "    print(fname)\n",
    "    pickle.dump(parsed_data, open(fname, \"wb\"), protocol=pickle.HIGHEST_PROTOCOL)"
   ]
  },
  {
   "cell_type": "markdown",
   "id": "c71d6ad0-7def-42d7-bfb5-46f92223c04f",
   "metadata": {},
   "source": [
    "# Do certain structural motifs cluster?"
   ]
  },
  {
   "cell_type": "code",
   "execution_count": null,
   "id": "e33ff195-0860-46b9-826c-d0b2024f6e78",
   "metadata": {},
   "outputs": [],
   "source": []
  }
 ],
 "metadata": {
  "kernelspec": {
   "display_name": "Python 3 (ipykernel)",
   "language": "python",
   "name": "python3"
  },
  "language_info": {
   "codemirror_mode": {
    "name": "ipython",
    "version": 3
   },
   "file_extension": ".py",
   "mimetype": "text/x-python",
   "name": "python",
   "nbconvert_exporter": "python",
   "pygments_lexer": "ipython3",
   "version": "3.9.12"
  },
  "toc-autonumbering": true,
  "toc-showmarkdowntxt": false
 },
 "nbformat": 4,
 "nbformat_minor": 5
}
