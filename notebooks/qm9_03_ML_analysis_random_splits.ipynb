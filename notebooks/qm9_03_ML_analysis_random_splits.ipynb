{
 "cells": [
  {
   "cell_type": "code",
   "execution_count": null,
   "id": "c7c0172d-ad8e-42f8-b796-b4ec7833e33e",
   "metadata": {},
   "outputs": [],
   "source": [
    "%load_ext autoreload\n",
    "%autoreload 2\n",
    "%config Completer.use_jedi = False"
   ]
  },
  {
   "cell_type": "code",
   "execution_count": null,
   "id": "f387788b-c16a-45d2-8e70-e309ca3b944d",
   "metadata": {},
   "outputs": [],
   "source": [
    "from datetime import datetime\n",
    "from pathlib import Path\n",
    "import pickle\n",
    "import sys\n",
    "import numpy as np\n",
    "from matplotlib.colors import Normalize \n",
    "from scipy.interpolate import interpn\n",
    "\n",
    "import matplotlib.pyplot as plt\n",
    "from pymatgen.core.structure import Molecule"
   ]
  },
  {
   "cell_type": "markdown",
   "id": "813f87de-7ae4-4746-9f2b-8256abe18fb7",
   "metadata": {},
   "source": [
    "Custom plotting code... ignore this if you don't know what it is, it should gracefully do nothing if you don't have the `MPLAdjutant` class. "
   ]
  },
  {
   "cell_type": "code",
   "execution_count": null,
   "id": "ab130d4f-c85e-4657-8b5f-5495d56be4d9",
   "metadata": {},
   "outputs": [],
   "source": [
    "sys.path.append(str(Path.home() / Path(\"local\")))\n",
    "class NullClass:\n",
    "    def do_nothing(*args, **kwargs):\n",
    "        pass\n",
    "    def add_colorbar(self, im, **kwargs):\n",
    "        return plt.colorbar(im)\n",
    "    def __getattr__(self, _):\n",
    "        return self.do_nothing\n",
    "try:\n",
    "    from mpl_utils import MPLAdjutant\n",
    "    adj = MPLAdjutant()\n",
    "except ImportError:\n",
    "    adj = NullClass()"
   ]
  },
  {
   "cell_type": "code",
   "execution_count": null,
   "id": "2039e285-a73e-4372-b0a4-b569a0992449",
   "metadata": {},
   "outputs": [],
   "source": [
    "adj.set_defaults()"
   ]
  },
  {
   "cell_type": "code",
   "execution_count": null,
   "id": "945382f5-6da2-4393-b5e7-2d4dc9a22245",
   "metadata": {},
   "outputs": [],
   "source": [
    "import json\n",
    "\n",
    "def save_json(d, path):\n",
    "    with open(path, 'w') as outfile:\n",
    "        json.dump(d, outfile, indent=4, sort_keys=True)\n",
    "\n",
    "def read_json(path):\n",
    "    with open(path, 'r') as infile:\n",
    "        dat = json.load(infile)\n",
    "    return dat"
   ]
  },
  {
   "cell_type": "markdown",
   "id": "1ecad749-6306-40bf-bb70-d9e5f7378648",
   "metadata": {},
   "source": [
    "Append the `home` path of this project."
   ]
  },
  {
   "cell_type": "code",
   "execution_count": null,
   "id": "77708ce8-462d-4d5a-9f97-6ae089a9a852",
   "metadata": {},
   "outputs": [],
   "source": [
    "sys.path.append(str(Path.cwd().parent))"
   ]
  },
  {
   "cell_type": "code",
   "execution_count": null,
   "id": "ec7316d8-4839-49ba-9dfd-7afe6963313b",
   "metadata": {},
   "outputs": [],
   "source": [
    "# https://stackoverflow.com/questions/20105364/how-can-i-make-a-scatter-plot-colored-by-density-in-matplotlib\n",
    "def density_scatter(x, y, ax, sort=True, bins=20, **kwargs):\n",
    "    \"\"\"\n",
    "    Scatter plot colored by 2d histogram\n",
    "    \"\"\"\n",
    "\n",
    "    data , x_e, y_e = np.histogram2d( x, y, bins = bins, density = True )\n",
    "    z = interpn( ( 0.5*(x_e[1:] + x_e[:-1]) , 0.5*(y_e[1:]+y_e[:-1]) ) , data , np.vstack([x,y]).T , method = \"splinef2d\", bounds_error = False)\n",
    "\n",
    "    #To be sure to plot all data\n",
    "    z[np.where(np.isnan(z))] = 0.0\n",
    "\n",
    "    # Sort the points by density, so that the densest points are plotted last\n",
    "    if sort :\n",
    "        idx = z.argsort()\n",
    "        x, y, z = x[idx], y[idx], z[idx]\n",
    "\n",
    "    ax.scatter(x, y, c=z, **kwargs)\n",
    "\n",
    "    # norm = Normalize(vmin = np.min(z), vmax = np.max(z))\n",
    "    # cbar = fig.colorbar(cm.ScalarMappable(norm = norm), ax=ax)\n",
    "    # cbar.ax.set_ylabel('Density')\n",
    "\n",
    "    return ax"
   ]
  },
  {
   "cell_type": "markdown",
   "id": "962c0676-04b5-4ce6-a2e3-9e565a5cdb99",
   "metadata": {},
   "source": [
    "# Load the data and trained ensembles"
   ]
  },
  {
   "cell_type": "code",
   "execution_count": null,
   "id": "359ada67-ef9c-41dc-8075-6ef694014e68",
   "metadata": {},
   "outputs": [],
   "source": [
    "from xas_nne.ml import Ensemble"
   ]
  },
  {
   "cell_type": "code",
   "execution_count": null,
   "id": "81e65a2c-1256-4bb3-8667-0bf46c8bff67",
   "metadata": {},
   "outputs": [],
   "source": [
    "ATOM_TYPES = [\"C\", \"N\", \"O\"]\n",
    "\n",
    "data = {\n",
    "    key: pickle.load(open(f\"../data/qm9/ml_ready/XANES-220626-ACSF-{key}-RANDOM-SPLITS.pkl\", \"rb\"))\n",
    "    for key in ATOM_TYPES\n",
    "}\n",
    "ensembles = {\n",
    "    key: Ensemble.from_dict(read_json(f\"Ensembles/220629-{key}/Ensemble.json\"))\n",
    "    for key in ATOM_TYPES\n",
    "}"
   ]
  },
  {
   "cell_type": "markdown",
   "id": "727f07db-ea31-459a-b4f1-3fb63e248e73",
   "metadata": {
    "tags": []
   },
   "source": [
    "# Evaluate the ensemble effectiveness"
   ]
  },
  {
   "cell_type": "markdown",
   "id": "0d72cd44-f1db-47c3-8495-ed5a321806b3",
   "metadata": {
    "jp-MarkdownHeadingCollapsed": true,
    "tags": []
   },
   "source": [
    "## Error histograms"
   ]
  },
  {
   "cell_type": "code",
   "execution_count": null,
   "id": "f163b4f4-f43a-4a5a-af84-4094d082a21b",
   "metadata": {},
   "outputs": [],
   "source": [
    "fig, axs = plt.subplots(1, 3, figsize=(6, 6/3/1.6))\n",
    "\n",
    "for ii, (ax, atom_type) in enumerate(zip(axs, ATOM_TYPES)):\n",
    "    \n",
    "    ax.set_title(atom_type)\n",
    "\n",
    "    # Get the data\n",
    "    pred = ensembles[atom_type].predict(data[atom_type][\"test\"][\"x\"])\n",
    "    gt = data[atom_type][\"test\"][\"y\"]\n",
    "    \n",
    "    # Ensemble error itself\n",
    "    ensemble_err = np.mean(np.abs(gt - pred.mean(axis=0)), axis=-1)\n",
    "    log_ensemble_err = np.log10(ensemble_err)\n",
    "    \n",
    "    # Individual errors from each estimator\n",
    "    individual_errs = np.mean(np.abs(gt - pred), axis=-1)\n",
    "    log_individual_errs = np.log10(individual_errs)\n",
    "    avg_log_estimator_err = np.mean(log_individual_errs, axis=0)\n",
    "    \n",
    "    # Average testing set error as a baseline\n",
    "    average_spectrum_in_testing_set = np.mean(gt, axis=0)\n",
    "    dummy_testing_set_error = np.log10(np.mean(np.abs(average_spectrum_in_testing_set - gt)))\n",
    "    ax.axvline(dummy_testing_set_error, color=\"blue\", linestyle=\"--\", linewidth=0.5, zorder=0)\n",
    "    \n",
    "    print(atom_type)\n",
    "    print(log_ensemble_err.shape, avg_log_estimator_err.shape)\n",
    "    \n",
    "    # Plot\n",
    "    bins = [0.2 - ii * 0.05 for ii in range(50)][::-1]\n",
    "    ax.hist(log_ensemble_err, bins=bins, color=\"black\", label=r\"$\\varepsilon^{(i)}$\" if ii==1 else None)\n",
    "    ax.hist(avg_log_estimator_err, bins=bins, color=\"red\", alpha=0.5, label=r\"$\\varepsilon_\\mathrm{est}^{(i)}$\" if ii==1 else None)\n",
    "    ax.text(0.1, 0.3, r\"$%.02f$\" % np.median(log_ensemble_err), color=\"black\", ha=\"left\", va=\"center\", transform=ax.transAxes, fontsize=8)\n",
    "    ax.text(0.1, 0.2, r\"$%.02f$\" % np.median(avg_log_estimator_err), color=\"red\", ha=\"left\", va=\"center\", transform=ax.transAxes, fontsize=8)\n",
    "    t = ax.text(0.9, 0.4, r\"$%.02f$\" % dummy_testing_set_error, color=\"blue\", ha=\"right\", va=\"center\", transform=ax.transAxes, fontsize=8)\n",
    "    t.set_bbox(dict(facecolor='white', alpha=1, edgecolor='white'))\n",
    "    \n",
    "    # Fine tuning\n",
    "    adj.set_grids(ax, grid=False)\n",
    "    ax.set_yticklabels([])\n",
    "    ax.set_xticks([-3, -2, -1, 0])\n",
    "    adj.set_xlim(ax, -3, 0)\n",
    "    \n",
    "    if ii == 0:  # Carbon\n",
    "        val = 7500\n",
    "        ax.text(0.1, 0.8, val, ha=\"left\", va=\"center\", transform=ax.transAxes, color=\"gray\") \n",
    "    elif ii == 1:  # Nitrogen\n",
    "        val = 1000\n",
    "        ax.text(0.1, 0.8, val, ha=\"left\", va=\"center\", transform=ax.transAxes, color=\"gray\") \n",
    "    else:  # Oxygen\n",
    "        val = 1500\n",
    "        ax.text(0.1, 0.8, val, ha=\"left\", va=\"center\", transform=ax.transAxes, color=\"gray\") \n",
    "\n",
    "    ax.axhline(val, color=\"gray\", linestyle=\"--\", linewidth=0.5, zorder=0)\n",
    "    \n",
    "        \n",
    "axs[1].set_xlabel(r\"$\\log_{10} \\varepsilon^{(i)}$\")\n",
    "axs[0].set_ylabel(\"Counts\")\n",
    "axs[1].legend(frameon=False, loc=\"center left\", fontsize=10)\n",
    "\n",
    "plt.subplots_adjust(wspace=0.1)\n",
    "\n",
    "plt.savefig(\"qm9_hists.svg\", bbox_inches=\"tight\", dpi=300)\n",
    "# needs post-processing on InkScape\n",
    "# plt.show()"
   ]
  },
  {
   "cell_type": "markdown",
   "id": "c40a85fd-b095-4292-afaa-5e29d4b728f2",
   "metadata": {
    "jp-MarkdownHeadingCollapsed": true,
    "tags": []
   },
   "source": [
    "## Plot the correlation between error and std"
   ]
  },
  {
   "cell_type": "code",
   "execution_count": null,
   "id": "3f6bb699-0e67-4cd5-b43a-a3ac603bbb98",
   "metadata": {},
   "outputs": [],
   "source": [
    "debug = None\n",
    "\n",
    "fig, axs = plt.subplots(1, 3, figsize=(6, 2), sharex=True, sharey=True)\n",
    "\n",
    "bins_map = {\"C\": 70, \"N\": 10, \"O\": 10}\n",
    "    \n",
    "for ii, atom_type in enumerate(ATOM_TYPES):\n",
    "    \n",
    "    # Not exactly efficient to do this every time but it's fast enough...\n",
    "    pred = ensembles[atom_type].predict(data[atom_type][\"test\"][\"x\"])\n",
    "    gt = data[atom_type][\"test\"][\"y\"]\n",
    "    \n",
    "    # Pointwise\n",
    "    ensemble_pointwise_err = np.abs(gt - pred.mean(axis=0)).flatten()\n",
    "    ensemble_pointwise_std = pred.std(axis=0).flatten()\n",
    "\n",
    "    # Spectrum-wise\n",
    "    ensemble_err = np.abs(gt - pred.mean(axis=0)).mean(axis=1)\n",
    "    ensemble_std = pred.std(axis=0).mean(axis=-1)\n",
    "\n",
    "    ax = axs[ii]\n",
    "    ax.set_title(atom_type)\n",
    "    x = np.log10(ensemble_err[::debug])\n",
    "    y = np.log10(ensemble_std[::debug])\n",
    "    ax = density_scatter(x, y, ax=ax, sort=True, bins=bins_map[atom_type], s=0.4, alpha=1, rasterized=True)\n",
    "    idx = np.argsort(x)\n",
    "    p = np.polyfit(x[idx], y[idx], deg=1)\n",
    "    poly = np.poly1d(p)\n",
    "    ax.axline((-3, poly(-3)), (-2, poly(-2)), color=\"black\", zorder=0, linestyle=\"--\", linewidth=0.5)\n",
    "    \n",
    "    # ax = axs[1, ii]\n",
    "    # x = np.log10(200 * ensemble_pointwise_std[::debug])\n",
    "    # y = np.log10(200 * ensemble_pointwise_err[::debug])\n",
    "    # ax = density_scatter(x, y, ax=ax, sort=True, bins=bins_map[atom_type], s=0.4, alpha=1)\n",
    "    # idx = np.argsort(x)\n",
    "    # p = np.polyfit(x[idx], y[idx], deg=1)\n",
    "    # poly = np.poly1d(p)\n",
    "    # ax.axline((-3, poly(-3)), (-2, poly(-2)), color=\"black\", zorder=0, linestyle=\"--\", linewidth=0.5)\n",
    "\n",
    "for ax in axs.flatten():\n",
    "    ax.set_xlim(-3, 0)\n",
    "    ax.set_ylim(-3, 0)\n",
    "    ax.set_xticks([-3, -2, -1, 0])\n",
    "    ax.set_yticks([-3, -2, -1, 0])\n",
    "    adj.set_grids(ax, grid=False)\n",
    "    adj.set_xlim(ax, -3, 0)\n",
    "    adj.set_ylim(ax, -3, 0)\n",
    "\n",
    "axs[1].set_xlabel(r\"$\\log_{10} \\varepsilon^{(i)}$\")\n",
    "axs[0].set_ylabel(r\"$\\log_{10} \\sigma$\")\n",
    "\n",
    "plt.subplots_adjust(wspace=0.1)\n",
    "\n",
    "plt.savefig(\"qm9_sigma_parity.svg\", bbox_inches=\"tight\", dpi=300)\n",
    "# plt.show()"
   ]
  },
  {
   "cell_type": "markdown",
   "id": "3ce07b95-c16b-46e2-9a5c-076c2c81537b",
   "metadata": {
    "tags": []
   },
   "source": [
    "## Everything together"
   ]
  },
  {
   "cell_type": "code",
   "execution_count": null,
   "id": "e5441eac-c80e-4dc9-906f-3c9aee0a0ba0",
   "metadata": {},
   "outputs": [],
   "source": [
    "debug = None\n",
    "\n",
    "fig, axs = plt.subplots(2, 3, figsize=(6, 3.3), gridspec_kw={\"height_ratios\": [1.3, 2]}, sharex=True)\n",
    "\n",
    "for ii, atom_type in enumerate(ATOM_TYPES):\n",
    "    \n",
    "    \n",
    "    #### UPPER PLOTS ####\n",
    "    \n",
    "    ax = axs[0, ii]\n",
    "    \n",
    "    ax.set_title(atom_type)\n",
    "\n",
    "    # Get the data\n",
    "    pred = ensembles[atom_type].predict(data[atom_type][\"test\"][\"x\"])\n",
    "    gt = data[atom_type][\"test\"][\"y\"]\n",
    "    \n",
    "    # Ensemble error itself\n",
    "    ensemble_err = np.mean(np.abs(gt - pred.mean(axis=0)), axis=-1)\n",
    "    log_ensemble_err = np.log10(ensemble_err)\n",
    "    \n",
    "    # Individual errors from each estimator\n",
    "    individual_errs = np.mean(np.abs(gt - pred), axis=-1)\n",
    "    log_individual_errs = np.log10(individual_errs)\n",
    "    avg_log_estimator_err = np.mean(log_individual_errs, axis=0)\n",
    "    \n",
    "    # Average testing set error as a baseline\n",
    "    average_spectrum_in_testing_set = np.mean(gt, axis=0)\n",
    "    dummy_testing_set_error = np.log10(np.mean(np.abs(average_spectrum_in_testing_set - gt)))\n",
    "    ax.axvline(dummy_testing_set_error, color=\"blue\", linestyle=\"--\", linewidth=0.5, zorder=0)\n",
    "    \n",
    "    print(atom_type)\n",
    "    print(log_ensemble_err.shape, avg_log_estimator_err.shape)\n",
    "    \n",
    "    # Plot\n",
    "    bins = [0.2 - ii * 0.05 for ii in range(50)][::-1]\n",
    "    ax.hist(log_ensemble_err, bins=bins, color=\"black\", label=r\"$\\varepsilon^{(i)}$\" if ii==1 else None)\n",
    "    ax.hist(avg_log_estimator_err, bins=bins, color=\"red\", alpha=0.5, label=r\"$\\varepsilon_\\mathrm{est}^{(i)}$\" if ii==1 else None)\n",
    "    ax.text(0.1, 0.3, r\"$%.02f$\" % np.median(log_ensemble_err), color=\"black\", ha=\"left\", va=\"center\", transform=ax.transAxes, fontsize=8)\n",
    "    ax.text(0.1, 0.2, r\"$%.02f$\" % np.median(avg_log_estimator_err), color=\"red\", ha=\"left\", va=\"center\", transform=ax.transAxes, fontsize=8)\n",
    "    t = ax.text(0.9, 0.4, r\"$%.02f$\" % dummy_testing_set_error, color=\"blue\", ha=\"right\", va=\"center\", transform=ax.transAxes, fontsize=8)\n",
    "    t.set_bbox(dict(facecolor='white', alpha=1, edgecolor='white'))\n",
    "    \n",
    "    # Fine tuning\n",
    "    adj.set_grids(ax, grid=False)\n",
    "    ax.set_yticklabels([])\n",
    "    ax.set_xticks([-3, -2, -1, 0])\n",
    "    adj.set_xlim(ax, -3, 0)\n",
    "    \n",
    "    if ii == 0:  # Carbon\n",
    "        val = 5000\n",
    "        ax.text(0.1, 0.8, val, ha=\"left\", va=\"center\", transform=ax.transAxes, color=\"gray\") \n",
    "    elif ii == 1:  # Nitrogen\n",
    "        val = 1000\n",
    "        ax.text(0.1, 0.8, val, ha=\"left\", va=\"center\", transform=ax.transAxes, color=\"gray\") \n",
    "    else:  # Oxygen\n",
    "        val = 1000\n",
    "        ax.text(0.1, 0.8, val, ha=\"left\", va=\"center\", transform=ax.transAxes, color=\"gray\") \n",
    "\n",
    "    ax.axhline(val, color=\"gray\", linestyle=\"--\", linewidth=0.5, zorder=0)\n",
    "    \n",
    "    #### LOWER PLOTS ####\n",
    "    \n",
    "    # Pointwise\n",
    "    ensemble_pointwise_err = np.abs(gt - pred.mean(axis=0)).flatten()\n",
    "    ensemble_pointwise_std = pred.std(axis=0).flatten()\n",
    "\n",
    "    # Spectrum-wise\n",
    "    ensemble_err = np.abs(gt - pred.mean(axis=0)).mean(axis=1)\n",
    "    ensemble_std = pred.std(axis=0).mean(axis=-1)\n",
    "    \n",
    "    ax = axs[1, ii]\n",
    "    x = np.log10(ensemble_err[::debug])\n",
    "    y = np.log10(ensemble_std[::debug])\n",
    "    ax = density_scatter(x, y, ax=ax, sort=True, bins=bins_map[atom_type], s=0.4, alpha=1, rasterized=True)\n",
    "    idx = np.argsort(x)\n",
    "    p = np.polyfit(x[idx], y[idx], deg=1)\n",
    "    poly = np.poly1d(p)\n",
    "    ax.axline((-3, poly(-3)), (-2, poly(-2)), color=\"black\", zorder=0, linestyle=\"--\", linewidth=0.5)\n",
    "    r2 = np.corrcoef(x[idx], y[idx])[0, 1]**2\n",
    "    ax.text(0.1, 0.1, r\"$r^2 = %.02f$\" % r2, ha=\"left\", va=\"bottom\", transform=ax.transAxes)\n",
    "    \n",
    "    \n",
    "    ax.set_xlim(-3, 0)\n",
    "    ax.set_ylim(-3, 0)\n",
    "    ax.set_xticks([-3, -2, -1, 0])\n",
    "    ax.set_yticks([-3, -2, -1, 0])\n",
    "    adj.set_grids(ax, grid=False)\n",
    "    adj.set_xlim(ax, -3, 0)\n",
    "    adj.set_ylim(ax, -3, 0)\n",
    "    \n",
    "# axs[0, 1].set_xlabel(r\"$\\log_{10} \\varepsilon^{(i)}$\")\n",
    "axs[1, 1].set_xlabel(r\"$\\log_{10} \\varepsilon^{(i)}$\")\n",
    "axs[0, 0].set_ylabel(\"Counts\")\n",
    "axs[1, 0].set_ylabel(r\"$\\log_{10} \\sigma$\")\n",
    "axs[0, 1].legend(frameon=False, loc=\"center left\", fontsize=10)\n",
    "\n",
    "axs[1, 1].set_yticklabels([])\n",
    "axs[1, 2].set_yticklabels([])\n",
    "\n",
    "letters = [\"(a)\", \"(b)\", \"(c)\", \"(d)\", \"(e)\", \"(f)\"]\n",
    "for letter, ax in zip(letters, axs.flatten()):\n",
    "    ax.text(0.1, 0.5, letter, ha=\"left\", va=\"center\", transform=ax.transAxes)\n",
    "\n",
    "plt.subplots_adjust(wspace=0.1, hspace=0.1)\n",
    "\n",
    "plt.savefig(\"qm9_hists.svg\", bbox_inches=\"tight\", dpi=300)\n",
    "# needs post-processing on InkScape\n",
    "# plt.show()"
   ]
  },
  {
   "cell_type": "markdown",
   "id": "a1852ca6-1705-4885-957f-e5d83397eec9",
   "metadata": {},
   "source": [
    "## Plot some examples"
   ]
  },
  {
   "cell_type": "code",
   "execution_count": null,
   "id": "c32ad452-1363-40fd-972f-dfbb5ec38a32",
   "metadata": {},
   "outputs": [],
   "source": [
    "atom_type = \"C\"\n",
    "grid = data[atom_type][\"train\"][\"grid\"]\n",
    "pred = ensembles[atom_type].predict(data[atom_type][\"test\"][\"x\"])\n",
    "gt = data[atom_type][\"test\"][\"y\"]"
   ]
  },
  {
   "cell_type": "code",
   "execution_count": null,
   "id": "82da743f-3585-454b-b80f-4c48e137a52b",
   "metadata": {},
   "outputs": [],
   "source": [
    "err = np.mean(np.abs(gt - pred.mean(axis=0)), axis=1)\n",
    "sorted_idx = np.argsort(err)[::-1]"
   ]
  },
  {
   "cell_type": "code",
   "execution_count": null,
   "id": "3782869d-462b-4b26-9add-f07902fc75af",
   "metadata": {},
   "outputs": [],
   "source": [
    "len(sorted_idx)"
   ]
  },
  {
   "cell_type": "code",
   "execution_count": null,
   "id": "5d1704ab-0cf8-464a-8c47-b24454ee5aa6",
   "metadata": {},
   "outputs": [],
   "source": [
    "err[sorted_idx][:10]"
   ]
  },
  {
   "cell_type": "code",
   "execution_count": null,
   "id": "980fd4d8-601c-46a8-a000-f56e57774f2f",
   "metadata": {},
   "outputs": [],
   "source": [
    "(pred[:, sorted_idx, :].std(axis=0) * 3)[:10].mean(axis=1)"
   ]
  },
  {
   "cell_type": "code",
   "execution_count": null,
   "id": "66f3d518-ebc1-4cdb-b3f9-5a2f55c6bf6c",
   "metadata": {},
   "outputs": [],
   "source": [
    "names = [data[atom_type][\"test\"][\"names\"][ii] for ii in sorted_idx[:10]]\n",
    "names"
   ]
  },
  {
   "cell_type": "code",
   "execution_count": null,
   "id": "def544e8-1757-4f90-acaf-2a6fd3e54d30",
   "metadata": {},
   "outputs": [],
   "source": [
    "names = [data[atom_type][\"test\"][\"origin_smiles\"][ii] for ii in sorted_idx[:10]]\n",
    "names"
   ]
  },
  {
   "cell_type": "code",
   "execution_count": null,
   "id": "773623cb-5e51-44ee-80e0-0ac8e5bee693",
   "metadata": {},
   "outputs": [],
   "source": [
    "from rdkit import Chem"
   ]
  },
  {
   "cell_type": "code",
   "execution_count": null,
   "id": "4e0ef63f-823c-4094-a201-9d0ce83e786b",
   "metadata": {},
   "outputs": [],
   "source": [
    "grid = Chem.Draw.MolsToGridImage([Chem.MolFromSmiles(smile) for smile in names[:3]], useSVG=True)"
   ]
  },
  {
   "cell_type": "code",
   "execution_count": null,
   "id": "12896035-e924-4b30-9fc8-2c002ae07120",
   "metadata": {},
   "outputs": [],
   "source": [
    "with open(\"qm9_C_fail.svg\", \"w\") as f:\n",
    "    f.write(grid.data)"
   ]
  },
  {
   "cell_type": "code",
   "execution_count": null,
   "id": "e217a362-2223-4399-a65a-d3b61a20d514",
   "metadata": {},
   "outputs": [],
   "source": [
    "fig, ax = plt.subplots(1, 1, figsize=(3, 5))\n",
    "\n",
    "n = 10\n",
    "for ii in range(n):\n",
    "    \n",
    "    offset = ii * 6\n",
    "    idx = sorted_idx[int(ii / n * len(sorted_idx)) + 11]\n",
    "    \n",
    "    ground_truth_spectra = gt[idx, :]\n",
    "    predicted_spectra = pred[:, idx, :]\n",
    "\n",
    "    mu = predicted_spectra.mean(axis=0) + offset\n",
    "    \n",
    "    sd = predicted_spectra.std(axis=0) * 3\n",
    "    \n",
    "    label = r\"$\\mu^{(i)}$\" if ii == 0 else None\n",
    "    ax.plot(grid, ground_truth_spectra + offset, \"k-\", label=label)\n",
    "\n",
    "    # label = r\"$\\hat{\\mu}^{(i)}$\" if ii == 0 else None\n",
    "    # ax.plot(grid, mu, color=\"purple\", linewidth=1, label=label)\n",
    "    \n",
    "    for jj, prediction in enumerate(predicted_spectra):\n",
    "        label = r\"$\\hat{\\mu}^{(i, k)}$\" if jj == 0 and ii == 0 else None \n",
    "        ax.plot(grid, prediction + offset, 'r-', linewidth=0.5, alpha=0.5, label=label)\n",
    "    \n",
    "    label = r\"$3\\sigma$\" if ii == 0 else None\n",
    "    ax.fill_between(grid, mu - sd, mu + sd, color=\"red\", alpha=0.5, linewidth=0, label=label)\n",
    "    \n",
    "    err = np.log10(np.mean(np.abs(ground_truth_spectra - predicted_spectra))).item()\n",
    "    ax.text(0.9, 0.09 + ii / 10.5, r\"$%.02f$\" % err, ha=\"right\", va=\"center\", transform=ax.transAxes)\n",
    "    \n",
    "ax.spines[\"right\"].set_visible(False)\n",
    "ax.spines[\"top\"].set_visible(False)\n",
    "ax.spines[\"left\"].set_linewidth(0.5)\n",
    "ax.spines[\"bottom\"].set_linewidth(0.5)\n",
    "adj.set_grids(ax, grid=False, top=False)\n",
    "ax.set_yticklabels([])\n",
    "ax.set_yticks([])\n",
    "ax.set_xlabel(r\"$E$~(e.V.)\")\n",
    "ax.set_ylabel(r\"$\\mu(E)$~(a.u.)\")\n",
    "ax.legend(frameon=False, ncol=3, loc=\"upper center\", bbox_to_anchor=(0.5, 1.1))\n",
    "\n",
    "# err = np.log10(np.mean(np.abs(gt[ii] - pred[ii])))\n",
    "# print(f\"{err:.02f}\")\n",
    "\n",
    "\n",
    "# plt.show()\n",
    "plt.savefig(\"qm9_C_random_preds.svg\", bbox_inches=\"tight\", dpi=300)"
   ]
  },
  {
   "cell_type": "code",
   "execution_count": null,
   "id": "b958e84b-0a79-4f83-8f90-be8dd3afefef",
   "metadata": {},
   "outputs": [],
   "source": []
  },
  {
   "cell_type": "code",
   "execution_count": null,
   "id": "822b019e-41a0-4487-b93d-d9f90bdf809f",
   "metadata": {},
   "outputs": [],
   "source": []
  }
 ],
 "metadata": {
  "kernelspec": {
   "display_name": "Python 3 (ipykernel)",
   "language": "python",
   "name": "python3"
  },
  "language_info": {
   "codemirror_mode": {
    "name": "ipython",
    "version": 3
   },
   "file_extension": ".py",
   "mimetype": "text/x-python",
   "name": "python",
   "nbconvert_exporter": "python",
   "pygments_lexer": "ipython3",
   "version": "3.9.12"
  },
  "toc-autonumbering": true,
  "toc-showmarkdowntxt": false
 },
 "nbformat": 4,
 "nbformat_minor": 5
}
