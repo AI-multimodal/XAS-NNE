{
 "cells": [
  {
   "cell_type": "code",
   "execution_count": null,
   "id": "c7c0172d-ad8e-42f8-b796-b4ec7833e33e",
   "metadata": {},
   "outputs": [],
   "source": [
    "%load_ext autoreload\n",
    "%autoreload 2\n",
    "%config Completer.use_jedi = False"
   ]
  },
  {
   "cell_type": "code",
   "execution_count": null,
   "id": "f387788b-c16a-45d2-8e70-e309ca3b944d",
   "metadata": {},
   "outputs": [],
   "source": [
    "from datetime import datetime\n",
    "from pathlib import Path\n",
    "import sys\n",
    "import pickle\n",
    "from copy import deepcopy\n",
    "\n",
    "import numpy as np\n",
    "from pymatgen.core.structure import Molecule\n",
    "from scipy.interpolate import InterpolatedUnivariateSpline\n",
    "from tqdm import tqdm"
   ]
  },
  {
   "cell_type": "code",
   "execution_count": null,
   "id": "7fee43f0-7173-4e60-ba49-02984c5a19e2",
   "metadata": {},
   "outputs": [],
   "source": [
    "import matplotlib.pyplot as plt\n",
    "from matplotlib import cm"
   ]
  },
  {
   "cell_type": "code",
   "execution_count": null,
   "id": "41f72faa-a1a0-41d9-aadd-76d9be465b1b",
   "metadata": {},
   "outputs": [],
   "source": [
    "# https://gist.github.com/x94carbone/f5201b1c44963ff9453b9cc1d5f768ac\n",
    "sys.path.append(str(Path.home() / Path(\"local\")))\n",
    "from mpl_utils import MPLAdjutant\n",
    "adj = MPLAdjutant()\n",
    "adj.set_defaults()"
   ]
  },
  {
   "cell_type": "code",
   "execution_count": null,
   "id": "c57b289b-4354-4b56-9842-e7a47bbbab0f",
   "metadata": {},
   "outputs": [],
   "source": [
    "from xas_nne.feff import FeffWriter, load_completed_FEFF_results  # noqa"
   ]
  },
  {
   "cell_type": "markdown",
   "id": "1ecad749-6306-40bf-bb70-d9e5f7378648",
   "metadata": {},
   "source": [
    "Append the `home` path of this project."
   ]
  },
  {
   "cell_type": "code",
   "execution_count": null,
   "id": "77708ce8-462d-4d5a-9f97-6ae089a9a852",
   "metadata": {},
   "outputs": [],
   "source": [
    "sys.path.append(str(Path.cwd().parent))"
   ]
  },
  {
   "cell_type": "code",
   "execution_count": null,
   "id": "f8e6695d-4b92-41ec-a083-a343ef31f3c2",
   "metadata": {},
   "outputs": [],
   "source": [
    "path = Path(\"data/qm9/XANES-220622-C-N-O.pkl\")\n",
    "print(path.exists())\n",
    "data = pickle.load(open(path, \"rb\"))"
   ]
  },
  {
   "cell_type": "markdown",
   "id": "4a8d5d44-b24b-45c3-b82e-a6542ee345f4",
   "metadata": {},
   "source": [
    "# Prepare the FEFF inputs"
   ]
  },
  {
   "cell_type": "markdown",
   "id": "3e571f99-179d-4a66-88e0-90bbe9a8c234",
   "metadata": {},
   "source": [
    "Let's look at the 10 molecules chosen for the random splits testing.\n",
    "\n",
    "```\n",
    "N=C1N=NON=NC1=O 129158_7 7\n",
    "O=C1C2COC11CNC21 43138_6 6\n",
    "CC1(CNC=O)CC1O 87244_1 1\n",
    "OC12C3NC1C1(CO1)C23 67255_2 2\n",
    "O=COC1(CC#N)CC1 50994_1 1\n",
    "COC1C2C3NC3(C)C12 110619_4 4\n",
    "COC12CCCC1C2O 108590_6 6\n",
    "OCC12CC3OC1C23 17249_7 7\n",
    "CC1(C)OCC1(O)CO 104189_0 0\n",
    "OC1(CC1)C1CCCC1 65272_2 2\n",
    "```"
   ]
  },
  {
   "cell_type": "code",
   "execution_count": null,
   "id": "59e81246-1807-481b-bc8c-4f2a2f08812c",
   "metadata": {},
   "outputs": [],
   "source": [
    "qm9_ids = {129158: 7, 43138: 6, 87244: 1, 67255: 2, 50994: 1, 110619: 4, 108590: 6, 17249: 7, 104189: 0, 65272: 2}"
   ]
  },
  {
   "cell_type": "code",
   "execution_count": null,
   "id": "68b6e12c-aa99-47e1-9cf2-de8dbb696179",
   "metadata": {},
   "outputs": [],
   "source": [
    "molecules = {\n",
    "    key: Molecule.from_dict(data[str(key)][\"molecule\"]) for key in qm9_ids\n",
    "}"
   ]
  },
  {
   "cell_type": "code",
   "execution_count": null,
   "id": "7e8fac10-4fd9-4298-b7a2-f6b05529baa8",
   "metadata": {},
   "outputs": [],
   "source": [
    "ABSORBERS = [\"C\"]\n",
    "xanes = True\n",
    "distortions = np.unique([round(ii * 0.01, 2) for ii in range(1, 101)]).tolist()\n",
    "n_distort_per = 50"
   ]
  },
  {
   "cell_type": "code",
   "execution_count": null,
   "id": "35db017a-ea8c-49ce-9077-063acf79b8ab",
   "metadata": {},
   "outputs": [],
   "source": [
    "for distortion_magnitude in tqdm(distortions):\n",
    "    \n",
    "    for ii in range(n_distort_per):\n",
    "        \n",
    "        for qm9id, molecule in molecules.items():\n",
    "\n",
    "            for absorber in ABSORBERS:\n",
    "\n",
    "                m = deepcopy(molecule)\n",
    "                m.perturb(distortion_magnitude)\n",
    "\n",
    "                f = FeffWriter(m, xanes=xanes, name=qm9id)\n",
    "                dname = Path(f\"{absorber}-XANES\") / Path(f\"{int(qm9id):06}-{distortion_magnitude:.02f}-{ii:02}\")\n",
    "                f.write_feff_inputs(str(dname), absorber=absorber)"
   ]
  },
  {
   "cell_type": "markdown",
   "id": "94dc5e5e-e260-41f2-85ec-25f0ad0bbc92",
   "metadata": {},
   "source": [
    "# Process the FEFF output"
   ]
  },
  {
   "cell_type": "code",
   "execution_count": null,
   "id": "33f91745-f24e-4266-b839-a34c71233d86",
   "metadata": {},
   "outputs": [],
   "source": [
    "def feff_inp_to_molecule(feff_inp_string):\n",
    "    iistar = [ii for ii, line in enumerate(feff_inp_string) if \"ATOMS\" in line]\n",
    "    assert len(iistar) == 1\n",
    "    lines = feff_inp_string[iistar[0] + 1:-1]\n",
    "    lines = [xx.strip() for xx in lines]\n",
    "    coords = [xx.split()[:-1] for xx in lines]\n",
    "    atoms = [xx.split()[-1] for xx in lines]\n",
    "    n_unique = len(np.unique(atoms))\n",
    "    \n",
    "    jjstar = [ii for ii, line in enumerate(feff_inp_string) if \"POTENTIALS\" in line]\n",
    "    assert len(jjstar) == 1\n",
    "    jjstar = jjstar[0] + 2\n",
    "    atom_mappings = feff_inp_string[jjstar:jjstar + n_unique]\n",
    "    atom_mappings = [xx.split(\"\\t\") for xx in atom_mappings]\n",
    "    atom_mappings = {int(xx[0]): xx[2] for xx in atom_mappings}\n",
    "    atoms = [atom_mappings[int(xx)] for xx in atoms]\n",
    "    \n",
    "    return Molecule(coords=np.array(coords, dtype=float), species=atoms)"
   ]
  },
  {
   "cell_type": "code",
   "execution_count": null,
   "id": "2433e873-ddca-475d-a3ea-d61a0e797e2f",
   "metadata": {},
   "outputs": [],
   "source": [
    "paths = list(Path(\"data/qm9/C-XANES-distorted/\").rglob(\"feff.inp\"))"
   ]
  },
  {
   "cell_type": "code",
   "execution_count": null,
   "id": "d051b4a2-68a0-4318-97fb-f1a1792a1526",
   "metadata": {},
   "outputs": [],
   "source": [
    "distortion_results = dict()"
   ]
  },
  {
   "cell_type": "code",
   "execution_count": null,
   "id": "2cb3ebbf-e5ca-4c91-aebf-fa55c5ebc28f",
   "metadata": {},
   "outputs": [],
   "source": [
    "for path in tqdm(paths):\n",
    "    key = \"/\".join(path.parts[3:5])\n",
    "    split = path.parts[3].split(\"-\")\n",
    "    res = load_completed_FEFF_results(path.parent)\n",
    "    if res[\"spectrum\"] is None:\n",
    "        continue\n",
    "    distortion_results[key] = res\n",
    "    distortion_results[key][\"distortion\"] = float(split[1])\n",
    "    distortion_results[key][\"distortion_index\"] = int(split[2])\n",
    "    distortion_results[key][\"molecule\"] = feff_inp_to_molecule(res[\"feff.inp\"]).as_dict()"
   ]
  },
  {
   "cell_type": "markdown",
   "id": "7b97e02f-47c2-4e28-b970-1734dc527370",
   "metadata": {},
   "source": [
    "# Plot the results"
   ]
  },
  {
   "cell_type": "code",
   "execution_count": null,
   "id": "7fb79466-1b54-48d8-8203-c24e84a3ca7f",
   "metadata": {},
   "outputs": [],
   "source": [
    "cmap = cm.get_cmap(\"rainbow\", 10)"
   ]
  },
  {
   "cell_type": "code",
   "execution_count": null,
   "id": "bdcf1eed-ff5b-4a96-80e7-dbb2abb5036b",
   "metadata": {
    "tags": []
   },
   "outputs": [],
   "source": [
    "scale = 7\n",
    "fig, axs = plt.subplots(10, len(qm9_ids), figsize=(3*scale, 2*scale), sharex=True, sharey=True)\n",
    "\n",
    "\n",
    "for ii, distortion in enumerate([0.01 + 0.01 * ii for ii in range(10)]):\n",
    "    distortion = round(distortion, 2)\n",
    "    for jj, qm9id in enumerate(list(qm9_ids.keys())[::-1]):\n",
    "        ax = axs[jj, ii]\n",
    "        \n",
    "        # adj.set_grids(ax, grid=False)\n",
    "        # ax.set_yticks([])\n",
    "        ax.axis('off')\n",
    "        \n",
    "        distortion_results_list = [\n",
    "            value for key, value in distortion_results.items()\n",
    "            if value[\"distortion\"] == distortion and value[\"qm9id\"] == str(qm9id) and value[\"site\"] == qm9_ids[qm9id]\n",
    "        ][::5]\n",
    "        for result in distortion_results_list:\n",
    "            arr = np.array(result[\"spectrum\"])\n",
    "            ax.plot(arr[:, 0], arr[:, 3], color=cmap(ii), alpha=0.6)\n",
    "\n",
    "plt.subplots_adjust(wspace=0.1)\n",
    "plt.ylim(-1, 10)\n",
    "plt.title(\"Distortion~(\\AA)\")\n",
    "\n",
    "# plt.show()\n",
    "plt.savefig(\"Figures/qm9_distortion_waterfall.svg\", bbox_inches=\"tight\", dpi=300)"
   ]
  },
  {
   "cell_type": "markdown",
   "id": "d962698d-48ab-4d34-b72f-93486fed9a3a",
   "metadata": {},
   "source": [
    "## Construct ACSF vectors"
   ]
  },
  {
   "cell_type": "code",
   "execution_count": null,
   "id": "f1eff5bb-c596-4710-969a-d8cd7553b94b",
   "metadata": {},
   "outputs": [],
   "source": [
    "N = 200\n",
    "grids = {\n",
    "    \"O\": np.linspace(528, 582, N),\n",
    "    \"N\": np.linspace(395, 449, N),\n",
    "    \"C\": np.linspace(275, 329, N)\n",
    "}"
   ]
  },
  {
   "cell_type": "code",
   "execution_count": null,
   "id": "0a9a0f15-d710-45f0-b18e-6d279271c335",
   "metadata": {},
   "outputs": [],
   "source": [
    "CENTRAL_ATOM = \"C\"   # C, N or O\n",
    "grid = grids[CENTRAL_ATOM]"
   ]
  },
  {
   "cell_type": "code",
   "execution_count": null,
   "id": "44f6aecc-2629-42f2-9fcb-e73f38a90e11",
   "metadata": {},
   "outputs": [],
   "source": [
    "from dscribe.descriptors import ACSF"
   ]
  },
  {
   "cell_type": "code",
   "execution_count": null,
   "id": "85d080d7-92b2-4335-806d-2acf51ce1357",
   "metadata": {},
   "outputs": [],
   "source": [
    "species = [\"H\", \"C\", \"O\", \"N\", \"F\"]\n",
    "rcut = 6.0\n",
    "g2_params = [[1.0, 0], [0.1, 0], [0.01, 0]]\n",
    "g4_params=[\n",
    "    [0.001, 1.0, -1.0],\n",
    "    [0.001, 2.0, -1.0],\n",
    "    [0.001, 4.0, -1.0],\n",
    "    [0.01, 1.0, -1.0],\n",
    "    [0.01, 2.0, -1.0],\n",
    "    [0.01, 4.0, -1.0],\n",
    "    [0.1, 1.0, -1.0],\n",
    "    [0.1, 2.0, -1.0],\n",
    "    [0.1, 3.0, -1.0]\n",
    "]  # aenet paper\n",
    "acsf = ACSF(\n",
    "    species=species,\n",
    "    rcut=rcut,\n",
    "    g2_params=g2_params,\n",
    "    g4_params=g4_params\n",
    ")"
   ]
  },
  {
   "cell_type": "code",
   "execution_count": null,
   "id": "6c8e26ca-83cc-46d8-888e-9c0654b40c9c",
   "metadata": {},
   "outputs": [],
   "source": [
    "from ase import Atom, Atoms"
   ]
  },
  {
   "cell_type": "code",
   "execution_count": null,
   "id": "0ea4ffa3-ac56-4bdd-8128-f191707aab86",
   "metadata": {},
   "outputs": [],
   "source": [
    "molecule_site_pairs = []\n",
    "acsf_array = []\n",
    "spectra = []\n",
    "names = []\n",
    "\n",
    "# cc = 0\n",
    "for key, datum in tqdm(distortion_results.items()):\n",
    "    qm9id = datum[\"qm9id\"]\n",
    "    \n",
    "    molecule = Molecule.from_dict(datum[\"molecule\"])\n",
    "    atoms = []\n",
    "    absorber_site = datum[\"site\"]\n",
    "\n",
    "    for ii, site in enumerate(molecule):\n",
    "        atom = Atom(site.specie.symbol, site.coords)\n",
    "        atoms.append(atom)\n",
    "    atoms = Atoms(atoms)\n",
    "\n",
    "    tmp_acsf = acsf.create(atoms, positions=[absorber_site])\n",
    "\n",
    "    s = np.array(datum[\"spectrum\"])\n",
    "\n",
    "    try:\n",
    "        spline = InterpolatedUnivariateSpline(s[:, 0], s[:, 3])\n",
    "    except IndexError:\n",
    "        continue\n",
    "\n",
    "    res = spline(grid)\n",
    "\n",
    "    spectra.append(res)\n",
    "    acsf_array.append(tmp_acsf.squeeze())\n",
    "    molecule_site_pairs.append(f\"{qm9id}_{absorber_site}\")\n",
    "    names.append(key)\n",
    "    \n",
    "#     cc += 1\n",
    "    \n",
    "#     if cc > 20:\n",
    "#         break\n",
    "\n",
    "acsf_array = np.array(acsf_array)\n",
    "spectra = np.array(spectra)"
   ]
  },
  {
   "cell_type": "markdown",
   "id": "fded89fa-e0db-4f6e-a68a-302fd68ca39c",
   "metadata": {},
   "source": [
    "And finally save to disk."
   ]
  },
  {
   "cell_type": "code",
   "execution_count": null,
   "id": "41edd69d-bc8e-4843-8d2b-e5584fcd2253",
   "metadata": {},
   "outputs": [],
   "source": [
    "now = datetime.now().strftime(\"%y%m%d\")\n",
    "fname = Path(f\"data/qm9/XANES-{now}-ACSF-{CENTRAL_ATOM}-distorted.pkl\")\n",
    "print(fname)\n",
    "assert fname.parent.exists()"
   ]
  },
  {
   "cell_type": "markdown",
   "id": "2166fdd7-8b79-415c-9d69-5955678e0883",
   "metadata": {},
   "source": [
    "We take the convention that `\"x\"` is the input and `\"y\"` is the output. These are the only two required keys for the ML pipeline. The rest is considered metadata."
   ]
  },
  {
   "cell_type": "code",
   "execution_count": null,
   "id": "bab3da61-f077-4a3a-83d9-311b55b52fa7",
   "metadata": {},
   "outputs": [],
   "source": [
    "pickle.dump(\n",
    "    {\"grid\": grid, \"y\": spectra, \"x\": acsf_array, \"molecule_site_pairs\": molecule_site_pairs, \"names\": names},\n",
    "    open(fname, \"wb\"),\n",
    "    protocol=pickle.HIGHEST_PROTOCOL\n",
    ")"
   ]
  },
  {
   "cell_type": "code",
   "execution_count": null,
   "id": "887e1fdb-28f2-44ce-b0d4-619ccbb54057",
   "metadata": {},
   "outputs": [],
   "source": []
  }
 ],
 "metadata": {
  "kernelspec": {
   "display_name": "Python 3 (ipykernel)",
   "language": "python",
   "name": "python3"
  },
  "language_info": {
   "codemirror_mode": {
    "name": "ipython",
    "version": 3
   },
   "file_extension": ".py",
   "mimetype": "text/x-python",
   "name": "python",
   "nbconvert_exporter": "python",
   "pygments_lexer": "ipython3",
   "version": "3.9.12"
  },
  "toc-autonumbering": true,
  "toc-showmarkdowntxt": false
 },
 "nbformat": 4,
 "nbformat_minor": 5
}
