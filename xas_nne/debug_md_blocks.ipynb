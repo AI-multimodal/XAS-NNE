{
 "cells": [
  {
   "cell_type": "code",
   "execution_count": 1,
   "id": "a13ba444-780c-44a9-899b-f4024097acf6",
   "metadata": {},
   "outputs": [],
   "source": [
    "%load_ext autoreload\n",
    "%autoreload 2\n",
    "%config Completer.use_jedi = False"
   ]
  },
  {
   "cell_type": "code",
   "execution_count": 2,
   "id": "e40c031b-a5ef-48a0-aaa7-ef6b9fbe8813",
   "metadata": {},
   "outputs": [],
   "source": [
    "from pathlib import Path"
   ]
  },
  {
   "cell_type": "code",
   "execution_count": 3,
   "id": "8ba306fa-4c64-4abb-adb8-1fb128607e1c",
   "metadata": {},
   "outputs": [],
   "source": [
    "# local import the module\n",
    "from md_block_v1 import split_file_on_blocks"
   ]
  },
  {
   "cell_type": "code",
   "execution_count": 4,
   "id": "1ebf0da3-978a-4da8-a12e-f78c4bf8cbce",
   "metadata": {},
   "outputs": [],
   "source": [
    "# Simple hack so this notebook works for both of us\n",
    "path = Path(\"/Users/mc/Github/XAS-NNE/data/molecule_md/benzene_old_dft.xyz\")\n",
    "if not path.exists():\n",
    "    path = 'D:\\\\BNL\\\\MD_Datasets\\\\benzene.xyz'"
   ]
  },
  {
   "cell_type": "markdown",
   "id": "5c235c4b-1e10-4ea5-bfb2-1b8b8088ac4b",
   "metadata": {},
   "source": [
    "Debug..."
   ]
  },
  {
   "cell_type": "code",
   "execution_count": null,
   "id": "f5da08f4-c7f1-4e88-9929-1f7a4163ecba",
   "metadata": {},
   "outputs": [],
   "source": [
    "blocks = split_file_on_blocks(path)"
   ]
  }
 ],
 "metadata": {
  "kernelspec": {
   "display_name": "Python 3 (ipykernel)",
   "language": "python",
   "name": "python3"
  },
  "language_info": {
   "codemirror_mode": {
    "name": "ipython",
    "version": 3
   },
   "file_extension": ".py",
   "mimetype": "text/x-python",
   "name": "python",
   "nbconvert_exporter": "python",
   "pygments_lexer": "ipython3",
   "version": "3.9.10"
  }
 },
 "nbformat": 4,
 "nbformat_minor": 5
}
