{
 "cells": [
  {
   "cell_type": "code",
   "execution_count": null,
   "id": "c7c0172d-ad8e-42f8-b796-b4ec7833e33e",
   "metadata": {},
   "outputs": [],
   "source": [
    "%load_ext autoreload\n",
    "%autoreload 2\n",
    "%config Completer.use_jedi = False"
   ]
  },
  {
   "cell_type": "code",
   "execution_count": null,
   "id": "f387788b-c16a-45d2-8e70-e309ca3b944d",
   "metadata": {},
   "outputs": [],
   "source": [
    "from datetime import datetime\n",
    "from pathlib import Path\n",
    "import pickle\n",
    "import sys\n",
    "import numpy as np\n",
    "from scipy.stats import sem\n",
    "from matplotlib.colors import Normalize \n",
    "from scipy.interpolate import interpn\n",
    "from IPython.display import clear_output\n",
    "from rdkit import Chem\n",
    "from PyAstronomy.pyasl import broadGaussFast\n",
    "from tqdm import tqdm\n",
    "\n",
    "import matplotlib.pyplot as plt\n",
    "from matplotlib import cm\n",
    "from pymatgen.core.structure import Molecule"
   ]
  },
  {
   "cell_type": "code",
   "execution_count": null,
   "id": "ab130d4f-c85e-4657-8b5f-5495d56be4d9",
   "metadata": {},
   "outputs": [],
   "source": [
    "# https://gist.github.com/x94carbone/f5201b1c44963ff9453b9cc1d5f768ac\n",
    "sys.path.append(str(Path.home() / Path(\"local\")))\n",
    "from mpl_utils import MPLAdjutant\n",
    "adj = MPLAdjutant()\n",
    "adj.set_defaults()"
   ]
  },
  {
   "cell_type": "code",
   "execution_count": null,
   "id": "50ca14ac-5de0-4927-8c29-b4d8899e03b9",
   "metadata": {},
   "outputs": [],
   "source": [
    "import matplotlib\n",
    "matplotlib.rcParams['text.latex.preamble']=[r\"\\usepackage{amsmath}\"]"
   ]
  },
  {
   "cell_type": "code",
   "execution_count": null,
   "id": "945382f5-6da2-4393-b5e7-2d4dc9a22245",
   "metadata": {},
   "outputs": [],
   "source": [
    "import json\n",
    "\n",
    "def save_json(d, path):\n",
    "    with open(path, 'w') as outfile:\n",
    "        json.dump(d, outfile, indent=4, sort_keys=True)\n",
    "\n",
    "def read_json(path):\n",
    "    with open(path, 'r') as infile:\n",
    "        dat = json.load(infile)\n",
    "    return dat"
   ]
  },
  {
   "cell_type": "markdown",
   "id": "1ecad749-6306-40bf-bb70-d9e5f7378648",
   "metadata": {},
   "source": [
    "Append the `home` path of this project."
   ]
  },
  {
   "cell_type": "code",
   "execution_count": null,
   "id": "ec7316d8-4839-49ba-9dfd-7afe6963313b",
   "metadata": {},
   "outputs": [],
   "source": [
    "# https://stackoverflow.com/questions/20105364/how-can-i-make-a-scatter-plot-colored-by-density-in-matplotlib\n",
    "def density_scatter(x, y, ax, sort=True, bins=20, **kwargs):\n",
    "    \"\"\"\n",
    "    Scatter plot colored by 2d histogram\n",
    "    \"\"\"\n",
    "\n",
    "    data , x_e, y_e = np.histogram2d( x, y, bins = bins, density = True )\n",
    "    z = interpn( ( 0.5*(x_e[1:] + x_e[:-1]) , 0.5*(y_e[1:]+y_e[:-1]) ) , data , np.vstack([x,y]).T , method = \"splinef2d\", bounds_error = False)\n",
    "\n",
    "    #To be sure to plot all data\n",
    "    z[np.where(np.isnan(z))] = 0.0\n",
    "\n",
    "    # Sort the points by density, so that the densest points are plotted last\n",
    "    if sort :\n",
    "        idx = z.argsort()\n",
    "        x, y, z = x[idx], y[idx], z[idx]\n",
    "\n",
    "    scat = ax.scatter(x, y, c=z, **kwargs)\n",
    "    return scat"
   ]
  },
  {
   "cell_type": "markdown",
   "id": "962c0676-04b5-4ce6-a2e3-9e565a5cdb99",
   "metadata": {},
   "source": [
    "# Load the data and trained ensembles"
   ]
  },
  {
   "cell_type": "code",
   "execution_count": null,
   "id": "fa7ab921-c3e2-4591-b712-8fb3e659ab67",
   "metadata": {},
   "outputs": [],
   "source": [
    "def load_trained_ensembles(ensemble_root_path=\"Ensembles\"):\n",
    "    ensembles = dict()\n",
    "    ensemble_paths = list(Path(ensemble_root_path).rglob(\"ensemble.json\"))\n",
    "    \n",
    "    for ensemble_path in ensemble_paths:\n",
    "        downsample_prop = float(ensemble_path.parent.parts[-1])\n",
    "        atom_key = str(ensemble_path).split(\"-ACSF-\")[1].split(\"-\")[0]\n",
    "        if \"TOTAL-ATOMS\" in str(ensemble_path):\n",
    "            n_atoms = str(ensemble_path).split(\"-TOTAL-ATOMS\")[0].split(\"-\")[-1]\n",
    "            atom_key = f\"{atom_key}-{n_atoms}\"\n",
    "        if atom_key not in ensembles.keys():\n",
    "            ensembles[atom_key] = dict()\n",
    "        ensembles[atom_key][downsample_prop] = Ensemble.from_dict(read_json(ensemble_path))\n",
    "\n",
    "    return ensembles\n",
    "\n",
    "def load_data():\n",
    "    return {\n",
    "        \"O\": pickle.load(open(\"data/qm9/ml_ready/random_splits/XANES-220712-ACSF-O-RANDOM-SPLITS.pkl\", \"rb\")),\n",
    "        \"N\": pickle.load(open(\"data/qm9/ml_ready/random_splits/XANES-220712-ACSF-N-RANDOM-SPLITS.pkl\", \"rb\")),\n",
    "        \"C\": pickle.load(open(\"data/qm9/ml_ready/random_splits/XANES-220712-ACSF-C-RANDOM-SPLITS.pkl\", \"rb\"))\n",
    "    }"
   ]
  },
  {
   "cell_type": "code",
   "execution_count": null,
   "id": "af002061-1be5-4bdb-bdbc-d81b28aa640c",
   "metadata": {},
   "outputs": [],
   "source": [
    "data = load_data()"
   ]
  },
  {
   "cell_type": "code",
   "execution_count": null,
   "id": "359ada67-ef9c-41dc-8075-6ef694014e68",
   "metadata": {},
   "outputs": [],
   "source": [
    "from xas_nne.ml import Ensemble"
   ]
  },
  {
   "cell_type": "code",
   "execution_count": null,
   "id": "ac99f198-f58d-4036-9a55-0b89f4150bfe",
   "metadata": {},
   "outputs": [],
   "source": [
    "ensembles = load_trained_ensembles()"
   ]
  },
  {
   "cell_type": "markdown",
   "id": "727f07db-ea31-459a-b4f1-3fb63e248e73",
   "metadata": {
    "tags": []
   },
   "source": [
    "# Evaluate the ensemble effectiveness on the randomly sampled data"
   ]
  },
  {
   "cell_type": "markdown",
   "id": "850d3f72-542f-423a-93a2-9212c186068b",
   "metadata": {
    "tags": []
   },
   "source": [
    "## Get the results compiled"
   ]
  },
  {
   "cell_type": "code",
   "execution_count": null,
   "id": "309a855e-4cfc-489a-bc3e-564e89604bd7",
   "metadata": {},
   "outputs": [],
   "source": [
    "# downsample_values = sorted([0.1, 0.2, 0.3, 0.4, 0.5, 0.6, 0.7, 0.8, 0.9], reverse=True)\n",
    "downsample_values = [0.1, 0.5, 0.9]"
   ]
  },
  {
   "cell_type": "code",
   "execution_count": null,
   "id": "a5be37ec-83da-4e41-90ac-911a1a8ed144",
   "metadata": {},
   "outputs": [],
   "source": [
    "ATOMS = [\"C\"]"
   ]
  },
  {
   "cell_type": "markdown",
   "id": "bc0220e4-a41d-4a20-baf6-1d218c45c19f",
   "metadata": {},
   "source": [
    "Each `preds[atom_type][downsample]` is of the shape `(N_ensemble, N_examples, M)`. These predictions are masked `numpy` arrays, where the mask values correspond to outlier predictions (relative to other estimators), or totally unphysical ones."
   ]
  },
  {
   "cell_type": "code",
   "execution_count": null,
   "id": "c23a723d-eb18-4266-acea-995e4f25742b",
   "metadata": {
    "tags": []
   },
   "outputs": [],
   "source": [
    "preds_no_filter = {\n",
    "    atom_type: {\n",
    "        downsample: ensembles[atom_type][downsample].predict(data[atom_type][\"test\"][\"x\"])\n",
    "        for downsample in downsample_values\n",
    "    } for atom_type in ATOMS\n",
    "}\n",
    "clear_output()"
   ]
  },
  {
   "cell_type": "code",
   "execution_count": null,
   "id": "3d1952a7-6aa0-4b80-b265-455dcd5ab112",
   "metadata": {
    "tags": []
   },
   "outputs": [],
   "source": [
    "preds = {\n",
    "    atom_type: {\n",
    "        downsample: ensembles[atom_type][downsample].predict_filter_outliers(\n",
    "            data[atom_type][\"test\"][\"x\"],\n",
    "            sd_mult=2.0,\n",
    "            threshold_sd=0.7,\n",
    "            max_spectra_value=20.0,\n",
    "            threshold_zero=0.5,\n",
    "            min_spectra_value=0.05,\n",
    "        )\n",
    "        for downsample in downsample_values\n",
    "    } for atom_type in ATOMS\n",
    "}\n",
    "clear_output()"
   ]
  },
  {
   "cell_type": "code",
   "execution_count": null,
   "id": "18def596-c585-4089-8348-e6d2926c1226",
   "metadata": {
    "tags": []
   },
   "outputs": [],
   "source": [
    "ground_truths = {\n",
    "    atom_type: data[atom_type][\"test\"][\"y\"] for atom_type in ATOMS\n",
    "}\n",
    "for atom_type in ATOMS:\n",
    "    ground_truths[atom_type][ground_truths[atom_type] < 0] = 0.0"
   ]
  },
  {
   "cell_type": "code",
   "execution_count": null,
   "id": "e054e1c5-23c9-4ac8-95ac-1107ea1cc809",
   "metadata": {},
   "outputs": [],
   "source": [
    "grids = {atom_type: data[atom_type][\"train\"][\"grid\"] for atom_type in ATOMS}"
   ]
  },
  {
   "cell_type": "code",
   "execution_count": null,
   "id": "9092cd03-40d4-4e36-b253-bd246d94cf3a",
   "metadata": {},
   "outputs": [],
   "source": [
    "errors = {\n",
    "    atom_type: {\n",
    "        downsample: np.abs(ground_truths[atom_type] - preds[atom_type][downsample].mean(axis=0))\n",
    "        for downsample in downsample_values\n",
    "    }\n",
    "    for atom_type in ATOMS\n",
    "}"
   ]
  },
  {
   "cell_type": "code",
   "execution_count": null,
   "id": "7092f654-c9c9-4aaf-927f-affa440d5a14",
   "metadata": {},
   "outputs": [],
   "source": [
    "ground_truths[\"C\"].shape"
   ]
  },
  {
   "cell_type": "code",
   "execution_count": null,
   "id": "9f55806f-03d7-4253-8f76-16da78cad73e",
   "metadata": {},
   "outputs": [],
   "source": [
    "preds['C'][0.1].shape"
   ]
  },
  {
   "cell_type": "markdown",
   "id": "c40a85fd-b095-4292-afaa-5e29d4b728f2",
   "metadata": {
    "tags": []
   },
   "source": [
    "## Plot the correlation between error and std"
   ]
  },
  {
   "cell_type": "code",
   "execution_count": null,
   "id": "e4c44bfb-027f-4e4a-a27d-20b6402670b6",
   "metadata": {},
   "outputs": [],
   "source": [
    "def adjacent_values(vals, q1, q3):\n",
    "    upper_adjacent_value = q3 + (q3 - q1) * 1.5\n",
    "    upper_adjacent_value = np.clip(upper_adjacent_value, q3, vals[-1])\n",
    "\n",
    "    lower_adjacent_value = q1 - (q3 - q1) * 1.5\n",
    "    lower_adjacent_value = np.clip(lower_adjacent_value, vals[0], q1)\n",
    "    return lower_adjacent_value, upper_adjacent_value\n",
    "\n",
    "\n",
    "def set_axis_style(ax, labels):\n",
    "    ax.xaxis.set_tick_params(direction='out')\n",
    "    ax.xaxis.set_ticks_position('bottom')\n",
    "    ax.set_xticks(np.arange(1, len(labels) + 1), labels=labels)\n",
    "    ax.set_xlim(0.25, len(labels) + 0.75)\n",
    "    ax.set_xlabel('Sample name')\n",
    "    "
   ]
  },
  {
   "cell_type": "code",
   "execution_count": null,
   "id": "b286a201-d204-4a8f-8e47-39bb1d8cb16d",
   "metadata": {},
   "outputs": [],
   "source": [
    "bins = [-3.5 + ii for ii in range(5)]"
   ]
  },
  {
   "cell_type": "code",
   "execution_count": null,
   "id": "3a0eb2cd-6f81-4f8f-ac2e-353c163d1601",
   "metadata": {},
   "outputs": [],
   "source": [
    "def make_violin_plot(ax, log10_ensemble_pointwise_err, log10_ensemble_pointwise_std, downsample=0.9):\n",
    "    \n",
    "    cmap = cm.get_cmap(\"rainbow\", len(bins))\n",
    "    binned_by_std = np.digitize(log10_ensemble_pointwise_std, bins)\n",
    "    \n",
    "    data = [sorted(np.array(log10_ensemble_pointwise_err[np.where(binned_by_std == bin_index)[0]]).tolist()) for bin_index in np.unique(binned_by_std)]\n",
    "\n",
    "    parts = ax.violinplot(\n",
    "        data, showmeans=False, showmedians=False, showextrema=False\n",
    "    )\n",
    "\n",
    "    for ii, pc in enumerate(parts['bodies']):\n",
    "        pc.set_facecolor(cmap(ii))\n",
    "        pc.set_edgecolor('black')\n",
    "        pc.set_alpha(1)\n",
    "\n",
    "    quartile1 = []\n",
    "    medians = []\n",
    "    quartile3 = []\n",
    "    for datum in data:\n",
    "        q1, m, q3 = np.percentile(datum, [25, 50, 75])\n",
    "        quartile1.append(q1)\n",
    "        medians.append(m)\n",
    "        quartile3.append(q3)\n",
    "    whiskers = np.array([\n",
    "        adjacent_values(sorted_array, q1, q3)\n",
    "        for sorted_array, q1, q3 in zip(data, quartile1, quartile3)\n",
    "    ])\n",
    "    whiskers_min, whiskers_max = whiskers[:, 0], whiskers[:, 1]\n",
    "\n",
    "    inds = np.arange(1, len(medians) + 1)\n",
    "    ax.scatter(inds, medians, marker='o', color='white', s=5, zorder=3)\n",
    "    ax.vlines(inds, quartile1, quartile3, color='k', linestyle='-', lw=5, zorder=2)\n",
    "    ax.vlines(inds, whiskers_min, whiskers_max, color='k', linestyle='-', lw=1, zorder=2)\n",
    "    \n",
    "    for ii, med in enumerate(medians):\n",
    "        ax.axhline(med, color=cmap(ii), linewidth=0.5, zorder=1)"
   ]
  },
  {
   "cell_type": "code",
   "execution_count": null,
   "id": "3f6bb699-0e67-4cd5-b43a-a3ac603bbb98",
   "metadata": {
    "tags": []
   },
   "outputs": [],
   "source": [
    "debug = None\n",
    "atom_type = \"C\"\n",
    "downsamples = [0.1, 0.5, 0.9]\n",
    "\n",
    "fig, axs = plt.subplots(1, 3, figsize=(3, 1.5), sharex=False, sharey=True)\n",
    "\n",
    "bins_map = {\"C\": 70, \"N\": 30, \"O\": 40}\n",
    "\n",
    "\n",
    "for ii, downsample in tqdm(enumerate(downsamples)):\n",
    "    \n",
    "    # Get the predictions\n",
    "    pred = preds[atom_type][downsample].copy()\n",
    "    gt = ground_truths[atom_type].copy()\n",
    "    gt[gt < 0] = 0.0\n",
    "    \n",
    "    # Pointwise\n",
    "    ensemble_pointwise_err = np.abs(gt - pred.mean(axis=0)).flatten()\n",
    "    ensemble_pointwise_std = pred.std(axis=0).flatten()\n",
    "\n",
    "    ax = axs[ii]\n",
    "    make_violin_plot(ax, np.log10(ensemble_pointwise_err)[:debug], np.log10(ensemble_pointwise_std)[:debug])\n",
    "    ax.set_title(f\"$p={downsample:.1f}$\")\n",
    "    adj.set_grids(ax, grid=False)\n",
    "    ax.set_xticklabels([])\n",
    "    ax.tick_params(axis=\"x\", which=\"both\", bottom=False, top=False)\n",
    "    adj.set_ylim(ax, -5, 1)\n",
    "    ax.set_yticks([1, -2, -5])\n",
    "\n",
    "axs[0].set_ylabel(r\"$\\log_{10} \\varepsilon^{(i)}_j$\")\n",
    "axs[1].set_xlabel(r\"$\\log_{10} \\hat{\\sigma}^{(i)}_j$\")\n",
    "\n",
    "plt.subplots_adjust(wspace=0.1, hspace=0.1)\n",
    "\n",
    "plt.savefig(f\"Figures/qm9_sigma_parity_with_violins_p_resolved_{atom_type}.svg\", bbox_inches=\"tight\", dpi=300)\n",
    "# plt.show()"
   ]
  },
  {
   "cell_type": "code",
   "execution_count": null,
   "id": "57d2edb9-0a88-41e6-a955-9da6a9e15d59",
   "metadata": {},
   "outputs": [],
   "source": []
  }
 ],
 "metadata": {
  "kernelspec": {
   "display_name": "Python 3 (ipykernel)",
   "language": "python",
   "name": "python3"
  },
  "language_info": {
   "codemirror_mode": {
    "name": "ipython",
    "version": 3
   },
   "file_extension": ".py",
   "mimetype": "text/x-python",
   "name": "python",
   "nbconvert_exporter": "python",
   "pygments_lexer": "ipython3",
   "version": "3.9.12"
  },
  "toc-autonumbering": true,
  "toc-showmarkdowntxt": false
 },
 "nbformat": 4,
 "nbformat_minor": 5
}
