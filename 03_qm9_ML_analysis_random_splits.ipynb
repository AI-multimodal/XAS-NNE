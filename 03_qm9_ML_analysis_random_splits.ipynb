{
 "cells": [
  {
   "cell_type": "code",
   "execution_count": null,
   "id": "c7c0172d-ad8e-42f8-b796-b4ec7833e33e",
   "metadata": {},
   "outputs": [],
   "source": [
    "%load_ext autoreload\n",
    "%autoreload 2\n",
    "%config Completer.use_jedi = False"
   ]
  },
  {
   "cell_type": "code",
   "execution_count": null,
   "id": "f387788b-c16a-45d2-8e70-e309ca3b944d",
   "metadata": {},
   "outputs": [],
   "source": [
    "from datetime import datetime\n",
    "from pathlib import Path\n",
    "import pickle\n",
    "import sys\n",
    "import numpy as np\n",
    "from scipy.stats import sem\n",
    "from matplotlib.colors import Normalize \n",
    "from scipy.interpolate import interpn\n",
    "from IPython.display import clear_output\n",
    "from rdkit import Chem\n",
    "from PyAstronomy.pyasl import broadGaussFast\n",
    "\n",
    "import matplotlib.pyplot as plt\n",
    "from matplotlib import cm\n",
    "from pymatgen.core.structure import Molecule"
   ]
  },
  {
   "cell_type": "code",
   "execution_count": null,
   "id": "ab130d4f-c85e-4657-8b5f-5495d56be4d9",
   "metadata": {},
   "outputs": [],
   "source": [
    "# https://gist.github.com/x94carbone/f5201b1c44963ff9453b9cc1d5f768ac\n",
    "sys.path.append(str(Path.home() / Path(\"local\")))\n",
    "from mpl_utils import MPLAdjutant\n",
    "adj = MPLAdjutant()\n",
    "adj.set_defaults()"
   ]
  },
  {
   "cell_type": "code",
   "execution_count": null,
   "id": "50ca14ac-5de0-4927-8c29-b4d8899e03b9",
   "metadata": {},
   "outputs": [],
   "source": [
    "import matplotlib\n",
    "matplotlib.rcParams['text.latex.preamble']=[r\"\\usepackage{amsmath}\"]"
   ]
  },
  {
   "cell_type": "code",
   "execution_count": null,
   "id": "945382f5-6da2-4393-b5e7-2d4dc9a22245",
   "metadata": {},
   "outputs": [],
   "source": [
    "import json\n",
    "\n",
    "def save_json(d, path):\n",
    "    with open(path, 'w') as outfile:\n",
    "        json.dump(d, outfile, indent=4, sort_keys=True)\n",
    "\n",
    "def read_json(path):\n",
    "    with open(path, 'r') as infile:\n",
    "        dat = json.load(infile)\n",
    "    return dat"
   ]
  },
  {
   "cell_type": "markdown",
   "id": "1ecad749-6306-40bf-bb70-d9e5f7378648",
   "metadata": {},
   "source": [
    "Append the `home` path of this project."
   ]
  },
  {
   "cell_type": "code",
   "execution_count": null,
   "id": "ec7316d8-4839-49ba-9dfd-7afe6963313b",
   "metadata": {},
   "outputs": [],
   "source": [
    "# https://stackoverflow.com/questions/20105364/how-can-i-make-a-scatter-plot-colored-by-density-in-matplotlib\n",
    "def density_scatter(x, y, ax, sort=True, bins=20, **kwargs):\n",
    "    \"\"\"\n",
    "    Scatter plot colored by 2d histogram\n",
    "    \"\"\"\n",
    "\n",
    "    data , x_e, y_e = np.histogram2d( x, y, bins = bins, density = True )\n",
    "    z = interpn( ( 0.5*(x_e[1:] + x_e[:-1]) , 0.5*(y_e[1:]+y_e[:-1]) ) , data , np.vstack([x,y]).T , method = \"splinef2d\", bounds_error = False)\n",
    "\n",
    "    #To be sure to plot all data\n",
    "    z[np.where(np.isnan(z))] = 0.0\n",
    "\n",
    "    # Sort the points by density, so that the densest points are plotted last\n",
    "    if sort :\n",
    "        idx = z.argsort()\n",
    "        x, y, z = x[idx], y[idx], z[idx]\n",
    "\n",
    "    scat = ax.scatter(x, y, c=z, **kwargs)\n",
    "    return scat"
   ]
  },
  {
   "cell_type": "markdown",
   "id": "962c0676-04b5-4ce6-a2e3-9e565a5cdb99",
   "metadata": {},
   "source": [
    "# Load the data and trained ensembles"
   ]
  },
  {
   "cell_type": "code",
   "execution_count": null,
   "id": "fa7ab921-c3e2-4591-b712-8fb3e659ab67",
   "metadata": {},
   "outputs": [],
   "source": [
    "def load_trained_ensembles(ensemble_root_path=\"Ensembles\"):\n",
    "    ensembles = dict()\n",
    "    ensemble_paths = list(Path(ensemble_root_path).rglob(\"ensemble.json\"))\n",
    "    \n",
    "    for ensemble_path in ensemble_paths:\n",
    "        downsample_prop = float(ensemble_path.parent.parts[-1])\n",
    "        atom_key = str(ensemble_path).split(\"-ACSF-\")[1].split(\"-\")[0]\n",
    "        if \"TOTAL-ATOMS\" in str(ensemble_path):\n",
    "            n_atoms = str(ensemble_path).split(\"-TOTAL-ATOMS\")[0].split(\"-\")[-1]\n",
    "            atom_key = f\"{atom_key}-{n_atoms}\"\n",
    "        if atom_key not in ensembles.keys():\n",
    "            ensembles[atom_key] = dict()\n",
    "        ensembles[atom_key][downsample_prop] = Ensemble.from_dict(read_json(ensemble_path))\n",
    "\n",
    "    return ensembles\n",
    "\n",
    "def load_data():\n",
    "    return {\n",
    "        \"O\": pickle.load(open(\"data/qm9/ml_ready/random_splits/XANES-220712-ACSF-O-RANDOM-SPLITS.pkl\", \"rb\")),\n",
    "        \"N\": pickle.load(open(\"data/qm9/ml_ready/random_splits/XANES-220712-ACSF-N-RANDOM-SPLITS.pkl\", \"rb\")),\n",
    "        \"C\": pickle.load(open(\"data/qm9/ml_ready/random_splits/XANES-220712-ACSF-C-RANDOM-SPLITS.pkl\", \"rb\"))\n",
    "    }"
   ]
  },
  {
   "cell_type": "code",
   "execution_count": null,
   "id": "af002061-1be5-4bdb-bdbc-d81b28aa640c",
   "metadata": {},
   "outputs": [],
   "source": [
    "data = load_data()"
   ]
  },
  {
   "cell_type": "code",
   "execution_count": null,
   "id": "359ada67-ef9c-41dc-8075-6ef694014e68",
   "metadata": {},
   "outputs": [],
   "source": [
    "from xas_nne.ml import Ensemble"
   ]
  },
  {
   "cell_type": "code",
   "execution_count": null,
   "id": "ac99f198-f58d-4036-9a55-0b89f4150bfe",
   "metadata": {},
   "outputs": [],
   "source": [
    "ensembles = load_trained_ensembles()"
   ]
  },
  {
   "cell_type": "markdown",
   "id": "727f07db-ea31-459a-b4f1-3fb63e248e73",
   "metadata": {
    "tags": []
   },
   "source": [
    "# Evaluate the ensemble effectiveness on the randomly sampled data"
   ]
  },
  {
   "cell_type": "markdown",
   "id": "850d3f72-542f-423a-93a2-9212c186068b",
   "metadata": {
    "tags": []
   },
   "source": [
    "## Get the results compiled"
   ]
  },
  {
   "cell_type": "code",
   "execution_count": null,
   "id": "309a855e-4cfc-489a-bc3e-564e89604bd7",
   "metadata": {},
   "outputs": [],
   "source": [
    "downsample_values = sorted([0.1, 0.2, 0.3, 0.4, 0.5, 0.6, 0.7, 0.8, 0.9], reverse=True)\n",
    "# downsample_values = [0.1, 0.2, 0.0.9]"
   ]
  },
  {
   "cell_type": "code",
   "execution_count": null,
   "id": "a5be37ec-83da-4e41-90ac-911a1a8ed144",
   "metadata": {},
   "outputs": [],
   "source": [
    "ATOMS = [\"C\", \"N\", \"O\"]"
   ]
  },
  {
   "cell_type": "markdown",
   "id": "bc0220e4-a41d-4a20-baf6-1d218c45c19f",
   "metadata": {},
   "source": [
    "Each `preds[atom_type][downsample]` is of the shape `(N_ensemble, N_examples, M)`. These predictions are masked `numpy` arrays, where the mask values correspond to outlier predictions (relative to other estimators), or totally unphysical ones."
   ]
  },
  {
   "cell_type": "code",
   "execution_count": null,
   "id": "c23a723d-eb18-4266-acea-995e4f25742b",
   "metadata": {
    "tags": []
   },
   "outputs": [],
   "source": [
    "preds_no_filter = {\n",
    "    atom_type: {\n",
    "        downsample: ensembles[atom_type][downsample].predict(data[atom_type][\"test\"][\"x\"])\n",
    "        for downsample in downsample_values\n",
    "    } for atom_type in ATOMS\n",
    "}\n",
    "clear_output()"
   ]
  },
  {
   "cell_type": "code",
   "execution_count": null,
   "id": "3d1952a7-6aa0-4b80-b265-455dcd5ab112",
   "metadata": {
    "tags": []
   },
   "outputs": [],
   "source": [
    "preds = {\n",
    "    atom_type: {\n",
    "        downsample: ensembles[atom_type][downsample].predict_filter_outliers(\n",
    "            data[atom_type][\"test\"][\"x\"],\n",
    "            sd_mult=2.0,\n",
    "            threshold_sd=0.7,\n",
    "            max_spectra_value=20.0,\n",
    "            threshold_zero=0.5,\n",
    "            min_spectra_value=0.05,\n",
    "        )\n",
    "        for downsample in downsample_values\n",
    "    } for atom_type in ATOMS\n",
    "}\n",
    "clear_output()"
   ]
  },
  {
   "cell_type": "code",
   "execution_count": null,
   "id": "18def596-c585-4089-8348-e6d2926c1226",
   "metadata": {
    "tags": []
   },
   "outputs": [],
   "source": [
    "ground_truths = {\n",
    "    atom_type: data[atom_type][\"test\"][\"y\"] for atom_type in ATOMS\n",
    "}\n",
    "for atom_type in ATOMS:\n",
    "    ground_truths[atom_type][ground_truths[atom_type] < 0] = 0.0"
   ]
  },
  {
   "cell_type": "code",
   "execution_count": null,
   "id": "e054e1c5-23c9-4ac8-95ac-1107ea1cc809",
   "metadata": {},
   "outputs": [],
   "source": [
    "grids = {atom_type: data[atom_type][\"train\"][\"grid\"] for atom_type in ATOMS}"
   ]
  },
  {
   "cell_type": "code",
   "execution_count": null,
   "id": "9092cd03-40d4-4e36-b253-bd246d94cf3a",
   "metadata": {},
   "outputs": [],
   "source": [
    "errors = {\n",
    "    atom_type: {\n",
    "        downsample: np.abs(ground_truths[atom_type] - preds[atom_type][downsample].mean(axis=0))\n",
    "        for downsample in downsample_values\n",
    "    }\n",
    "    for atom_type in ATOMS\n",
    "}"
   ]
  },
  {
   "cell_type": "markdown",
   "id": "d8131beb-ad3a-46d0-974a-453664d78ff4",
   "metadata": {
    "tags": []
   },
   "source": [
    "## Plot the average errors $\\varepsilon$ for each atom type"
   ]
  },
  {
   "cell_type": "code",
   "execution_count": null,
   "id": "bd5da9cc-8d46-4bff-874e-c830eb5057a5",
   "metadata": {
    "tags": []
   },
   "outputs": [],
   "source": [
    "fig, ax = plt.subplots(1, 1, figsize=(3, 2))\n",
    "\n",
    "colors = {\"C\": \"black\", \"N\": \"blue\", \"O\": \"red\"}\n",
    "\n",
    "for atom_type in ATOMS:\n",
    "    e = []\n",
    "    for downsample in downsample_values:\n",
    "        e.append(errors[atom_type][downsample].mean())\n",
    "    e = np.array(e)\n",
    "    print(e)\n",
    "    ax.plot(downsample_values, e*100, marker=\"o\", color=colors[atom_type], label=atom_type)\n",
    "    \n",
    "adj.set_grids(ax, grid=False)\n",
    "ax.legend(frameon=False)\n",
    "ax.set_xticks([0.1, 0.5, 0.9])\n",
    "ax.set_ylim(2.9, 6.1)\n",
    "ax.set_xlabel(\"$p$\")\n",
    "ax.set_ylabel(r\"$100\\varepsilon(p)$\")\n",
    "\n",
    "plt.savefig(\"Figures/qm9_errors_as_p.svg\", bbox_inches=\"tight\", dpi=300)\n",
    "# plt.show()"
   ]
  },
  {
   "cell_type": "markdown",
   "id": "4981df19-55a5-4f1d-968b-e52150bbf888",
   "metadata": {
    "jp-MarkdownHeadingCollapsed": true,
    "tags": []
   },
   "source": [
    "## Plot some examples"
   ]
  },
  {
   "cell_type": "markdown",
   "id": "cf826f90-eede-4fd2-94af-9876a290d07b",
   "metadata": {},
   "source": [
    "Sort by the errors."
   ]
  },
  {
   "cell_type": "code",
   "execution_count": null,
   "id": "081eebfa-13dc-40c7-9454-4dbe40276a17",
   "metadata": {},
   "outputs": [],
   "source": [
    "atom_type = \"N\"\n",
    "downsample = 0.9"
   ]
  },
  {
   "cell_type": "code",
   "execution_count": null,
   "id": "f96e7a11-26fd-45ef-889c-dd377bf128ee",
   "metadata": {},
   "outputs": [],
   "source": [
    "argsorted = np.argsort( errors[atom_type][downsample].mean(axis=-1) )"
   ]
  },
  {
   "cell_type": "markdown",
   "id": "627e1577-561a-4508-aaba-2f3540cdb950",
   "metadata": {},
   "source": [
    "Decide on an example and plot it."
   ]
  },
  {
   "cell_type": "code",
   "execution_count": null,
   "id": "f0525100-99a9-41ce-b754-e8a8b85fdc44",
   "metadata": {},
   "outputs": [],
   "source": [
    "predicted_spectra = preds[atom_type][downsample].copy()\n",
    "ground_truth_spectra = ground_truths[atom_type].copy()"
   ]
  },
  {
   "cell_type": "code",
   "execution_count": null,
   "id": "fd513e16-f4f0-40d6-a607-6932d353011f",
   "metadata": {},
   "outputs": [],
   "source": [
    "len(argsorted)"
   ]
  },
  {
   "cell_type": "code",
   "execution_count": null,
   "id": "fb66f1a2-1fca-4ec6-971c-5cd0b8316480",
   "metadata": {},
   "outputs": [],
   "source": [
    "ii = -10\n",
    "ii = argsorted[ii]\n",
    "\n",
    "predicted_spectra = preds[atom_type][downsample][:, ii, :]\n",
    "ground_truth_spectra = ground_truths[atom_type][ii, :]\n",
    "\n",
    "mu = predicted_spectra.mean(axis=0)\n",
    "sd = predicted_spectra.std(axis=0)\n",
    "# cond = (predicted_spectra > mu + 3 * sd) | (predicted_spectra < mu - 3 * sd)\n",
    "# where_keep = np.where(cond.sum(axis=1) < 150)[0]\n",
    "# predicted_spectra = predicted_spectra[where_keep, :]\n",
    "# mu = predicted_spectra.mean(axis=0)\n",
    "# sd = predicted_spectra.std(axis=0)\n",
    "\n",
    "fig, ax = plt.subplots(1, 1, figsize=(3, 2))\n",
    "\n",
    "print(data[atom_type][\"test\"][\"origin_smiles\"][ii])\n",
    "\n",
    "ax.plot(grids[atom_type], ground_truth_spectra, \"k-\")\n",
    "\n",
    "for prediction in predicted_spectra:\n",
    "    ax.plot(grids[atom_type], prediction, 'r-', linewidth=0.5, alpha=0.5)\n",
    "\n",
    "# ax.plot(grids[atom_type], mu, \"r-\")\n",
    "ax.fill_between(grids[atom_type], mu - sd * 3, mu + sd * 3, alpha=0.4, color=\"red\", linewidth=0)\n",
    "\n",
    "err = np.mean(np.abs(ground_truth_spectra - mu))\n",
    "print(f\"{np.log10(err):.02f}\")\n",
    "\n",
    "plt.show()\n"
   ]
  },
  {
   "cell_type": "markdown",
   "id": "98228c56-b10d-47d5-83dd-4f5801044f99",
   "metadata": {
    "tags": []
   },
   "source": [
    "## Error histograms"
   ]
  },
  {
   "cell_type": "code",
   "execution_count": null,
   "id": "afe28513-d1f0-4d76-86e9-0d12a7cde56c",
   "metadata": {},
   "outputs": [],
   "source": [
    "fig, axs = plt.subplots(1, 3, figsize=(6, 6/3/1.6))\n",
    "\n",
    "downsample = 0.9\n",
    "\n",
    "for ii, (ax, atom_type) in enumerate(zip(axs, [\"C\", \"N\", \"O\"])):\n",
    "    \n",
    "    ax.set_title(atom_type)\n",
    "\n",
    "    # Get the data\n",
    "    pred = preds[atom_type][downsample].copy()\n",
    "    pred2 = preds_no_filter[atom_type][downsample].copy()\n",
    "    gt = ground_truths[atom_type].copy()\n",
    "    \n",
    "    # Ensemble error itself\n",
    "    ensemble_err = np.mean(np.abs(gt - pred.mean(axis=0)), axis=-1)\n",
    "    log_ensemble_err = np.log10(ensemble_err)\n",
    "    \n",
    "    # Individual errors from each estimator\n",
    "    individual_errs = np.mean(np.abs(gt - pred2), axis=-1)\n",
    "    log_individual_errs = np.log10(individual_errs)\n",
    "    avg_log_estimator_err = np.mean(log_individual_errs, axis=0)\n",
    "    \n",
    "    # Average testing set error as a baseline\n",
    "    average_spectrum_in_testing_set = np.mean(gt, axis=0)\n",
    "    dummy_testing_set_error = np.log10(np.mean(np.abs(average_spectrum_in_testing_set - gt)))\n",
    "    ax.axvline(dummy_testing_set_error, color=\"blue\", linestyle=\"--\", linewidth=0.5, zorder=0)\n",
    "    \n",
    "    # Plot\n",
    "    bins = [0.2 - ii * 0.05 for ii in range(50)][::-1]\n",
    "    ax.hist(log_ensemble_err, bins=bins, color=\"black\", label=r\"$\\varepsilon^{(i)}$\" if ii==1 else None)\n",
    "    ax.hist(avg_log_estimator_err, bins=bins, color=\"red\", alpha=0.5, label=r\"$\\varepsilon_\\mathrm{est}^{(i)}$\" if ii==1 else None)\n",
    "    ax.text(0.1, 0.3, r\"$%.02f$\" % np.mean(log_ensemble_err), color=\"black\", ha=\"left\", va=\"center\", transform=ax.transAxes, fontsize=8)\n",
    "    ax.text(0.1, 0.2, r\"$%.02f$\" % np.mean(avg_log_estimator_err), color=\"red\", ha=\"left\", va=\"center\", transform=ax.transAxes, fontsize=8)\n",
    "    t = ax.text(0.9, 0.4, r\"$%.02f$\" % dummy_testing_set_error, color=\"blue\", ha=\"right\", va=\"center\", transform=ax.transAxes, fontsize=8)\n",
    "    t.set_bbox(dict(facecolor='white', alpha=1, edgecolor='white'))\n",
    "    \n",
    "    # Fine tuning\n",
    "    adj.set_grids(ax, grid=False)\n",
    "    ax.set_yticklabels([])\n",
    "    ax.set_xticks([-3, -2, -1, 0])\n",
    "    adj.set_xlim(ax, -3, 0)\n",
    "    \n",
    "    if ii == 0:  # Carbon\n",
    "        val = 3000\n",
    "        ax.text(0.1, 0.8, val, ha=\"left\", va=\"center\", transform=ax.transAxes, color=\"gray\") \n",
    "    elif ii == 1:  # Nitrogen\n",
    "        val = 1500\n",
    "        ax.text(0.1, 0.8, val, ha=\"left\", va=\"center\", transform=ax.transAxes, color=\"gray\") \n",
    "    else:  # Oxygen\n",
    "        val = 2000\n",
    "        ax.text(0.1, 0.8, val, ha=\"left\", va=\"center\", transform=ax.transAxes, color=\"gray\") \n",
    "\n",
    "    ax.axhline(val, color=\"gray\", linestyle=\"--\", linewidth=0.5, zorder=0)\n",
    "    \n",
    "        \n",
    "axs[1].set_xlabel(r\"$\\log_{10} \\varepsilon^{(i)}$\")\n",
    "axs[0].set_ylabel(\"Counts\")\n",
    "axs[1].legend(frameon=False, loc=\"center left\", fontsize=10)\n",
    "\n",
    "plt.subplots_adjust(wspace=0.1)\n",
    "\n",
    "# plt.savefig(\"Figures/qm9_hists.svg\", bbox_inches=\"tight\", dpi=300)\n",
    "# needs post-processing on InkScape\n",
    "# clear_output()\n",
    "plt.show()"
   ]
  },
  {
   "cell_type": "markdown",
   "id": "0d72cd44-f1db-47c3-8495-ed5a321806b3",
   "metadata": {
    "tags": []
   },
   "source": [
    "## Error histograms (full plot of everything; might not use this)"
   ]
  },
  {
   "cell_type": "code",
   "execution_count": null,
   "id": "f163b4f4-f43a-4a5a-af84-4094d082a21b",
   "metadata": {
    "tags": []
   },
   "outputs": [],
   "source": [
    "scale = 1.5\n",
    "\n",
    "fig, axs = plt.subplots(len(downsample_values), 3, figsize=(4 * scale, 6 * scale), sharex=True)\n",
    "\n",
    "\n",
    "for ii, (tmp_ax, downsample) in enumerate(zip(axs, downsample_values)):\n",
    "    \n",
    "    for jj, atom_type in enumerate([\"C\", \"N\", \"O\"]):\n",
    "        ax = tmp_ax[jj]\n",
    "    \n",
    "        # Get the data\n",
    "        pred = preds[atom_type][downsample].copy()\n",
    "        gt = ground_truths[atom_type].copy()\n",
    "\n",
    "        # Ensemble error itself - these should include the bad predictions\n",
    "        ensemble_err = np.mean(np.abs(gt - pred.mean(axis=0)), axis=-1)\n",
    "        log_ensemble_err = np.log10(ensemble_err)\n",
    "\n",
    "        # Individual errors from each estimator\n",
    "        pred2 = preds_no_filter[atom_type][downsample].copy()\n",
    "        individual_errs = np.mean(np.abs(gt - pred2), axis=-1)\n",
    "        log_individual_errs = np.log10(individual_errs)\n",
    "        avg_log_estimator_err = np.mean(log_individual_errs, axis=0)\n",
    "\n",
    "        # Average testing set error as a baseline\n",
    "        average_spectrum_in_testing_set = np.mean(gt, axis=0)\n",
    "        dummy_testing_set_error = np.log10(np.mean(np.abs(average_spectrum_in_testing_set - gt)))\n",
    "        ax.axvline(dummy_testing_set_error, color=\"blue\", linestyle=\"--\", linewidth=0.5, zorder=0)\n",
    "\n",
    "        # Plot\n",
    "        bins = [0.2 - ii * 0.05 for ii in range(50)][::-1]\n",
    "        ax.hist(log_ensemble_err, bins=bins, color=\"black\", label=r\"$\\varepsilon^{(i)}$\" if ii==0 and jj == 1 else None, density=True)\n",
    "        ax.hist(avg_log_estimator_err, bins=bins, color=\"red\", alpha=0.5, label=r\"$\\varepsilon_\\mathrm{est}^{(i)}$\" if ii==0 and jj == 1 else None, density=True)\n",
    "        ax.text(0.1, 0.4, r\"$%.02f$\" % np.median(log_ensemble_err), color=\"black\", ha=\"left\", va=\"center\", transform=ax.transAxes, fontsize=8)\n",
    "        ax.text(0.1, 0.2, r\"$%.02f$\" % np.median(avg_log_estimator_err), color=\"red\", ha=\"left\", va=\"center\", transform=ax.transAxes, fontsize=8)\n",
    "        \n",
    "        # Labels for the downsample values\n",
    "        if jj == 0:\n",
    "            t = ax.text(0.1, 0.8, r\"$%.01f$\" % downsample, color=\"black\", ha=\"left\", va=\"top\", transform=ax.transAxes, fontsize=8)\n",
    "            # t.set_bbox(dict(facecolor='grey', alpha=0.5, edgecolor='white'))\n",
    "\n",
    "        # Vertical lines for the dummy model baseline\n",
    "        if ii == 0:\n",
    "            t = ax.text(0.9, 0.4, r\"$%.02f$\" % dummy_testing_set_error, color=\"blue\", ha=\"right\", va=\"center\", transform=ax.transAxes, fontsize=8)\n",
    "            t.set_bbox(dict(facecolor='white', alpha=1, edgecolor='white'))\n",
    "\n",
    "        # Fine tuning\n",
    "        adj.set_grids(ax, grid=False)\n",
    "        ax.set_yticklabels([])\n",
    "        ax.set_yticks([])\n",
    "        ax.set_xticks([-3, 0])\n",
    "        adj.set_xlim(ax, -3, 0)\n",
    "        \n",
    "axs[-1, 1].set_xlabel(r\"$\\log_{10} \\varepsilon^{(i)}$\")\n",
    "axs[4, 0].set_ylabel(\"Density\")\n",
    "axs[0, 1].legend(frameon=False, loc=\"upper left\", fontsize=10)\n",
    "axs[0, 0].set_title(\"C\")\n",
    "axs[0, 1].set_title(\"N\")\n",
    "axs[0, 2].set_title(\"O\")\n",
    "\n",
    "plt.subplots_adjust(wspace=0.05, hspace=0.1)\n",
    "\n",
    "# plt.savefig(\"qm9_hists.svg\", bbox_inches=\"tight\", dpi=300)\n",
    "# needs post-processing on InkScape\n",
    "# clear_output()\n",
    "plt.show()"
   ]
  },
  {
   "cell_type": "markdown",
   "id": "c40a85fd-b095-4292-afaa-5e29d4b728f2",
   "metadata": {
    "tags": []
   },
   "source": [
    "## Plot the correlation between error and std"
   ]
  },
  {
   "cell_type": "code",
   "execution_count": null,
   "id": "e4c44bfb-027f-4e4a-a27d-20b6402670b6",
   "metadata": {},
   "outputs": [],
   "source": [
    "def adjacent_values(vals, q1, q3):\n",
    "    upper_adjacent_value = q3 + (q3 - q1) * 1.5\n",
    "    upper_adjacent_value = np.clip(upper_adjacent_value, q3, vals[-1])\n",
    "\n",
    "    lower_adjacent_value = q1 - (q3 - q1) * 1.5\n",
    "    lower_adjacent_value = np.clip(lower_adjacent_value, vals[0], q1)\n",
    "    return lower_adjacent_value, upper_adjacent_value\n",
    "\n",
    "\n",
    "def set_axis_style(ax, labels):\n",
    "    ax.xaxis.set_tick_params(direction='out')\n",
    "    ax.xaxis.set_ticks_position('bottom')\n",
    "    ax.set_xticks(np.arange(1, len(labels) + 1), labels=labels)\n",
    "    ax.set_xlim(0.25, len(labels) + 0.75)\n",
    "    ax.set_xlabel('Sample name')\n",
    "    "
   ]
  },
  {
   "cell_type": "code",
   "execution_count": null,
   "id": "b286a201-d204-4a8f-8e47-39bb1d8cb16d",
   "metadata": {},
   "outputs": [],
   "source": [
    "bins = [-3.5 + ii for ii in range(5)]"
   ]
  },
  {
   "cell_type": "code",
   "execution_count": null,
   "id": "3a0eb2cd-6f81-4f8f-ac2e-353c163d1601",
   "metadata": {},
   "outputs": [],
   "source": [
    "def make_violin_plot(ax, log10_ensemble_pointwise_err, log10_ensemble_pointwise_std, downsample=0.9):\n",
    "    \n",
    "    cmap = cm.get_cmap(\"rainbow\", len(bins))\n",
    "    binned_by_std = np.digitize(log10_ensemble_pointwise_std, bins)\n",
    "    \n",
    "    data = [sorted(np.array(log10_ensemble_pointwise_err[np.where(binned_by_std == bin_index)[0]]).tolist()) for bin_index in np.unique(binned_by_std)]\n",
    "\n",
    "    parts = ax.violinplot(\n",
    "        data, showmeans=False, showmedians=False, showextrema=False\n",
    "    )\n",
    "\n",
    "    for ii, pc in enumerate(parts['bodies']):\n",
    "        pc.set_facecolor(cmap(ii))\n",
    "        pc.set_edgecolor('black')\n",
    "        pc.set_alpha(1)\n",
    "\n",
    "    quartile1 = []\n",
    "    medians = []\n",
    "    quartile3 = []\n",
    "    for datum in data:\n",
    "        q1, m, q3 = np.percentile(datum, [25, 50, 75])\n",
    "        quartile1.append(q1)\n",
    "        medians.append(m)\n",
    "        quartile3.append(q3)\n",
    "    whiskers = np.array([\n",
    "        adjacent_values(sorted_array, q1, q3)\n",
    "        for sorted_array, q1, q3 in zip(data, quartile1, quartile3)\n",
    "    ])\n",
    "    whiskers_min, whiskers_max = whiskers[:, 0], whiskers[:, 1]\n",
    "\n",
    "    inds = np.arange(1, len(medians) + 1)\n",
    "    ax.scatter(inds, medians, marker='o', color='white', s=5, zorder=3)\n",
    "    ax.vlines(inds, quartile1, quartile3, color='k', linestyle='-', lw=5, zorder=2)\n",
    "    ax.vlines(inds, whiskers_min, whiskers_max, color='k', linestyle='-', lw=1, zorder=2)\n",
    "    \n",
    "    for ii, med in enumerate(medians):\n",
    "        ax.axhline(med, color=cmap(ii), linewidth=0.5, zorder=1)"
   ]
  },
  {
   "cell_type": "code",
   "execution_count": null,
   "id": "3f6bb699-0e67-4cd5-b43a-a3ac603bbb98",
   "metadata": {
    "tags": []
   },
   "outputs": [],
   "source": [
    "debug = None\n",
    "\n",
    "fig, axs = plt.subplots(2, len(ATOMS), figsize=(6, 3), sharex=False, sharey=True, gridspec_kw={\"height_ratios\": [1, 2]})\n",
    "\n",
    "bins_map = {\"C\": 70, \"N\": 30, \"O\": 40}\n",
    "\n",
    "downsample = 0.9\n",
    "\n",
    "\n",
    "ax_min = -6\n",
    "ax_max = 2\n",
    "for ax in axs[1, :]:\n",
    "    ax.set_xlim(ax_min, ax_max)\n",
    "    ax.set_ylim(ax_min, ax_max)\n",
    "    ax.set_xticks([-6, -2, 2])\n",
    "    ax.set_yticks([-6, -2, 2])\n",
    "    adj.set_grids(ax, grid=False)\n",
    "    adj.set_xlim(ax, ax_min, ax_max)\n",
    "    adj.set_ylim(ax, ax_min, ax_max)\n",
    "    \n",
    "for ii, atom_type in enumerate(ATOMS):\n",
    "    \n",
    "    # Get the predictions\n",
    "    pred = preds[atom_type][downsample].copy()\n",
    "    gt = ground_truths[atom_type].copy()\n",
    "    gt[gt < 0] = 0.0\n",
    "    \n",
    "    # Pointwise\n",
    "    ensemble_pointwise_err = np.abs(gt - pred.mean(axis=0)).flatten()\n",
    "    ensemble_pointwise_std = pred.std(axis=0).flatten()\n",
    "\n",
    "    ax = axs[1, ii]\n",
    "    y = np.log10(ensemble_pointwise_err[::debug])\n",
    "    x = np.log10(ensemble_pointwise_std[::debug])\n",
    "    scat = density_scatter(x, y, ax=ax, sort=True, bins=bins_map[atom_type], s=0.4, alpha=1, rasterized=True)\n",
    "    p = np.polyfit(x[::10], y[::10], deg=1)\n",
    "    r2 = np.corrcoef(x[::10], y[::10])[0, 1]**2\n",
    "    poly = np.poly1d(p)\n",
    "    ax.axline((-3, poly(-3)), (-2, poly(-2)), color=\"black\", linestyle=\"-\", linewidth=0.5, alpha=0.9)\n",
    "    ax.axline((-3, poly(-3) + 0.5), (-2, poly(-2) + 0.5), color=\"black\", linestyle=\"--\", linewidth=0.5, alpha=0.8)\n",
    "    ax.axline((-3, poly(-3) + 1.0), (-2, poly(-2) + 1.0), color=\"black\", linestyle=\"--\", linewidth=0.5, alpha=0.7)\n",
    "    ax.axline((-3, poly(-3) + 1.5), (-2, poly(-2) + 1.5), color=\"black\", linestyle=\"--\", linewidth=0.5, alpha=0.6)\n",
    "    ax.axline((-3, poly(-3) + 2.0), (-2, poly(-2) + 2.0), color=\"black\", linestyle=\"--\", linewidth=0.5, alpha=0.5)\n",
    "    ax.text(0.1, 0.9, r\"$r^2 = %.02f$\" % r2, ha=\"left\", va=\"top\", transform=ax.transAxes)\n",
    "    adj.set_xlim(ax, -6, 2)\n",
    "    \n",
    "    cmap = cm.get_cmap(\"rainbow\", len(bins))\n",
    "    alpha = 0.2\n",
    "    ax.fill_between(np.linspace(-7, -3.5, 100), -7, 3, color=cmap(0), alpha=alpha, linewidth=0, zorder=0)\n",
    "    ax.fill_between(np.linspace(-3.5, -2.5, 100), -7, 3, color=cmap(1), alpha=alpha, linewidth=0, zorder=0)\n",
    "    ax.fill_between(np.linspace(-2.5, -1.5, 100), -7, 3, color=cmap(2), alpha=alpha, linewidth=0, zorder=0)\n",
    "    ax.fill_between(np.linspace(-1.5, -0.5, 100), -7, 3, color=cmap(3), alpha=alpha, linewidth=0, zorder=0)\n",
    "    ax.fill_between(np.linspace(-0.5, 3, 100), -7, 3, color=cmap(4), alpha=alpha, linewidth=0, zorder=0)\n",
    "    \n",
    "    # if ii == 2:\n",
    "    #     adj.add_colorbar(scat)\n",
    "    \n",
    "    ax = axs[0, ii]\n",
    "    make_violin_plot(ax, np.log10(ensemble_pointwise_err), np.log10(ensemble_pointwise_std))\n",
    "    ax.set_title(atom_type)\n",
    "    adj.set_grids(ax, grid=False)\n",
    "    ax.set_xticklabels([])\n",
    "    ax.tick_params(axis=\"x\", which=\"both\", bottom=False, top=False)\n",
    "\n",
    "    \n",
    "ax = fig.add_subplot(111, frameon=False)\n",
    "# hide tick and tick label of the big axes\n",
    "plt.tick_params(labelcolor='none', top='off', bottom='off', left='off', right='off')\n",
    "ax.set_xticks([])\n",
    "ax.set_yticks([])\n",
    "\n",
    "ax.set_ylabel(r\"$\\log_{10} \\varepsilon^{(i)}_j$\")\n",
    "ax.set_xlabel(r\"$\\log_{10} \\hat{\\sigma}^{(i)}_j$\")\n",
    "\n",
    "plt.subplots_adjust(wspace=0.1, hspace=0.1)\n",
    "\n",
    "plt.savefig(\"Figures/qm9_sigma_parity_with_violins.svg\", bbox_inches=\"tight\", dpi=300)\n",
    "# plt.show()"
   ]
  },
  {
   "cell_type": "markdown",
   "id": "2bc7c0d6-d496-4e3d-85bd-f02b277b30d8",
   "metadata": {
    "jp-MarkdownHeadingCollapsed": true,
    "tags": []
   },
   "source": [
    "### Examine some of the outlier predictions in the O database"
   ]
  },
  {
   "cell_type": "code",
   "execution_count": null,
   "id": "e73b32c5-b8d2-4e27-8e1b-d23e4574fd3c",
   "metadata": {},
   "outputs": [],
   "source": [
    "pred = preds[\"O\"][0.9].copy()\n",
    "gt = ground_truths[\"O\"].copy()\n",
    "    \n",
    "# Pointwise\n",
    "ensemble_pointwise_err = np.log10(np.abs(gt - pred.mean(axis=0)).flatten())\n",
    "ensemble_pointwise_std = np.log10(pred.std(axis=0).flatten())"
   ]
  },
  {
   "cell_type": "code",
   "execution_count": null,
   "id": "822c2dd0-362b-4189-8e59-efa2b1fecb5b",
   "metadata": {},
   "outputs": [],
   "source": [
    "pred_index = np.array([ii // 200 for ii in range(len(ensemble_pointwise_err))])"
   ]
  },
  {
   "cell_type": "code",
   "execution_count": null,
   "id": "e04bb113-dc52-4625-9103-de318725f2c3",
   "metadata": {},
   "outputs": [],
   "source": [
    "where_O_bad = np.where( (ensemble_pointwise_std < -2) & (ensemble_pointwise_err > -1) )[0]"
   ]
  },
  {
   "cell_type": "code",
   "execution_count": null,
   "id": "a47f6459-15be-4b71-bc14-eef34e0d2eb0",
   "metadata": {},
   "outputs": [],
   "source": [
    "pred_index[where_O_bad]"
   ]
  },
  {
   "cell_type": "markdown",
   "id": "25e5a90d-3ec4-469c-ae3f-a5fa3eddef9e",
   "metadata": {},
   "source": [
    "Get the SMILES closest to the ground truth. What's going on here?"
   ]
  },
  {
   "cell_type": "code",
   "execution_count": null,
   "id": "7589eec0-d081-4343-bc27-44e2dade392f",
   "metadata": {},
   "outputs": [],
   "source": [
    "ii_star = 14107"
   ]
  },
  {
   "cell_type": "code",
   "execution_count": null,
   "id": "427aaf94-2491-4e63-81bf-fa71fe315ba5",
   "metadata": {},
   "outputs": [],
   "source": [
    "dists = np.sum(np.abs(pred[:, ii_star, :].mean(axis=0) - data[\"O\"][\"train\"][\"y\"]), axis=1)"
   ]
  },
  {
   "cell_type": "code",
   "execution_count": null,
   "id": "db4ca19f-0fff-41ba-935e-77b20cb87467",
   "metadata": {},
   "outputs": [],
   "source": [
    "argsorted = np.argsort(dists)"
   ]
  },
  {
   "cell_type": "code",
   "execution_count": null,
   "id": "b0b70bf2-8b35-4992-aca4-37b78d249ee0",
   "metadata": {},
   "outputs": [],
   "source": [
    "argsorted"
   ]
  },
  {
   "cell_type": "code",
   "execution_count": null,
   "id": "9b516d01-9843-4527-a8fb-0a27e73af6a1",
   "metadata": {},
   "outputs": [],
   "source": [
    "print(grids[\"O\"].min())\n",
    "print(grids[\"O\"].max())"
   ]
  },
  {
   "cell_type": "code",
   "execution_count": null,
   "id": "a5489f9e-42be-48a8-a45b-dae03d43e5d4",
   "metadata": {},
   "outputs": [],
   "source": [
    "fig, ax = plt.subplots(1, 1, figsize=(3, 1.5))\n",
    "\n",
    "ax.plot(grids[\"O\"], gt[ii_star, :], color=\"black\", label=r\"{\\boldmath$\\mu$}$^{(i)}$\")\n",
    "for jj in range(30):\n",
    "    ax.plot(grids[\"O\"], pred[jj, ii_star, :], alpha=0.5, color=\"red\", label=r\"{\\boldmath$\\hat{\\mu}$}$^{(i, k)}$\" if jj == 0 else None)\n",
    "\n",
    "as_idx = 0\n",
    "ax.plot(grids[\"O\"], data[\"O\"][\"train\"][\"y\"][argsorted[as_idx]], color=\"black\", linestyle=\"--\", label=r\"{\\boldmath$\\mu$}$^\\star$\")\n",
    "\n",
    "print(data[\"O\"][\"test\"][\"names\"][ii_star])\n",
    "print(data[\"O\"][\"train\"][\"names\"][argsorted[as_idx]])\n",
    "\n",
    "avg_pred = pred[:, ii_star, :].mean(axis=0)\n",
    "std = pred[:, ii_star, :].std(axis=0).mean()\n",
    "print(np.log10(np.mean(np.abs(data[\"O\"][\"train\"][\"y\"][argsorted[as_idx]] - avg_pred))))\n",
    "print(np.log10(std))\n",
    "\n",
    "\n",
    "adj.set_grids(ax, grid=False)\n",
    "ax.set_yticklabels([])\n",
    "ax.set_xticks([530, 555, 580])\n",
    "ax.set_xlabel(r\"$E$~(e.V.)\")\n",
    "ax.set_ylabel(r\"$\\mu(E)$~(a.u.)\")\n",
    "ax.legend(frameon=False)\n",
    "\n",
    "plt.show()\n",
    "# plt.savefig(\"Figures/qm9_O_fail_spec.svg\", bbox_inches=\"tight\", dpi=300)"
   ]
  },
  {
   "cell_type": "code",
   "execution_count": null,
   "id": "0f0900f9-c905-439f-8230-f4421a204cda",
   "metadata": {},
   "outputs": [],
   "source": [
    "from rdkit import Chem\n",
    "\n",
    "names = [\"CCCC1(C)COC=N1\", \"CCCC1COC=N1\"]\n",
    "\n",
    "svgs = Chem.Draw.MolsToGridImage([Chem.MolFromSmiles(smile) for smile in names], useSVG=True)\n",
    "with open(\"Figures/qm9_O_fail.svg\", \"w\") as f:\n",
    "    f.write(svgs.data)"
   ]
  },
  {
   "cell_type": "markdown",
   "id": "e437192e-b119-4a55-9a9e-bec62ead5975",
   "metadata": {},
   "source": [
    "We also ran VASP calculations to try and figure out if this is truly a failure of FEFF."
   ]
  },
  {
   "cell_type": "code",
   "execution_count": null,
   "id": "ec0a1143-225c-4bd7-b1f9-5f83467b2f51",
   "metadata": {},
   "outputs": [],
   "source": [
    "feff1_path = \"data/qm9/qm9_tests/013393/FEFF/018_O/xmu.dat\"\n",
    "feff1 = np.loadtxt(feff1_path, comments=\"#\")\n",
    "\n",
    "feff2_path = \"data/qm9/qm9_tests/118981/FEFF/021_O/xmu.dat\"\n",
    "feff2 = np.loadtxt(feff2_path, comments=\"#\")\n",
    "\n",
    "vasp1_path = \"data/qm9/qm9_tests/013393/VASP/018_O/mu.txt\"\n",
    "vasp1 = np.loadtxt(vasp1_path, skiprows=3)\n",
    "\n",
    "vasp2_path = \"data/qm9/qm9_tests/118981/VASP/021_O/mu.txt\"\n",
    "vasp2 = np.loadtxt(vasp2_path, skiprows=3)"
   ]
  },
  {
   "cell_type": "code",
   "execution_count": null,
   "id": "ec12096f-47e6-4520-b1ac-b096e6d22fbb",
   "metadata": {},
   "outputs": [],
   "source": [
    "fig, ax = plt.subplots(1, 1, figsize=(3, 1.5))\n",
    "\n",
    "\n",
    "\n",
    "sig = 0.5\n",
    "mul = 10**5 * 2\n",
    "shift = 18\n",
    "\n",
    "ax.plot(vasp1[:, 0] + shift, broadGaussFast(vasp1[:, 0], vasp1[:, 3], sig) * mul, \"r-\")\n",
    "ax.plot(vasp2[:, 0] + shift, broadGaussFast(vasp2[:, 0], vasp2[:, 3], sig) * mul, \"k-\")\n",
    "\n",
    "\n",
    "\n",
    "for jj in range(30):\n",
    "    ax.plot(grids[\"O\"], pred[jj, ii_star, :], alpha=0.5, color=\"red\", label=r\"{\\boldmath$\\hat{\\mu}$}$^{(i, k)}$\" if jj == 0 else None)\n",
    "ax.plot(feff1[:, 0], feff1[:, 3], \"k-\")\n",
    "ax.plot(feff2[:, 0], feff2[:, 3], color=\"grey\", linewidth=1)\n",
    "    \n",
    "ax.set_xlim(525, 545)\n",
    "\n",
    "adj.set_grids(ax, grid=False)\n",
    "ax.set_yticklabels([])\n",
    "# ax.set_xticks([530, 555, 580])\n",
    "ax.set_xlabel(r\"$E$~(e.V.)\")\n",
    "ax.set_ylabel(r\"$\\mu(E)$~(a.u.)\")\n",
    "ax.legend(frameon=False)\n",
    "\n",
    "plt.show()"
   ]
  },
  {
   "cell_type": "markdown",
   "id": "974aac5d-459e-46b4-8aff-7ae3b8ab0008",
   "metadata": {
    "jp-MarkdownHeadingCollapsed": true,
    "tags": []
   },
   "source": [
    "### Examine some of the outlier predictions in the N database"
   ]
  },
  {
   "cell_type": "markdown",
   "id": "1efa59c5-63f8-46e0-8b9b-3356a70ec53f",
   "metadata": {},
   "source": [
    "Turns out some of these are from when the FEFF spectrum itself is slightly negative near the edge onset. This is now fixed."
   ]
  },
  {
   "cell_type": "code",
   "execution_count": null,
   "id": "da2fa69a-f384-42f8-9003-81c38225a7d7",
   "metadata": {},
   "outputs": [],
   "source": [
    "pred = preds[\"N\"][0.9].copy()\n",
    "gt = ground_truths[\"N\"].copy()\n",
    "    \n",
    "# Pointwise\n",
    "ensemble_pointwise_err = np.log10(np.abs(gt - pred.mean(axis=0)).flatten())\n",
    "ensemble_pointwise_std = np.log10(pred.std(axis=0).flatten())"
   ]
  },
  {
   "cell_type": "code",
   "execution_count": null,
   "id": "b6c48263-4775-4580-abfd-5f223ffe0613",
   "metadata": {},
   "outputs": [],
   "source": [
    "pred_index = np.array([ii // 200 for ii in range(len(ensemble_pointwise_err))])"
   ]
  },
  {
   "cell_type": "code",
   "execution_count": null,
   "id": "8538b2d1-d640-4469-86f5-98565c8a197e",
   "metadata": {},
   "outputs": [],
   "source": [
    "where_N_bad = np.where( (ensemble_pointwise_std < -4) & (ensemble_pointwise_err > -2) )[0]"
   ]
  },
  {
   "cell_type": "code",
   "execution_count": null,
   "id": "138793df-7ace-493c-93fc-1f2a66ab465c",
   "metadata": {},
   "outputs": [],
   "source": [
    "pred_index[where_N_bad]"
   ]
  },
  {
   "cell_type": "code",
   "execution_count": null,
   "id": "96634d2e-1c8d-4a51-b15f-30298cfe82f9",
   "metadata": {},
   "outputs": [],
   "source": [
    "fig, ax = plt.subplots(1, 1, figsize=(3, 2))\n",
    "\n",
    "ax.plot(pred[:, 4, :].mean(axis=0))\n",
    "ax.plot(gt[4, :])\n",
    "\n",
    "plt.show()"
   ]
  },
  {
   "cell_type": "code",
   "execution_count": null,
   "id": "1983aaff-641a-408a-9c36-cb2260261a51",
   "metadata": {},
   "outputs": [],
   "source": [
    "\n"
   ]
  },
  {
   "cell_type": "code",
   "execution_count": null,
   "id": "9628f008-68c0-4e72-a191-6438cb938725",
   "metadata": {},
   "outputs": [],
   "source": []
  },
  {
   "cell_type": "code",
   "execution_count": null,
   "id": "8770fa1a-cd19-4fb7-906c-7cd909e21680",
   "metadata": {},
   "outputs": [],
   "source": [
    "xx =  1 - 972766/8334600\n",
    "print(f\"C: {xx*100:.02f}% succeed\")\n",
    "xx = 1 - 302591/2717200\n",
    "print(f\"N: {xx*100:.02f}% succeed\")\n",
    "xx = 1 - 406832/3669800\n",
    "print(f\"O: {xx*100:.02f}% succeed\")"
   ]
  },
  {
   "cell_type": "markdown",
   "id": "a1852ca6-1705-4885-957f-e5d83397eec9",
   "metadata": {
    "tags": []
   },
   "source": [
    "## Plot some examples"
   ]
  },
  {
   "cell_type": "code",
   "execution_count": null,
   "id": "88da4155-9ecd-40ac-8f58-407825ecb3d8",
   "metadata": {},
   "outputs": [],
   "source": [
    "def mol_with_atom_index(mol):\n",
    "    for atom in mol.GetAtoms():\n",
    "        atom.SetAtomMapNum(atom.GetIdx())\n",
    "    return mol"
   ]
  },
  {
   "cell_type": "code",
   "execution_count": null,
   "id": "c32ad452-1363-40fd-972f-dfbb5ec38a32",
   "metadata": {},
   "outputs": [],
   "source": [
    "atom_type = \"C\"\n",
    "downsample = 0.9\n",
    "grid = grids[atom_type]\n",
    "pred = preds[\"C\"][downsample]\n",
    "gt = ground_truths[atom_type]"
   ]
  },
  {
   "cell_type": "code",
   "execution_count": null,
   "id": "82da743f-3585-454b-b80f-4c48e137a52b",
   "metadata": {},
   "outputs": [],
   "source": [
    "err = np.mean(np.abs(gt - pred.mean(axis=0)), axis=1)\n",
    "sorted_idx = np.argsort(err)[::-1]"
   ]
  },
  {
   "cell_type": "code",
   "execution_count": null,
   "id": "e217a362-2223-4399-a65a-d3b61a20d514",
   "metadata": {},
   "outputs": [],
   "source": [
    "fig, ax = plt.subplots(1, 1, figsize=(3, 5))\n",
    "\n",
    "n = 10\n",
    "smiles = []\n",
    "atom_indexes = []\n",
    "for ii in range(n):\n",
    "    \n",
    "    offset = ii * 6\n",
    "    idx = sorted_idx[int(ii / n * len(sorted_idx)) + 4]\n",
    "    \n",
    "    ground_truth_spectra = gt[idx, :]\n",
    "    predicted_spectra = pred[:, idx, :]\n",
    "\n",
    "    mu = predicted_spectra.mean(axis=0) + offset\n",
    "    sd = predicted_spectra.std(axis=0) * 3\n",
    "    smile = data[atom_type][\"test\"][\"origin_smiles\"][idx]\n",
    "    smiles.append(smile)\n",
    "    atom_index = data[atom_type][\"test\"][\"names\"][idx].split(\"_\")[1]\n",
    "    atom_indexes.append(atom_index)\n",
    "    print(smile, data[atom_type][\"test\"][\"names\"][idx], atom_index)\n",
    "    \n",
    "    label = r\"{\\boldmath$\\mu$}$^{(i)}$\" if ii == 0 else None\n",
    "    ax.plot(grid, ground_truth_spectra + offset, \"k-\", label=label, zorder=2, linewidth=0.5)\n",
    "\n",
    "    label = r\"{\\boldmath$\\hat{\\mu}$}$^{(i)}$\" if ii == 0 else None\n",
    "    ax.plot(grid, mu, color=\"red\", linewidth=1, label=label, zorder=4)\n",
    "    \n",
    "#     # for jj, prediction in enumerate(predicted_spectra):\n",
    "#     #     label = r\"$\\hat{\\mu}^{(i, k)}$\" if jj == 0 and ii == 0 else None \n",
    "#     #     ax.plot(grid, prediction + offset, 'r-', linewidth=0.5, alpha=0.5, label=label)\n",
    "#     # label=r\"{\\boldmath$\\mu$}$^\\star$\"\n",
    "    label = r\"$3${\\boldmath$\\hat{\\sigma}$}$^{(i)}$\" if ii == 0 else None\n",
    "    ax.fill_between(grid, mu - sd, mu + sd, color=\"red\", alpha=0.5, linewidth=0, label=label, zorder=3)\n",
    "    \n",
    "    err = np.log10(np.mean(np.abs(ground_truth_spectra - predicted_spectra))).item()\n",
    "    ax.text(0.9, 0.09 + ii / 10.5, r\"$%.02f$\" % err, ha=\"right\", va=\"center\", transform=ax.transAxes)\n",
    "    ax.text(0.7, 0.09 + ii / 10.5, atom_index, ha=\"right\", va=\"center\", transform=ax.transAxes)\n",
    "    \n",
    "ax.spines[\"right\"].set_visible(False)\n",
    "ax.spines[\"top\"].set_visible(False)\n",
    "ax.spines[\"left\"].set_linewidth(0.5)\n",
    "ax.spines[\"bottom\"].set_linewidth(0.5)\n",
    "adj.set_grids(ax, grid=False, top=False)\n",
    "ax.set_yticklabels([])\n",
    "ax.set_yticks([])\n",
    "ax.set_xlabel(r\"$E$~(e.V.)\")\n",
    "ax.set_ylabel(r\"$\\mu(E)$~(a.u.)\")\n",
    "ax.legend(frameon=False, ncol=3, loc=\"upper center\", bbox_to_anchor=(0.5, 1.1))\n",
    "\n",
    "# err = np.log10(np.mean(np.abs(gt[ii] - pred[ii])))\n",
    "# print(f\"{err:.02f}\")\n",
    "\n",
    "\n",
    "# plt.show()\n",
    "plt.savefig(\"Figures/qm9_C_random_preds-2.svg\", bbox_inches=\"tight\", dpi=300)"
   ]
  },
  {
   "cell_type": "code",
   "execution_count": null,
   "id": "822b019e-41a0-4487-b93d-d9f90bdf809f",
   "metadata": {},
   "outputs": [],
   "source": [
    "from rdkit import Chem\n",
    "svgs = Chem.Draw.MolsToGridImage([Chem.MolFromSmiles(smile) for smile in smiles], useSVG=True)\n",
    "with open(\"Figures/qm9_C_examples-2.svg\", \"w\") as f:\n",
    "    f.write(svgs.data)"
   ]
  }
 ],
 "metadata": {
  "kernelspec": {
   "display_name": "Python 3 (ipykernel)",
   "language": "python",
   "name": "python3"
  },
  "language_info": {
   "codemirror_mode": {
    "name": "ipython",
    "version": 3
   },
   "file_extension": ".py",
   "mimetype": "text/x-python",
   "name": "python",
   "nbconvert_exporter": "python",
   "pygments_lexer": "ipython3",
   "version": "3.9.12"
  },
  "toc-autonumbering": true,
  "toc-showmarkdowntxt": false
 },
 "nbformat": 4,
 "nbformat_minor": 5
}
