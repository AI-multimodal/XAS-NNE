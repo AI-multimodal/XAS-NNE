{
 "cells": [
  {
   "cell_type": "code",
   "execution_count": null,
   "id": "c7c0172d-ad8e-42f8-b796-b4ec7833e33e",
   "metadata": {},
   "outputs": [],
   "source": [
    "%load_ext autoreload\n",
    "%autoreload 2\n",
    "%config Completer.use_jedi = False"
   ]
  },
  {
   "cell_type": "code",
   "execution_count": null,
   "id": "f387788b-c16a-45d2-8e70-e309ca3b944d",
   "metadata": {},
   "outputs": [],
   "source": [
    "from datetime import datetime\n",
    "from pathlib import Path\n",
    "import pickle\n",
    "import sys\n",
    "import numpy as np\n",
    "from scipy.stats import sem\n",
    "from matplotlib.colors import Normalize \n",
    "from scipy.interpolate import interpn\n",
    "from IPython.display import clear_output\n",
    "from rdkit import Chem\n",
    "from PyAstronomy.pyasl import broadGaussFast\n",
    "\n",
    "import matplotlib.pyplot as plt\n",
    "from matplotlib import cm\n",
    "from pymatgen.core.structure import Molecule"
   ]
  },
  {
   "cell_type": "code",
   "execution_count": null,
   "id": "ab130d4f-c85e-4657-8b5f-5495d56be4d9",
   "metadata": {},
   "outputs": [],
   "source": [
    "# https://gist.github.com/x94carbone/f5201b1c44963ff9453b9cc1d5f768ac\n",
    "sys.path.append(str(Path.home() / Path(\"local\")))\n",
    "from mpl_utils import MPLAdjutant\n",
    "adj = MPLAdjutant()\n",
    "adj.set_defaults()"
   ]
  },
  {
   "cell_type": "code",
   "execution_count": null,
   "id": "50ca14ac-5de0-4927-8c29-b4d8899e03b9",
   "metadata": {},
   "outputs": [],
   "source": [
    "import matplotlib\n",
    "matplotlib.rcParams['text.latex.preamble']=[r\"\\usepackage{amsmath}\"]"
   ]
  },
  {
   "cell_type": "code",
   "execution_count": null,
   "id": "945382f5-6da2-4393-b5e7-2d4dc9a22245",
   "metadata": {},
   "outputs": [],
   "source": [
    "import json\n",
    "\n",
    "def save_json(d, path):\n",
    "    with open(path, 'w') as outfile:\n",
    "        json.dump(d, outfile, indent=4, sort_keys=True)\n",
    "\n",
    "def read_json(path):\n",
    "    with open(path, 'r') as infile:\n",
    "        dat = json.load(infile)\n",
    "    return dat"
   ]
  },
  {
   "cell_type": "markdown",
   "id": "1ecad749-6306-40bf-bb70-d9e5f7378648",
   "metadata": {},
   "source": [
    "Append the `home` path of this project."
   ]
  },
  {
   "cell_type": "code",
   "execution_count": null,
   "id": "ec7316d8-4839-49ba-9dfd-7afe6963313b",
   "metadata": {},
   "outputs": [],
   "source": [
    "# https://stackoverflow.com/questions/20105364/how-can-i-make-a-scatter-plot-colored-by-density-in-matplotlib\n",
    "def density_scatter(x, y, ax, sort=True, bins=20, **kwargs):\n",
    "    \"\"\"\n",
    "    Scatter plot colored by 2d histogram\n",
    "    \"\"\"\n",
    "\n",
    "    data , x_e, y_e = np.histogram2d( x, y, bins = bins, density = True )\n",
    "    z = interpn( ( 0.5*(x_e[1:] + x_e[:-1]) , 0.5*(y_e[1:]+y_e[:-1]) ) , data , np.vstack([x,y]).T , method = \"splinef2d\", bounds_error = False)\n",
    "\n",
    "    #To be sure to plot all data\n",
    "    z[np.where(np.isnan(z))] = 0.0\n",
    "\n",
    "    # Sort the points by density, so that the densest points are plotted last\n",
    "    if sort :\n",
    "        idx = z.argsort()\n",
    "        x, y, z = x[idx], y[idx], z[idx]\n",
    "\n",
    "    scat = ax.scatter(x, y, c=z, **kwargs)\n",
    "    return scat"
   ]
  },
  {
   "cell_type": "markdown",
   "id": "962c0676-04b5-4ce6-a2e3-9e565a5cdb99",
   "metadata": {},
   "source": [
    "# Load the data and trained ensembles"
   ]
  },
  {
   "cell_type": "code",
   "execution_count": null,
   "id": "fa7ab921-c3e2-4591-b712-8fb3e659ab67",
   "metadata": {},
   "outputs": [],
   "source": [
    "def load_trained_ensembles(ensemble_root_path=\"Ensembles\"):\n",
    "    ensembles = dict()\n",
    "    ensemble_paths = list(Path(ensemble_root_path).rglob(\"ensemble.json\"))\n",
    "    \n",
    "    for ensemble_path in ensemble_paths:\n",
    "        downsample_prop = float(ensemble_path.parent.parts[-1])\n",
    "        atom_key = str(ensemble_path).split(\"-ACSF-\")[1].split(\"-\")[0]\n",
    "        if \"TOTAL-ATOMS\" in str(ensemble_path):\n",
    "            n_atoms = str(ensemble_path).split(\"-TOTAL-ATOMS\")[0].split(\"-\")[-1]\n",
    "            atom_key = f\"{atom_key}-{n_atoms}\"\n",
    "        if atom_key not in ensembles.keys():\n",
    "            ensembles[atom_key] = dict()\n",
    "        ensembles[atom_key][downsample_prop] = Ensemble.from_dict(read_json(ensemble_path))\n",
    "\n",
    "    return ensembles\n",
    "\n",
    "def load_data():\n",
    "    return {\n",
    "        \"C\": pickle.load(open(\"data/qm9/ml_ready/XANES-220817-ACSF-C-distorted.pkl\", \"rb\"))\n",
    "    }"
   ]
  },
  {
   "cell_type": "code",
   "execution_count": null,
   "id": "af002061-1be5-4bdb-bdbc-d81b28aa640c",
   "metadata": {},
   "outputs": [],
   "source": [
    "data = load_data()[\"C\"]"
   ]
  },
  {
   "cell_type": "code",
   "execution_count": null,
   "id": "359ada67-ef9c-41dc-8075-6ef694014e68",
   "metadata": {},
   "outputs": [],
   "source": [
    "from xas_nne.ml import Ensemble"
   ]
  },
  {
   "cell_type": "code",
   "execution_count": null,
   "id": "ac99f198-f58d-4036-9a55-0b89f4150bfe",
   "metadata": {},
   "outputs": [],
   "source": [
    "ensembles = load_trained_ensembles()"
   ]
  },
  {
   "cell_type": "markdown",
   "id": "727f07db-ea31-459a-b4f1-3fb63e248e73",
   "metadata": {
    "tags": []
   },
   "source": [
    "# Evaluate the ensemble effectiveness on the randomly sampled data"
   ]
  },
  {
   "cell_type": "markdown",
   "id": "850d3f72-542f-423a-93a2-9212c186068b",
   "metadata": {
    "tags": []
   },
   "source": [
    "## Get the results compiled"
   ]
  },
  {
   "cell_type": "code",
   "execution_count": null,
   "id": "309a855e-4cfc-489a-bc3e-564e89604bd7",
   "metadata": {},
   "outputs": [],
   "source": [
    "# downsample_values = sorted([0.1, 0.2, 0.3, 0.4, 0.5, 0.6, 0.7, 0.8, 0.9], reverse=True)\n",
    "downsample_values = [0.9]"
   ]
  },
  {
   "cell_type": "code",
   "execution_count": null,
   "id": "a5be37ec-83da-4e41-90ac-911a1a8ed144",
   "metadata": {},
   "outputs": [],
   "source": [
    "ATOMS = [\"C\"]"
   ]
  },
  {
   "cell_type": "markdown",
   "id": "bc0220e4-a41d-4a20-baf6-1d218c45c19f",
   "metadata": {},
   "source": [
    "Each `preds[atom_type][downsample]` is of the shape `(N_ensemble, N_examples, M)`. These predictions are masked `numpy` arrays, where the mask values correspond to outlier predictions (relative to other estimators), or totally unphysical ones."
   ]
  },
  {
   "cell_type": "code",
   "execution_count": null,
   "id": "8482b18e-69ae-4410-9635-8284fcbf9e3d",
   "metadata": {},
   "outputs": [],
   "source": [
    "ensemble = ensembles[\"C\"][0.9]"
   ]
  },
  {
   "cell_type": "code",
   "execution_count": null,
   "id": "6e942f8a-a64f-4fa5-9c90-4d288d585c78",
   "metadata": {
    "tags": []
   },
   "outputs": [],
   "source": [
    "preds_no_filter = ensemble.predict(data[\"x\"])"
   ]
  },
  {
   "cell_type": "code",
   "execution_count": null,
   "id": "ea4af24d-5187-4ad9-87f6-aaae586741ed",
   "metadata": {
    "tags": []
   },
   "outputs": [],
   "source": [
    "preds = ensemble.predict_filter_outliers(\n",
    "    data[\"x\"],\n",
    "    sd_mult=2.0,\n",
    "    threshold_sd=0.7,\n",
    "    max_spectra_value=20.0,\n",
    "    threshold_zero=0.5,\n",
    "    min_spectra_value=0.05,\n",
    ")"
   ]
  },
  {
   "cell_type": "code",
   "execution_count": null,
   "id": "18def596-c585-4089-8348-e6d2926c1226",
   "metadata": {
    "tags": []
   },
   "outputs": [],
   "source": [
    "def get_indexes(distortion=None, qm9id=None, names=data[\"names\"]):\n",
    "    \n",
    "    if qm9id is not None and distortion is not None:\n",
    "        return np.array([\n",
    "            ii for ii, name in enumerate(names)\n",
    "            if str(qm9id) in name and f\"{distortion:.02f}\" in name\n",
    "        ])\n",
    "    \n",
    "    if qm9id is None and distortion is not None:\n",
    "        return np.array([\n",
    "            ii for ii, name in enumerate(names)\n",
    "            if f\"{distortion:.02f}\" in name\n",
    "        ])\n",
    "    \n",
    "    if qm9id is not None and distortion is None:\n",
    "        return np.array([\n",
    "            ii for ii, name in enumerate(names)\n",
    "            if str(qm9id) in name\n",
    "        ])\n",
    "    \n",
    "    raise ValueError"
   ]
  },
  {
   "cell_type": "code",
   "execution_count": null,
   "id": "e054e1c5-23c9-4ac8-95ac-1107ea1cc809",
   "metadata": {},
   "outputs": [],
   "source": [
    "grid = data[\"grid\"]"
   ]
  },
  {
   "cell_type": "code",
   "execution_count": null,
   "id": "9092cd03-40d4-4e36-b253-bd246d94cf3a",
   "metadata": {},
   "outputs": [],
   "source": [
    "errors = np.abs(data[\"y\"] - preds.mean(axis=0))"
   ]
  },
  {
   "cell_type": "markdown",
   "id": "9d4f2643-efe4-4bc6-99a1-54144e37246c",
   "metadata": {},
   "source": [
    "# Plot the errors as a function of the distortion"
   ]
  },
  {
   "cell_type": "code",
   "execution_count": null,
   "id": "1c0ef301-5269-4f43-ba8e-08cba5485d14",
   "metadata": {},
   "outputs": [],
   "source": [
    "qm9_ids = {129158: 7, 43138: 6, 87244: 1, 67255: 2, 50994: 1, 110619: 4, 108590: 6, 17249: 7, 104189: 0, 65272: 2}"
   ]
  },
  {
   "cell_type": "code",
   "execution_count": null,
   "id": "705fa7ba-85d3-45e1-85d7-cea81b161eed",
   "metadata": {},
   "outputs": [],
   "source": [
    "fig, ax = plt.subplots(1, 1, figsize=(3, 1.5), sharex=True, sharey=True)\n",
    "\n",
    "distortions = [0.01 + 0.01 * ii for ii in range(0, 10)]\n",
    "\n",
    "mean_errors = []\n",
    "std_errors = []\n",
    "mean_model_std = []\n",
    "std_model_std = []\n",
    "\n",
    "for distortion in distortions:\n",
    "    distortion = round(distortion, 2)\n",
    "    indexes = get_indexes(distortion=distortion)\n",
    "    e = errors[indexes, :]\n",
    "    p = preds[:, indexes, :]\n",
    "    mean_errors.append(e.mean())\n",
    "    std_errors.append(e.std())\n",
    "    mean_model_std.append(p.std(axis=0).mean())\n",
    "    std_model_std.append(p.std(axis=0).std())\n",
    "\n",
    "mean_errors = np.array(mean_errors)\n",
    "std_errors = np.array(std_errors)\n",
    "mean_model_std = np.array(mean_model_std)\n",
    "std_model_std = np.array(std_model_std)\n",
    "\n",
    "ax.plot(distortions, np.log10(mean_errors), 'ko-', label=r\"$\\log_{10} \\bar{\\varepsilon}_\\mathrm{dist.}(\\delta)$\" )\n",
    "# ax.fill_between(distortions, (mean_errors - std_errors), (mean_errors + std_errors), color='black', alpha=0.1, linewidth=0)\n",
    "\n",
    "ax.plot(distortions, np.log10(mean_model_std), 'ro-', label=r\"$\\log_{10} \\bar{\\sigma}_\\mathrm{dist.}(\\delta)$\")\n",
    "# ax.fill_between(distortions, (mean_model_std - std_model_std), (mean_model_std + std_model_std), color='red', alpha=0.1, linewidth=0)\n",
    "\n",
    "adj.set_grids(ax, grid=False)\n",
    "ax.set_xlabel(r\"$\\delta$~$(10^{-2}$ \\AA)\")\n",
    "ax.legend(frameon=False)\n",
    "\n",
    "ax.set_xticks([(0.01 + ii * 0.01) for ii in range(10)])\n",
    "ax.set_xticklabels([1, 2, 3, 4, 5, 6, 7, 8, 9, 10])\n",
    "\n",
    "adj.set_ylim(ax, -1.5, -0.5)\n",
    "ax.tick_params(bottom=False, top=False, which=\"minor\")\n",
    "\n",
    "plt.savefig(\"Figures/qm9_distortion_averages.svg\", bbox_inches=\"tight\", dpi=300)\n",
    "# plt.show()"
   ]
  },
  {
   "cell_type": "markdown",
   "id": "5d731ca2-3e26-418d-ba51-0c78e4750b24",
   "metadata": {},
   "source": [
    "# Plot the errors (scatterplot)"
   ]
  },
  {
   "cell_type": "code",
   "execution_count": null,
   "id": "5fa99280-7c9e-4e2d-a7eb-e636c86724d9",
   "metadata": {},
   "outputs": [],
   "source": [
    "cmap = cm.get_cmap(\"rainbow\", 10)\n",
    "distortions = [0.01 + 0.01 * ii for ii in range(0, 10)]"
   ]
  },
  {
   "cell_type": "code",
   "execution_count": null,
   "id": "de116ec1-ce7e-4043-ba73-72046f5b05f8",
   "metadata": {},
   "outputs": [],
   "source": [
    "scale = 0.4\n",
    "fig, axs = plt.subplots(len(qm9_ids), len(distortions), figsize=(3 * len(qm9_ids) * scale, 3 * len(qm9_ids) * scale), sharex=True, sharey=True)\n",
    "\n",
    "for ii, qm9id in enumerate(list(qm9_ids.keys())[::-1]):\n",
    "    for jj, distortion in enumerate(distortions):\n",
    "        distortion = round(distortion, 2)\n",
    "        \n",
    "        ax = axs[ii, jj]\n",
    "        adj.set_grids(ax, grid=False)\n",
    "        \n",
    "        if ii == 0:\n",
    "            ax.set_title(f\"{distortion:.02f}\", fontsize=16)\n",
    "        \n",
    "        indexes = get_indexes(distortion=distortion, qm9id=qm9id)\n",
    "        e = np.log10(errors[indexes, :].flatten())\n",
    "        p = np.log10(preds[:, indexes, :].std(axis=0).flatten())\n",
    "        \n",
    "        # ax.scatter(p, e, color=cmap(jj), alpha=0.5, s=1, rasterized=True)\n",
    "        density_scatter(p, e, ax=ax, sort=True, bins=20, s=1, alpha=1, rasterized=True)\n",
    "\n",
    "ax_min = -6\n",
    "ax_max = 2\n",
    "for ax in axs.flatten():\n",
    "    ax.set_xlim(ax_min, ax_max)\n",
    "    ax.set_ylim(ax_min, ax_max)\n",
    "    ax.set_xticks([-6, -2, 2])\n",
    "    ax.set_yticks([-6, -2, 2])\n",
    "    adj.set_grids(ax, grid=False)\n",
    "    adj.set_xlim(ax, ax_min, ax_max)\n",
    "    adj.set_ylim(ax, ax_min, ax_max)\n",
    "    \n",
    "plt.subplots_adjust(wspace=0.1, hspace=0.1)\n",
    "\n",
    "axs[0, 0].set_ylabel(r\"$\\log_{10} \\varepsilon^{(i)}_j$\", fontsize=16)\n",
    "axs[-1, 0].set_xlabel(r\"$\\log_{10} \\hat{\\sigma}^{(i)}_j$\", fontsize=16)\n",
    "\n",
    "plt.savefig(\"Figures/qm9_sigma_parity_distortion_test_3.svg\", bbox_inches=\"tight\", dpi=300)\n",
    "# plt.show()"
   ]
  },
  {
   "cell_type": "markdown",
   "id": "726a1fc3-6ef7-428d-91fb-a491e1a082fc",
   "metadata": {},
   "source": [
    "# Examples!"
   ]
  },
  {
   "cell_type": "code",
   "execution_count": null,
   "id": "ed8a7f51-3e22-4f1e-8665-f56d0db0351a",
   "metadata": {},
   "outputs": [],
   "source": [
    "scale = 0.4\n",
    "fig, axs = plt.subplots(len(qm9_ids), len(distortions), figsize=(3 * len(qm9_ids) * scale, 2 * len(qm9_ids) * scale), sharex=True, sharey=False)\n",
    "\n",
    "for ii, qm9id in enumerate(list(qm9_ids.keys())[::-1]):\n",
    "    for jj, distortion in enumerate(distortions):\n",
    "        distortion = round(distortion, 2)\n",
    "        \n",
    "        ax = axs[ii, jj]\n",
    "        adj.set_grids(ax, grid=False)\n",
    "        \n",
    "        if ii == 0:\n",
    "            ax.set_title(f\"{distortion:.02f}\", fontsize=16)\n",
    "        \n",
    "        index = get_indexes(distortion=distortion, qm9id=qm9id)[5]  # Random index, essentially\n",
    "        gt = data[\"y\"][index, :]\n",
    "        sd = preds[:, index, :].std(axis=0)\n",
    "        p = preds[:, index, :].mean(axis=0)\n",
    "        \n",
    "        ax.plot(grid, p, 'r', linewidth=0.5)\n",
    "        ax.fill_between(grid, p - 3*sd, p + 3*sd, color=\"red\", alpha=0.5, linewidth=0)\n",
    "        ax.plot(grid, gt, \"k\", linewidth=0.5)\n",
    "\n",
    "for ax in axs.flatten():\n",
    "    # ax.set_xticks([285, 315])\n",
    "    # adj.set_grids(ax, grid=False)\n",
    "    adj.set_xlim(ax, 275, 305)\n",
    "    # ax.set_yticks([])\n",
    "    # ax.set_ylim(bottom=-0.5, top=6.0)\n",
    "    ax.axis('off')\n",
    "\n",
    "plt.subplots_adjust(wspace=0.1, hspace=0.1)\n",
    "\n",
    "axs[0, 0].set_ylabel(r\"$\\mu(E)$~(a.u.)\", fontsize=16)\n",
    "axs[-1, 0].set_xlabel(r\"$E$~(e.V.)\", fontsize=16)\n",
    "\n",
    "plt.savefig(\"Figures/qm9_distortion_preds_waterfall.svg\", bbox_inches=\"tight\", dpi=300)\n",
    "# plt.show()"
   ]
  }
 ],
 "metadata": {
  "kernelspec": {
   "display_name": "Python 3 (ipykernel)",
   "language": "python",
   "name": "python3"
  },
  "language_info": {
   "codemirror_mode": {
    "name": "ipython",
    "version": 3
   },
   "file_extension": ".py",
   "mimetype": "text/x-python",
   "name": "python",
   "nbconvert_exporter": "python",
   "pygments_lexer": "ipython3",
   "version": "3.9.12"
  },
  "toc-autonumbering": true,
  "toc-showmarkdowntxt": false
 },
 "nbformat": 4,
 "nbformat_minor": 5
}
